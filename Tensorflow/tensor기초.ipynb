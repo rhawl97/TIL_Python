{
 "cells": [
  {
   "cell_type": "markdown",
   "metadata": {},
   "source": [
    "# Tensorflow 기초"
   ]
  },
  {
   "cell_type": "code",
   "execution_count": null,
   "metadata": {},
   "outputs": [],
   "source": [
    "3D 텐서 -> 2D 텐서 변환\n",
    "broadcasting 연산\n",
    "tensor product 연산\n",
    "import numpy as np\n",
    "\n",
    "x = np.array([[[1,2,3], \n",
    "                 [4,5,6]],\n",
    "                [[7,8,9], \n",
    "                 [8,7,5]]])\n",
    "#print(x)\n",
    "print(x[0])\n",
    "print(np.transpose(x[0]))\n",
    "#print(x.shape)\n",
    "#y = x.reshape(2, 6)\n",
    "#print(y)\n",
    "#z = np.array([10, 20, 30, 40, 50 ,60])\n",
    "#a = y * z   # broadcasting 연산 결과 예측해보기\n",
    "#print(a)"
   ]
  },
  {
   "cell_type": "code",
   "execution_count": null,
   "metadata": {},
   "outputs": [],
   "source": [
    "* 텐서 곱 연산\n",
    "x = np.array([[1,2,3],  [4,5,6]])\n",
    "y = np.array([[1, 2], [2, 3], [4,5]])\n",
    "z = np.dot(x, y)\n",
    "z = x.dot(y)\n",
    "print(z)"
   ]
  },
  {
   "cell_type": "code",
   "execution_count": null,
   "metadata": {},
   "outputs": [],
   "source": [
    "* 브로드캐스팅 연산\n",
    "# broadcasting\n",
    "x = np.random.random((4, 3, 2))\n",
    "y = np.random.random((3, 2))\n",
    "z = np.maximum(x, y)\n",
    "\n",
    "print(x.round(2))\n",
    "print(\"---\")\n",
    "print(y.round(2))\n",
    "print(\"---\")\n",
    "print(z.round(2))"
   ]
  },
  {
   "cell_type": "code",
   "execution_count": null,
   "metadata": {},
   "outputs": [],
   "source": [
    "* list에 대한 array 구조를 2차원(25000*10000) 텐서 구조로 바꾸는 것임\n",
    "* 텍스트 데이터에 대한 one-hot encoding 관련 코드 이해를 위한 심플 코드 연습\n",
    "import numpy as np\n",
    "x = np.array([[5, 6, 7, 8], [1, 2, 3]])\n",
    "results = np.zeros((2, 9))\n",
    "for i, s in enumerate(x):\n",
    "    results[i, s] = 1\n",
    "\n",
    "print(results)"
   ]
  },
  {
   "cell_type": "code",
   "execution_count": 1,
   "metadata": {},
   "outputs": [],
   "source": [
    "import numpy as np"
   ]
  },
  {
   "cell_type": "code",
   "execution_count": 3,
   "metadata": {},
   "outputs": [
    {
     "name": "stdout",
     "output_type": "stream",
     "text": [
      "[[0. 0. 0. 0. 0. 1. 1. 1. 1.]\n",
      " [0. 1. 1. 1. 0. 0. 0. 0. 0.]]\n"
     ]
    }
   ],
   "source": [
    "x = np.array([[5,6,7,8],[1,2,3]])\n",
    "\n",
    "results = np.zeros((2,9))  #출발이 0이기 때문에 끝은 9(0~8)\n",
    "for i,s in enumerate(x): #x의 원소는 2개 \n",
    "    results[i,s] = 1\n",
    "print(results)  #5,6,7,8 번째/1,2,3번째 자리에 1 --> onehotencoding"
   ]
  },
  {
   "cell_type": "code",
   "execution_count": null,
   "metadata": {},
   "outputs": [],
   "source": []
  }
 ],
 "metadata": {
  "kernelspec": {
   "display_name": "Python 3",
   "language": "python",
   "name": "python3"
  },
  "language_info": {
   "codemirror_mode": {
    "name": "ipython",
    "version": 3
   },
   "file_extension": ".py",
   "mimetype": "text/x-python",
   "name": "python",
   "nbconvert_exporter": "python",
   "pygments_lexer": "ipython3",
   "version": "3.5.6"
  }
 },
 "nbformat": 4,
 "nbformat_minor": 2
}

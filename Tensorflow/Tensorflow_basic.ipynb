{
 "cells": [
  {
   "cell_type": "markdown",
   "metadata": {},
   "source": [
    "# Tensorflow 기초"
   ]
  },
  {
   "cell_type": "code",
   "execution_count": 1,
   "metadata": {},
   "outputs": [
    {
     "name": "stdout",
     "output_type": "stream",
     "text": [
      "b'Hello, TensorFlow!'\n"
     ]
    }
   ],
   "source": [
    "# 간단한 메시지 출력하기\n",
    "import tensorflow as tf\n",
    "hello = tf.constant('Hello, TensorFlow!') #문자열 상수 생성 #노드에 해당 #tensorflow의 tensor변수임! 일반적인 파이썬 변수가 아니라 tensor를 만들어서 flow시켜줘야 함!\n",
    "sess = tf.Session()  #tensor가 flow하기 위한 객체 = Session  \n",
    "print(sess.run(hello))\n",
    "sess.close()"
   ]
  },
  {
   "cell_type": "code",
   "execution_count": 1,
   "metadata": {},
   "outputs": [
    {
     "name": "stdout",
     "output_type": "stream",
     "text": [
      "b'Hello, TensorFlow!'\n"
     ]
    }
   ],
   "source": [
    "# 경고가 발생할 경우 다음 코드 삽입\n",
    "import os\n",
    "os.environ['TF_CPP_MIN_LOG_LEVEL']='2'\n",
    "\n",
    "import tensorflow as tf\n",
    "hello = tf.constant('Hello, TensorFlow!')\n",
    "sess = tf.Session()\n",
    "print(sess.run(hello))\n",
    "sess.close()"
   ]
  },
  {
   "cell_type": "code",
   "execution_count": 3,
   "metadata": {},
   "outputs": [
    {
     "name": "stdout",
     "output_type": "stream",
     "text": [
      "6234\n"
     ]
    }
   ],
   "source": [
    "import tensorflow as tf\n",
    "\n",
    "# 상수 정의 (상수 객체 정의)\n",
    "# a와 b는 변수가 아니라 a와 b를 가리키는 reference\n",
    "a = tf.constant(1234)\n",
    "b = tf.constant(5000)\n",
    "# add 연산 정의 \n",
    "# add_op는 변수가 아니라 add연산자를 가리키는 reference\n",
    "add_op = a + b\n",
    "\n",
    "# 세션 시작하기(계산을 실행하기 위한 세션 실행) \n",
    "sess = tf.Session()\n",
    "\n",
    "# 세션 객체의 run method로 add_op객체의 값 계산하기\n",
    "res = sess.run(add_op) \n",
    "print(res)\n",
    "\n",
    "# 세션을 열었으면 반드시 close해야함\n",
    "sess.close()"
   ]
  },
  {
   "cell_type": "code",
   "execution_count": 1,
   "metadata": {},
   "outputs": [
    {
     "name": "stdout",
     "output_type": "stream",
     "text": [
      "name: \"a\"\n",
      "op: \"Const\"\n",
      "attr {\n",
      "  key: \"dtype\"\n",
      "  value {\n",
      "    type: DT_INT32\n",
      "  }\n",
      "}\n",
      "attr {\n",
      "  key: \"value\"\n",
      "  value {\n",
      "    tensor {\n",
      "      dtype: DT_INT32\n",
      "      tensor_shape {\n",
      "      }\n",
      "      int_val: 3\n",
      "    }\n",
      "  }\n",
      "}\n",
      "\n",
      "name: \"b\"\n",
      "op: \"Const\"\n",
      "attr {\n",
      "  key: \"dtype\"\n",
      "  value {\n",
      "    type: DT_INT32\n",
      "  }\n",
      "}\n",
      "attr {\n",
      "  key: \"value\"\n",
      "  value {\n",
      "    tensor {\n",
      "      dtype: DT_INT32\n",
      "      tensor_shape {\n",
      "      }\n",
      "      int_val: 3\n",
      "    }\n",
      "  }\n",
      "}\n",
      "\n",
      "name: \"add\"\n",
      "op: \"Add\"\n",
      "input: \"mul\"\n",
      "input: \"c\"\n",
      "attr {\n",
      "  key: \"T\"\n",
      "  value {\n",
      "    type: DT_INT32\n",
      "  }\n",
      "}\n",
      "\n",
      "name: \"mul\"\n",
      "op: \"Mul\"\n",
      "input: \"a\"\n",
      "input: \"b\"\n",
      "attr {\n",
      "  key: \"T\"\n",
      "  value {\n",
      "    type: DT_INT32\n",
      "  }\n",
      "}\n",
      "\n",
      "name: \"add\"\n",
      "op: \"Add\"\n",
      "input: \"mul\"\n",
      "input: \"c\"\n",
      "attr {\n",
      "  key: \"T\"\n",
      "  value {\n",
      "    type: DT_INT32\n",
      "  }\n",
      "}\n",
      "\n"
     ]
    }
   ],
   "source": [
    "import tensorflow as tf\n",
    "\n",
    "tensor_a = tf.constant(3, name=\"a\")\n",
    "tensor_b = tf.constant(3, name=\"b\")\n",
    "tensor_c = tf.constant(3, name=\"c\")\n",
    "\n",
    "tensor_d = tensor_a * tensor_b\n",
    "tensor_e = tensor_d + tensor_c\n",
    "\n",
    "sess = tf.Session()\n",
    "sess.run(tensor_e)\n",
    "sess.run(tensor_a)\n",
    "tf.get_default_graph().get_operations()\n",
    "print(tensor_a.op.node_def)\n",
    "print(tensor_b.op.node_def)\n",
    "print(tensor_e.op.node_def)\n",
    "print(tensor_d.op.node_def)\n",
    "print(tensor_e.op.node_def)"
   ]
  },
  {
   "cell_type": "code",
   "execution_count": 15,
   "metadata": {},
   "outputs": [
    {
     "name": "stdout",
     "output_type": "stream",
     "text": [
      "14\n",
      "20\n"
     ]
    }
   ],
   "source": [
    "import tensorflow as tf\n",
    "# 상수 정의하기 \n",
    "a = tf.constant(2) #2를 담고있는 a라는 객체 \n",
    "b = tf.constant(3)\n",
    "c = tf.constant(4)\n",
    "# 연산 정의하기 \n",
    "calc1_op = a + b * c\n",
    "calc2_op = (a + b) * c\n",
    "# 세션 시작하기 \n",
    "sess = tf.Session()\n",
    "res1 = sess.run(calc1_op) # 식 평가하기\n",
    "print(res1)\n",
    "res2 = sess.run(calc2_op) # 식 평가하기\n",
    "print(res2)\n",
    "sess.close()"
   ]
  },
  {
   "cell_type": "code",
   "execution_count": 1,
   "metadata": {},
   "outputs": [
    {
     "name": "stdout",
     "output_type": "stream",
     "text": [
      "14\n",
      "20\n"
     ]
    }
   ],
   "source": [
    "import tensorflow as tf\n",
    "# 상수 정의하기 \n",
    "a = tf.constant(2)\n",
    "b = tf.constant(3)\n",
    "c = tf.constant(4)\n",
    "# 연산 정의하기 \n",
    "calc1_op = a + b * c\n",
    "calc2_op = (a + b) * c\n",
    "# 세션 시작하기\n",
    "# 다음과 같이 실행할 경우 sess.close 생략 가능\n",
    "\n",
    "with tf.Session()  as sess:\n",
    "   res1 = sess.run(calc1_op) # 식 평가하기\n",
    "   print(res1)\n",
    "   res2 = sess.run(calc2_op) # 식 평가하기\n",
    "   print(res2)"
   ]
  },
  {
   "cell_type": "code",
   "execution_count": 19,
   "metadata": {},
   "outputs": [
    {
     "name": "stdout",
     "output_type": "stream",
     "text": [
      "b'Hello, TensorFlow!'\n",
      "Hello, TensorFlow!\n"
     ]
    }
   ],
   "source": [
    "import tensorflow as tf\n",
    "hello = tf.constant('Hello, TensorFlow!') \n",
    "\n",
    "with tf.Session()  as sess:\n",
    "    # hello는 bytes type\n",
    "    byte_hello = sess.run(hello)\n",
    "    print(byte_hello)\n",
    "    # string type으로 변환 가능\n",
    "    str_hello = byte_hello.decode(encoding='utf-8')\n",
    "    print(str_hello)"
   ]
  },
  {
   "cell_type": "code",
   "execution_count": 30,
   "metadata": {},
   "outputs": [
    {
     "name": "stdout",
     "output_type": "stream",
     "text": [
      "10\n"
     ]
    }
   ],
   "source": [
    "import tensorflow as tf\n",
    "\n",
    "# 변수 정의하기 (10은 초기값. 변수는 반드시 초기값을 부여해야함)\n",
    "v = tf.Variable(10)\n",
    "\n",
    "with tf.Session() as sess:\n",
    "   #변수를 사용할 경우 반드시 다음과 같은 초기화를 해야 실행이 됨 \n",
    "   sess.run(tf.global_variables_initializer())\n",
    "   result = sess.run(v)\n",
    "   print(result)"
   ]
  },
  {
   "cell_type": "code",
   "execution_count": 5,
   "metadata": {},
   "outputs": [
    {
     "name": "stdout",
     "output_type": "stream",
     "text": [
      "a:  <tf.Variable 'Variable_4:0' shape=() dtype=int32_ref>\n",
      "b:  Tensor(\"Assign_4:0\", shape=(), dtype=int32_ref)\n",
      "1\n",
      "10\n",
      "10\n"
     ]
    }
   ],
   "source": [
    "import tensorflow as tf\n",
    "\n",
    "a = tf.Variable(1)\n",
    "\n",
    "# 변수객체 a을 10으로 변경하는 assign 연산을 정의\n",
    "# b는 assign 연산을 기르키는 reference\n",
    "b = tf.assign(a, 10) \n",
    "\n",
    "print (\"a: \", a) # 객체정보 출력\n",
    "print (\"b: \", b) # 객체정보 출력\n",
    "\n",
    "with tf.Session() as sess:\n",
    "   sess.run(tf.global_variables_initializer())\n",
    "\n",
    "   print (sess.run(a)) # a만 실행(a==1)\n",
    "   print (sess.run(b)) # b실행(assign 연산 실행) (b==10, a==10)\n",
    "   print (sess.run(a)) # b를 실행한 이후이므로 a는 변경된 10을 출력\n"
   ]
  },
  {
   "cell_type": "code",
   "execution_count": 2,
   "metadata": {},
   "outputs": [
    {
     "name": "stdout",
     "output_type": "stream",
     "text": [
      "1\n",
      "2\n",
      "6\n",
      "2\n"
     ]
    }
   ],
   "source": [
    "import tensorflow as tf\n",
    "\n",
    "a = tf.Variable(1) #a는 tensor 객체\n",
    "b = a * 3  #a는 tensor 3은 파이썬 상수 --> 연산 시행하면 파이썬 상수가 tensor객체로 바뀌어서 알아서 계산됨 \n",
    "c = tf.assign(a, tf.add(a, 1))\n",
    "\n",
    "\n",
    "sess = tf.Session()\n",
    "sess.run(tf.global_variables_initializer())\n",
    "\n",
    "print (sess.run(a)) # a <- 1\n",
    "print (sess.run(c)) # a <- 2, c <- 2 (add(1,1))\n",
    "print (sess.run(b)) # b <- 2 * 3\n",
    "print (sess.run(a)) # a <- 2"
   ]
  },
  {
   "cell_type": "markdown",
   "metadata": {},
   "source": [
    "### tensorboard"
   ]
  },
  {
   "cell_type": "code",
   "execution_count": 1,
   "metadata": {},
   "outputs": [
    {
     "name": "stdout",
     "output_type": "stream",
     "text": [
      "1\n",
      "2\n",
      "6\n",
      "2\n"
     ]
    }
   ],
   "source": [
    "import tensorflow as tf\n",
    "\n",
    "a = tf.Variable(1)\n",
    "b = a * 3\n",
    "c = tf.assign(a, tf.add(a, 1))\n",
    "\n",
    "\n",
    "sess = tf.Session()\n",
    "\n",
    "# tensorboard로 표현하기 위해 log 기록\n",
    "# log_dir 폴더에 로그가 기록됨\n",
    "tw = tf.summary.FileWriter(\"log_dir\", graph=sess.graph)\n",
    "\n",
    "sess.run(tf.global_variables_initializer())\n",
    "\n",
    "print (sess.run(a)) # a <- 1\n",
    "print (sess.run(c)) # a <- 2, c <- 2 \n",
    "print (sess.run(b)) # b <- 2 * 3\n",
    "print (sess.run(a)) # a <- 2"
   ]
  },
  {
   "cell_type": "code",
   "execution_count": 4,
   "metadata": {},
   "outputs": [
    {
     "name": "stdout",
     "output_type": "stream",
     "text": [
      "1\n",
      "3\n",
      "2\n",
      "2\n"
     ]
    }
   ],
   "source": [
    "import tensorflow as tf\n",
    "\n",
    "a = tf.Variable(1, name=\"a\")\n",
    "b = a * 3\n",
    "c = tf.add(a, 1, name='c')\n",
    "d = tf.assign(a, c, name=\"d\")\n",
    "\n",
    "\n",
    "sess = tf.Session()\n",
    "\n",
    "\n",
    "tw = tf.summary.FileWriter(\"log_dir\", graph=sess.graph)\n",
    "\n",
    "sess.run(tf.global_variables_initializer())\n",
    "\n",
    "print (sess.run(a)) # a <- 1\n",
    "print (sess.run(b)) \n",
    "print (sess.run(d)) \n",
    "print (sess.run(a)) # a <- 2"
   ]
  },
  {
   "cell_type": "code",
   "execution_count": 5,
   "metadata": {},
   "outputs": [
    {
     "name": "stdout",
     "output_type": "stream",
     "text": [
      "1\n",
      "1\n",
      "Tensor(\"a_3:0\", shape=(), dtype=int32)\n",
      "2\n",
      "2\n"
     ]
    }
   ],
   "source": [
    "import tensorflow as tf\n",
    "# 상수 정의하기 \n",
    "a = tf.constant(120)\n",
    "b = tf.constant(130)\n",
    "c = tf.constant(140)\n",
    "# 변수 정의하기 \n",
    "v = tf.Variable(0)\n",
    "v = tf.assign(v, 1)\n",
    "j = v+1\n",
    "# 데이터 플로우 그래프 정의하기 \n",
    "k=a  #k는 a라는 상수를 가리키는 변수\n",
    "v=1  #v는 더 이상 tensor를 가리키지 않음. 일반 변수임\n",
    "print(v) #실행됨\n",
    "k=1\n",
    "print(k) #실행됨\n",
    "print(a) # 타입만 출력되고 실제값은 안나옴. session을 실행해야 결과 출력됨\n",
    "\n",
    "o = tf.add(1,1)  # 1은 파이썬 상수이고 o는 tensor임. \n",
    "                 # tf 연산자에 피연산자가 일반 상수가 올 수 있음. 단 결과는 텐서로 만들어짐\n",
    "                 # o = 1+1은 o가 텐서가 아님. 파이썬 변수임. 단 두개의 1중에 하나라도 텐서이면 o는 텐서가 됨\n",
    "# 세션 실행하기 \n",
    "sess = tf.Session()\n",
    "#sess.run(v)\n",
    "# v의 내용 출력하기 \n",
    "#print( sess.run(k) ) # error: k는 tensor가 아님\n",
    "#print( sess.run(v) ) # error: v는 tensor가 아님\n",
    "print( sess.run(j) ) # 정상\n",
    "print(sess.run(o)) # 정상"
   ]
  },
  {
   "cell_type": "code",
   "execution_count": 1,
   "metadata": {},
   "outputs": [
    {
     "name": "stdout",
     "output_type": "stream",
     "text": [
      "3\n",
      "1\n",
      "4\n"
     ]
    }
   ],
   "source": [
    "import tensorflow as tf\n",
    "\n",
    "x = tf.Variable(0)\n",
    "y = tf.assign(x, 1)  \n",
    "x=x+3\n",
    "\n",
    "with tf.Session() as sess:\n",
    "    tw = tf.summary.FileWriter(\"log_dir\", graph=sess.graph)\n",
    "    \n",
    "    # 초기화 안하면 x변수가 0으로 초기화가 안됨\n",
    "    sess.run(tf.global_variables_initializer()) \n",
    "    print(sess.run(x))\n",
    "    print(sess.run(y))\n",
    "    print(sess.run(x))"
   ]
  },
  {
   "cell_type": "code",
   "execution_count": null,
   "metadata": {
    "collapsed": true
   },
   "outputs": [],
   "source": [
    "import tensorflow as tf\n",
    "# 플레이스홀더 정의하기 --- (※1)\n",
    "a = tf.placeholder(tf.int32, [3]) # 정수 자료형 3개를 가진 배열\n",
    "# 배열을 모든 값을 2배하는 연산 정의하기 --- (※2)\n",
    "b = tf.constant(2)\n",
    "x2_op = a * b\n",
    "# 세션 시작하기 --- (※3)\n",
    "sess = tf.Session()\n",
    "# 플레이스홀더에 값을 넣고 실행하기 --- (※4)\n",
    "r1 = sess.run(x2_op, feed_dict={ a:[1, 2, 3] })\n",
    "print(r1)\n",
    "r2 = sess.run(x2_op, feed_dict={ a:[10, 20, 10] })\n",
    "print(r2)"
   ]
  },
  {
   "cell_type": "markdown",
   "metadata": {},
   "source": [
    "### placeholder"
   ]
  },
  {
   "cell_type": "code",
   "execution_count": 4,
   "metadata": {},
   "outputs": [
    {
     "name": "stdout",
     "output_type": "stream",
     "text": [
      "6.0\n"
     ]
    }
   ],
   "source": [
    "import tensorflow as tf\n",
    "\n",
    "# float type의 placeholder 정의\n",
    "a = tf.placeholder(\"float\")  #placeholder: tensor 객체를 담을 수 있는 빈 메모리 공간  #미리 값 설정 x, run할 때서야 값을 넣음 \n",
    "b = tf.placeholder(\"float\")\n",
    "\n",
    "y = tf.add(a, b)\n",
    "\n",
    "with tf.Session() as sess:\n",
    "       result = sess.run(y, feed_dict={a: 3, b: 3})  # placeholder에 값을 대입하여 연산 #sess.run(노드명, feed_dict:데이터) -> key: value\n",
    "       print(result)"
   ]
  },
  {
   "cell_type": "code",
   "execution_count": 2,
   "metadata": {},
   "outputs": [
    {
     "name": "stdout",
     "output_type": "stream",
     "text": [
      "[2 4 6]\n",
      "[20 40 20]\n"
     ]
    }
   ],
   "source": [
    "import tensorflow as tf\n",
    "\n",
    "a = tf.placeholder(tf.int32, [3]) #3개의 정수 넣겠다 \n",
    "\n",
    "b = tf.constant(2)\n",
    "x2_op = a * b\n",
    "\n",
    "with tf.Session() as sess:\n",
    "    r1 = sess.run(x2_op, feed_dict={ a:[1, 2, 3] })  #값 여러개 넣고 싶을 때 값으로 array넣으면 됨!\n",
    "    print(r1)\n",
    "    r2 = sess.run(x2_op, feed_dict={ a:[10, 20, 10] })\n",
    "    print(r2)"
   ]
  },
  {
   "cell_type": "code",
   "execution_count": 5,
   "metadata": {},
   "outputs": [
    {
     "name": "stdout",
     "output_type": "stream",
     "text": [
      "[10 20 30 40 50]\n",
      "[100 200]\n"
     ]
    }
   ],
   "source": [
    "import tensorflow as tf\n",
    "\n",
    "# 플레이스홀더 정의\n",
    "# 배열의 크기를 None으로 지정. 1차원 배열이란 것만 명시\n",
    "a = tf.placeholder(tf.int32, [None])  #개수를 모를 경우가 대부분 --> None으로 표시 \n",
    "# 배열의 모든 값을 10배하는 연산 정의하기 \n",
    "\n",
    "b = tf.constant(10)\n",
    "x10_op = a * b\n",
    "\n",
    "with tf.Session() as sess:\n",
    "     # 플레이스홀더에 값을 넣어 실행\n",
    "     r1 = sess.run(x10_op, feed_dict={a: [1,2,3,4,5]})\n",
    "     print(r1)\n",
    "     r2 = sess.run(x10_op, feed_dict={a: [10,20]})\n",
    "     print(r2)"
   ]
  },
  {
   "cell_type": "code",
   "execution_count": null,
   "metadata": {
    "collapsed": true
   },
   "outputs": [],
   "source": []
  }
 ],
 "metadata": {
  "kernelspec": {
   "display_name": "Python 3",
   "language": "python",
   "name": "python3"
  },
  "language_info": {
   "codemirror_mode": {
    "name": "ipython",
    "version": 3
   },
   "file_extension": ".py",
   "mimetype": "text/x-python",
   "name": "python",
   "nbconvert_exporter": "python",
   "pygments_lexer": "ipython3",
   "version": "3.5.6"
  }
 },
 "nbformat": 4,
 "nbformat_minor": 2
}

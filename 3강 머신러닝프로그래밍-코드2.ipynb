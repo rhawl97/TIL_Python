{
 "cells": [
  {
   "cell_type": "markdown",
   "metadata": {},
   "source": [
    "# 모듈 및 패키지 활용\n",
    "## 모듈: 각종 변수, 함수, 클래스를 담고 있는 화일 (.py 단위)\n",
    "- Import 모듈1, 모듈2\n",
    "- 모듈.변수, 모듈.함수(), 모듈.클래스()"
   ]
  },
  {
   "cell_type": "code",
   "execution_count": 45,
   "metadata": {},
   "outputs": [
    {
     "name": "stdout",
     "output_type": "stream",
     "text": [
      "원주율은 3.1415926536 입니다\n",
      "원주율은 3.141592653589793 입니다\n",
      "2.0\n"
     ]
    }
   ],
   "source": [
    "import math\n",
    "print(\"원주율은 %.10f 입니다\" % math.pi) #math안에 포함된 pi라는 변수 #f: float #소수점 10개까지!\n",
    "print(\"원주율은 {0} 입니다\".format(math.pi)) #소수점 개수 제어 불가 \n",
    "print(math.sqrt(4.0)) #math안에 포함된 sqrt라는 함수  #tab키로 추천된 함수,변수,클래스명 확인 가능 #shift+tab: 도움말\n",
    "\n",
    "# math -> m으로 이름 변환하여 사용\n"
   ]
  },
  {
   "cell_type": "markdown",
   "metadata": {},
   "source": [
    "*  from import: 모듈의 일부만 가져옴"
   ]
  },
  {
   "cell_type": "code",
   "execution_count": 43,
   "metadata": {},
   "outputs": [
    {
     "name": "stdout",
     "output_type": "stream",
     "text": [
      "원주율은 3.1416 입니다.\n",
      "2.0\n"
     ]
    }
   ],
   "source": [
    "from math import pi, sqrt #모듈과 모듈의 일부 모두 약자로 칭할 수 있음 ex) import numpy as np\n",
    "#from math import *\n",
    "print(\"원주율은 %.4f 입니다.\" %pi)  #float 서식으로! %.4f\n",
    "print(sqrt(4.0))"
   ]
  },
  {
   "cell_type": "code",
   "execution_count": 2,
   "metadata": {},
   "outputs": [
    {
     "name": "stdout",
     "output_type": "stream",
     "text": [
      "Collecting pandas\n",
      "  Downloading https://files.pythonhosted.org/packages/b3/59/38c88e1b26779b287a82c3d7601ec42c15e4acef09196e870c4fe9b77bd4/pandas-0.24.2-cp35-cp35m-win_amd64.whl (8.5MB)\n",
      "Requirement already satisfied: python-dateutil>=2.5.0 in c:\\users\\kim yuum\\appdata\\local\\conda\\conda\\envs\\yum_env\\lib\\site-packages (from pandas) (2.7.3)\n",
      "Collecting pytz>=2011k (from pandas)\n",
      "  Downloading https://files.pythonhosted.org/packages/61/28/1d3920e4d1d50b19bc5d24398a7cd85cc7b9a75a490570d5a30c57622d34/pytz-2018.9-py2.py3-none-any.whl (510kB)\n",
      "Requirement already satisfied: numpy>=1.12.0 in c:\\users\\kim yuum\\appdata\\local\\conda\\conda\\envs\\yum_env\\lib\\site-packages (from pandas) (1.15.2)\n",
      "Requirement already satisfied: six>=1.5 in c:\\users\\kim yuum\\appdata\\local\\conda\\conda\\envs\\yum_env\\lib\\site-packages (from python-dateutil>=2.5.0->pandas) (1.12.0)\n",
      "Installing collected packages: pytz, pandas\n",
      "Successfully installed pandas-0.24.2 pytz-2018.9\n"
     ]
    }
   ],
   "source": [
    "!pip install pandas"
   ]
  },
  {
   "cell_type": "markdown",
   "metadata": {},
   "source": [
    "## Scikit-learn을 이용한 machine learning"
   ]
  },
  {
   "cell_type": "code",
   "execution_count": 3,
   "metadata": {},
   "outputs": [],
   "source": [
    "import pandas as pd\n",
    "from sklearn import svm, metrics\n",
    "# XOR 연산\n",
    "xor_input = [\n",
    "    [0, 0, 0],\n",
    "    [0, 1, 1],\n",
    "    [1, 0, 1],\n",
    "    [1, 1, 0]\n",
    "]"
   ]
  },
  {
   "cell_type": "code",
   "execution_count": 2,
   "metadata": {},
   "outputs": [
    {
     "name": "stdout",
     "output_type": "stream",
     "text": [
      "   0  1  2\n",
      "0  0  0  0\n",
      "1  0  1  1\n",
      "2  1  0  1\n",
      "3  1  1  0 \n",
      "\n",
      "   0  1\n",
      "0  0  0\n",
      "1  0  1\n",
      "2  1  0\n",
      "3  1  1\n",
      "정답률 = 1.0\n"
     ]
    },
    {
     "name": "stderr",
     "output_type": "stream",
     "text": [
      "c:\\users\\hjkim\\appdata\\local\\programs\\python\\python35\\lib\\site-packages\\sklearn\\svm\\base.py:196: FutureWarning: The default value of gamma will change from 'auto' to 'scale' in version 0.22 to account better for unscaled features. Set gamma explicitly to 'auto' or 'scale' to avoid this warning.\n",
      "  \"avoid this warning.\", FutureWarning)\n"
     ]
    }
   ],
   "source": [
    "xor_df = pd.DataFrame(xor_input)\n",
    "print(xor_df, \"\\n\")\n",
    "\n",
    "# 입력을 학습 전용 데이터와 테스트 전용 데이터로 분류하기 \n",
    "xor_data  = xor_df[[0,1]] # 데이터 (COLUMN 선택)\n",
    "xor_label = xor_df[2]   # 레이블\n",
    "\n",
    "print(xor_data)\n",
    "    \n",
    "# 데이터 학습과 예측하기 (SVM)\n",
    "clf = svm.SVC()\n",
    "clf.fit(xor_data, xor_label)\n",
    "pre = clf.predict(xor_data)\n",
    "\n",
    "# 정답률 구하기 \n",
    "ac_score = metrics.accuracy_score(xor_label, pre)\n",
    "print(\"정답률 =\", ac_score)"
   ]
  },
  {
   "cell_type": "code",
   "execution_count": 47,
   "metadata": {},
   "outputs": [
    {
     "name": "stdout",
     "output_type": "stream",
     "text": [
      "정답률 = 0.9666666666666667\n",
      "[[ 7  0  0]\n",
      " [ 0 12  1]\n",
      " [ 0  0 10]]\n"
     ]
    },
    {
     "name": "stderr",
     "output_type": "stream",
     "text": [
      "c:\\users\\hjkim\\appdata\\local\\programs\\python\\python35\\lib\\site-packages\\sklearn\\svm\\base.py:196: FutureWarning: The default value of gamma will change from 'auto' to 'scale' in version 0.22 to account better for unscaled features. Set gamma explicitly to 'auto' or 'scale' to avoid this warning.\n",
      "  \"avoid this warning.\", FutureWarning)\n"
     ]
    }
   ],
   "source": [
    "import pandas as pd\n",
    "from sklearn import svm, neighbors, metrics\n",
    "from sklearn.model_selection import train_test_split\n",
    "from sklearn.metrics import confusion_matrix\n",
    "\n",
    "# 붓꽃의 CSV 데이터 읽어 들이기 --- (※1)\n",
    "csv = pd.read_csv('iris.csv')\n",
    "#print(csv)\n",
    "# 필요한 열 추출하기 --- (※2)\n",
    "#csv_data = csv[[\"SepalLength\",\"SepalWidth\",\"PetalLength\",\"PetalWidth\"]]\n",
    "csv_data = csv.iloc[:, [0,1,2,3]]\n",
    "#print(csv_data)\n",
    "#csv_label = csv[\"Name\"]\n",
    "csv_label = csv.iloc[:, 4]\n",
    "# 학습 전용 데이터와 테스트 전용 데이터로 나누기 --- (※3)\n",
    "train_data, test_data, train_label, test_label = train_test_split(csv_data, csv_label, test_size=0.2)\n",
    "# SVM으로 학습시키고 예측하기 --- (※4)\n",
    "clf = svm.SVC()\n",
    "clf.fit(train_data, train_label)\n",
    "pred = clf.predict(test_data)\n",
    "# 정답률 구하기 --- (※5)\n",
    "acc_score = metrics.accuracy_score(test_label, pred)\n",
    "print(\"정답률 =\", acc_score)\n",
    "print(confusion_matrix(test_label, pred))"
   ]
  },
  {
   "cell_type": "code",
   "execution_count": 67,
   "metadata": {},
   "outputs": [
    {
     "name": "stdout",
     "output_type": "stream",
     "text": [
      "정답률 = 0.9666666666666667\n",
      "[[ 7  0  0]\n",
      " [ 0 12  1]\n",
      " [ 0  0 10]]\n"
     ]
    }
   ],
   "source": [
    "################################################\n",
    "# KNN으로 학습시키고 예측하기 --- (※4)\n",
    "clf = neighbors.KNeighborsClassifier(n_neighbors=9,  p=3, metric='minkowski')  #거리 측정 함수 parameter지정 #유클리디안 함수를 일반화한 것 p=2 / p=2이면 manhattan\n",
    "clf.fit(train_data, train_label)\n",
    "pred = clf.predict(test_data)\n",
    "# 정답률 구하기 --- (※5)\n",
    "acc_score = metrics.accuracy_score(test_label, pred)\n",
    "print(\"정답률 =\", acc_score)\n",
    "print(confusion_matrix(test_label, pred)) #교차행렬 testlabel pred 세로 정답 가로 예측  예측율=대각원소합/전체합 ##시험에 나와###"
   ]
  },
  {
   "cell_type": "code",
   "execution_count": 75,
   "metadata": {},
   "outputs": [
    {
     "name": "stdout",
     "output_type": "stream",
     "text": [
      "정답률 = 0.9666666666666667\n",
      "[[ 7  0  0]\n",
      " [ 0 13  0]\n",
      " [ 0  1  9]]\n",
      "120\n",
      "1\n"
     ]
    }
   ],
   "source": [
    "from sklearn.naive_bayes import GaussianNB, MultinomialNB\n",
    "\n",
    "################################################\n",
    "# NB로 학습시키고 예측하기 --- (※4)\n",
    "clf = GaussianNB()\n",
    "clf.fit(train_data, train_label)\n",
    "pred = clf.predict(test_data)\n",
    "# 정답률 구하기 --- (※5)\n",
    "acc_score = metrics.accuracy_score(test_label, pred)\n",
    "print(\"정답률 =\", acc_score)\n",
    "print(confusion_matrix(test_label, pred))"
   ]
  },
  {
   "cell_type": "code",
   "execution_count": 2,
   "metadata": {},
   "outputs": [
    {
     "name": "stdout",
     "output_type": "stream",
     "text": [
      "정답률 = 0.9333333333333333\n",
      "[[ 8  0  0]\n",
      " [ 0 10  0]\n",
      " [ 0  2 10]]\n",
      "테스트 데이터의 개수: 30\n",
      "오분류 개수: 2\n"
     ]
    }
   ],
   "source": [
    "from sklearn import datasets\n",
    "import pandas as pd\n",
    "from sklearn import svm, neighbors, metrics\n",
    "from sklearn.model_selection import train_test_split\n",
    "from sklearn.metrics import confusion_matrix\n",
    "from sklearn.naive_bayes import GaussianNB, MultinomialNB\n",
    "\n",
    "iris = datasets.load_iris()\n",
    "train_data, test_data, train_label, test_label = train_test_split(iris.data, iris.target, test_size=0.2)\n",
    "\n",
    "#clf = GaussianNB()\n",
    "clf = MultinomialNB()\n",
    "clf.fit(train_data, train_label)\n",
    "pred = clf.predict(test_data)\n",
    "acc_score = metrics.accuracy_score(test_label, pred)\n",
    "print(\"정답률 =\", acc_score)\n",
    "print(confusion_matrix(test_label, pred))\n",
    "\n",
    "print(\"테스트 데이터의 개수: %d\" % test_data.shape[0])\n",
    "print(\"오분류 개수: %d\" % (test_label != pred).sum())"
   ]
  },
  {
   "cell_type": "markdown",
   "metadata": {},
   "source": [
    "## 모델 시각화"
   ]
  },
  {
   "cell_type": "code",
   "execution_count": 58,
   "metadata": {},
   "outputs": [
    {
     "data": {
      "image/png": "[encoded data removed]",
      "text/plain": [
       "<Figure size 432x288 with 1 Axes>"
      ]
     },
     "metadata": {
      "needs_background": "light"
     },
     "output_type": "display_data"
    }
   ],
   "source": [
    "from mlxtend.plotting import plot_decision_regions\n",
    "import matplotlib.pyplot as plt\n",
    "from sklearn import datasets\n",
    "from sklearn.svm import SVC\n",
    "from sklearn.model_selection import train_test_split\n",
    "from sklearn.ensemble import RandomForestClassifier\n",
    "\n",
    "# Loading some example data\n",
    "iris = datasets.load_iris()\n",
    "X = iris.data[:, [2, 3]] #시각화는 2차원밖에 안되기 때문에 2,3만 가져옴 \n",
    "y = iris.target  #target이라는 내부변수 \n",
    "\n",
    "# Training a classifier\n",
    "#clf = SVC(C=0.5, kernel='rbf')\n",
    "clf = RandomForestClassifier(criterion='entropy', n_estimators=10, random_state=1, n_jobs=2)\n",
    "clf.fit(X, y)\n",
    "\n",
    "# Plotting decision regions\n",
    "plot_decision_regions(X, y, clf=clf, legend=2)\n",
    "\n",
    "# Adding axes annotations\n",
    "plt.xlabel('sepal length [cm]')\n",
    "plt.ylabel('petal length [cm]')\n",
    "plt.title('Classification Model on Iris')\n",
    "plt.show()\n",
    "\n"
   ]
  },
  {
   "cell_type": "markdown",
   "metadata": {},
   "source": [
    "## Wine 데이터 분류 \n",
    "- Wine 종류: **Red**, **White**, **Rose**"
   ]
  },
  {
   "cell_type": "code",
   "execution_count": 154,
   "metadata": {},
   "outputs": [
    {
     "name": "stdout",
     "output_type": "stream",
     "text": [
      "     예측  정답\n",
      "141   3   3\n",
      "140   3   3\n",
      "128   2   2\n",
      "48    1   1\n",
      "122   2   2\n",
      "59    2   2\n",
      "77    2   2\n",
      "43    2   1\n",
      "62    2   2\n",
      "74    2   2\n",
      "Accuracy: 0.97222\n",
      "[[ 9  1  0]\n",
      " [ 0 18  0]\n",
      " [ 0  0  8]]\n"
     ]
    },
    {
     "name": "stderr",
     "output_type": "stream",
     "text": [
      "c:\\users\\hjkim\\appdata\\local\\programs\\python\\python35\\lib\\site-packages\\sklearn\\preprocessing\\data.py:323: DataConversionWarning: Data with input dtype int64, float64 were all converted to float64 by MinMaxScaler.\n",
      "  return self.partial_fit(X, y)\n",
      "c:\\users\\hjkim\\appdata\\local\\programs\\python\\python35\\lib\\site-packages\\sklearn\\svm\\base.py:196: FutureWarning: The default value of gamma will change from 'auto' to 'scale' in version 0.22 to account better for unscaled features. Set gamma explicitly to 'auto' or 'scale' to avoid this warning.\n",
      "  \"avoid this warning.\", FutureWarning)\n"
     ]
    }
   ],
   "source": [
    "import pandas as pd\n",
    "from sklearn import datasets\n",
    "from sklearn import svm, metrics\n",
    "from sklearn.naive_bayes import GaussianNB, MultinomialNB\n",
    "from sklearn import neighbors, metrics, model_selection\n",
    "#from sklearn.model_selection import train_test_split\n",
    "from sklearn.preprocessing import MinMaxScaler\n",
    "from sklearn.metrics import confusion_matrix\n",
    "\n",
    "#wine = datasets.load_wine()\n",
    "\n",
    "scaler = MinMaxScaler()   #변수마다 척도가 다르기 때문에 스케일링 필요 #0과 1사이로 맞춰주는 #객체 생성\n",
    "wine = pd.read_csv('wine.csv')\n",
    "wine_data = wine.iloc[ : ,1:14] #class 아닌 컬럼 \n",
    "wine_label = wine[\"class\"] #class column\n",
    "\n",
    "#print(wine_data.iloc[0:5, :])\n",
    "#print(type(wine_data))\n",
    "wine_data = scaler.fit_transform(wine_data)  #scaler라는 객체에 fit_transform이라는 함수 \n",
    "#print(type(wine_data))\n",
    "#print(wine_data[0:5, : ])\n",
    "\n",
    "train_data, test_data, train_label, test_label = train_test_split(wine_data, wine_label, test_size=0.2)  #default 25%\n",
    "\n",
    "clf = svm.SVC()\n",
    "#clf = GaussianNB()\n",
    "#clf = MultinomialNB()\n",
    "#clf = neighbors.KNeighborsClassifier()\n",
    "clf.fit(train_data, train_label)\n",
    "pred = clf.predict(test_data)\n",
    "result = pd.DataFrame({\"정답\": test_label, \"예측\": pred})\n",
    "print(result[0:10])\n",
    "acc_score = metrics.accuracy_score(test_label, pred)\n",
    "print(\"Accuracy: %.5f\" % acc_score)\n",
    "print(confusion_matrix(test_label, pred))\n",
    "#scores = model_selection.cross_val_score(clf, csv_data, csv_label, cv=5)\n",
    "#print(scores)\n",
    "#print(scores.mean())"
   ]
  },
  {
   "cell_type": "code",
   "execution_count": 130,
   "metadata": {},
   "outputs": [
    {
     "name": "stdout",
     "output_type": "stream",
     "text": [
      "   SepalLength  SepalWidth\n",
      "0          5.1         3.5\n",
      "1          4.9         3.0\n",
      "2          4.7         3.2\n",
      "3          4.6         3.1\n",
      "4          5.0         3.6\n",
      "5          5.4         3.9\n",
      "6          4.6         3.4\n",
      "7          5.0         3.4\n",
      "8          4.4         2.9\n",
      "9          4.9         3.1\n"
     ]
    }
   ],
   "source": [
    "import pandas as pd\n",
    "\n",
    "csv = pd.read_csv('iris.csv')\n",
    "print(csv.iloc[0:10,0:2])\n",
    "#print(csv[\"SepalLength\"])"
   ]
  },
  {
   "cell_type": "code",
   "execution_count": 10,
   "metadata": {},
   "outputs": [
    {
     "name": "stdout",
     "output_type": "stream",
     "text": [
      "   PetalWidth\n",
      "0         0.2\n",
      "1         0.2\n",
      "2         0.2\n",
      "3         0.2\n",
      "4         0.2\n",
      "5         0.4\n",
      "6         0.3\n",
      "7         0.2\n",
      "8         0.2\n"
     ]
    }
   ],
   "source": [
    "# 필요한 열 추출하기 \n",
    "csv_data = csv[[\"SepalLength\",\"SepalWidth\",\"PetalLength\",\"PetalWidth\"]]  #DataFrame\n",
    "# csv_data = csv.iloc[:, 0:4]\n",
    "# csv_data = csv.iloc[:, [0,1,2,3]]\n",
    "print(csv_data.iloc[0:9 ,3:4])\n",
    "csv_label = csv[\"Name\"]  # Series\n",
    "# csv_label = csv.iloc[:,4]\n",
    "#print(csv_label[1:5])"
   ]
  },
  {
   "cell_type": "code",
   "execution_count": 46,
   "metadata": {},
   "outputs": [],
   "source": [
    "import pandas as pd\n",
    "from sklearn.model_selection import train_test_split\n",
    "\n",
    "# 학습 전용 데이터와 테스트 전용 데이터로 나누기 \n",
    "train_data, test_data, train_label, test_label = train_test_split(csv_data, csv_label)"
   ]
  },
  {
   "cell_type": "code",
   "execution_count": 47,
   "metadata": {},
   "outputs": [
    {
     "name": "stdout",
     "output_type": "stream",
     "text": [
      "정답률 = 0.9473684210526315\n"
     ]
    },
    {
     "name": "stderr",
     "output_type": "stream",
     "text": [
      "c:\\users\\hjkim\\appdata\\local\\programs\\python\\python35\\lib\\site-packages\\sklearn\\svm\\base.py:196: FutureWarning: The default value of gamma will change from 'auto' to 'scale' in version 0.22 to account better for unscaled features. Set gamma explicitly to 'auto' or 'scale' to avoid this warning.\n",
      "  \"avoid this warning.\", FutureWarning)\n"
     ]
    }
   ],
   "source": [
    "# 데이터 학습시키고 예측하기 \n",
    "clf = svm.SVC()\n",
    "clf.fit(train_data, train_label)\n",
    "pre = clf.predict(test_data)\n",
    "# 정답률 구하기 \n",
    "ac_score = metrics.accuracy_score(test_label, pre)\n",
    "print(\"정답률 =\", ac_score)"
   ]
  },
  {
   "cell_type": "markdown",
   "metadata": {},
   "source": [
    "### SVM을 이용한 iris 데이터 분류 full code"
   ]
  },
  {
   "cell_type": "code",
   "execution_count": 5,
   "metadata": {},
   "outputs": [
    {
     "name": "stdout",
     "output_type": "stream",
     "text": [
      "               label       prediction\n",
      "118   Iris-virginica   Iris-virginica\n",
      "2        Iris-setosa      Iris-setosa\n",
      "80   Iris-versicolor  Iris-versicolor\n",
      "138   Iris-virginica   Iris-virginica\n",
      "\n",
      "정답률 = 0.9473684210526315\n",
      "[[12  0  0]\n",
      " [ 0 11  2]\n",
      " [ 0  0 13]]\n"
     ]
    },
    {
     "name": "stderr",
     "output_type": "stream",
     "text": [
      "c:\\users\\hjkim\\appdata\\local\\programs\\python\\python35\\lib\\site-packages\\sklearn\\svm\\base.py:196: FutureWarning: The default value of gamma will change from 'auto' to 'scale' in version 0.22 to account better for unscaled features. Set gamma explicitly to 'auto' or 'scale' to avoid this warning.\n",
      "  \"avoid this warning.\", FutureWarning)\n"
     ]
    }
   ],
   "source": [
    "import pandas as pd\n",
    "from sklearn import svm, metrics\n",
    "from sklearn.model_selection import train_test_split\n",
    "from sklearn.metrics import confusion_matrix\n",
    "\n",
    "# 붓꽃의 CSV 데이터 읽어 들이기 \n",
    "csv = pd.read_csv('iris.csv')\n",
    "\n",
    "# 필요한 열 추출하기 \n",
    "csv_data = csv[[\"SepalLength\",\"SepalWidth\",\"PetalLength\",\"PetalWidth\"]]\n",
    "csv_label = csv[\"Name\"]\n",
    "\n",
    "# 학습 전용 데이터와 테스트 전용 데이터로 나누기 \n",
    "train_data, test_data, train_label, test_label = train_test_split(csv_data, csv_label)\n",
    "\n",
    "# 데이터 학습시키고 예측하기\n",
    "clf = svm.SVC() #shift tab눌러보면 kernel함수가 rbf로 default설정되어있음을 알 수 있당\n",
    "clf.fit(train_data, train_label)\n",
    "pre = clf.predict(test_data)\n",
    "\n",
    "result = pd.DataFrame({\"label\": test_label, \"prediction\":pre})\n",
    "\n",
    "print(result[1:5])\n",
    "\n",
    "# 정답률 구하기 \n",
    "ac_score = metrics.accuracy_score(test_label, pre)\n",
    "print(\"\\n정답률 =\", ac_score)\n",
    "print(confusion_matrix(test_label, pre))"
   ]
  },
  {
   "cell_type": "markdown",
   "metadata": {},
   "source": [
    "## MNIST"
   ]
  },
  {
   "cell_type": "code",
   "execution_count": 62,
   "metadata": {},
   "outputs": [
    {
     "name": "stdout",
     "output_type": "stream",
     "text": [
      "28 28 784\n"
     ]
    }
   ],
   "source": [
    "import struct\n",
    "\n",
    "# 레이블 파일과 이미지 파일 열기 #open함수 설명 \n",
    "lbl_f = open(\"./mnist/train-labels.idx1-ubyte\", \"rb\") #하드디스크에 있는 이미지 데이터 메모리에 적재 #buffer(임시 메모리공간) #\"rb\":read\n",
    "img_f = open(\"./mnist/train-images.idx3-ubyte\", \"rb\") #적재된 이미지를 가리키는 말 for 메모리 접근: img_f\n",
    "csv_f = open(\"./mnist/train.csv\", \"w\", encoding=\"utf-8\") #집어넣을 때도 메모리 필요 -> open(\"w\") write용\n",
    "    \n",
    "# 헤더 정보 읽기 \n",
    "mag, lbl_count = struct.unpack(\">II\", lbl_f.read(8)) # unpack함수: Binary 값 -> 정수 변환 #8byte씩 읽어들인다\n",
    "#print(mag, lbl_count)\n",
    "#label = struct.unpack(\"B\", lbl_f.read(1))[0] # 레이블 데이터 1개 read\n",
    "#print(label)\n",
    "#label = struct.unpack(\"B\", lbl_f.read(1))[0] # 레이블 데이터 1개 read\n",
    "#print(label)\n",
    "#label = struct.unpack(\"B\", lbl_f.read(1))[0] # 레이블 데이터 1개 read\n",
    "#print(label)\n",
    "mag, img_count = struct.unpack(\">II\", img_f.read(8)) # 0x1234 를  [12][34] 로 표현, Little Endian은 [34][12]로 표현\n",
    "#print(mag, img_count)\n",
    "rows, cols = struct.unpack(\">II\", img_f.read(8))\n",
    "pixels = rows * cols\n",
    "print(rows, cols, pixels)"
   ]
  },
  {
   "cell_type": "code",
   "execution_count": 63,
   "metadata": {},
   "outputs": [],
   "source": [
    "    # 이미지 데이터를 읽고 CSV로 저장하기 \n",
    "    res = []\n",
    "    for idx in range(lbl_count): #60000번 반복 \n",
    "        if idx > 1000: break   # 1000 개만 load\n",
    "        label = struct.unpack(\"B\", lbl_f.read(1))[0] # 레이블 데이터 1개 read , B : unsigned char\n",
    "        bdata = img_f.read(pixels)   # image data 28*28 read\n",
    "        sdata = list(map(lambda n: str(n), bdata)) # 한 pixel씩 문자열로 변환한 후에 list로 변환\n",
    "        \n",
    "        # csv로 저장\n",
    "        csv_f.write(str(label)+\",\")\n",
    "        csv_f.write(\",\".join(sdata)+\"\\r\\n\")"
   ]
  },
  {
   "cell_type": "code",
   "execution_count": 64,
   "metadata": {},
   "outputs": [],
   "source": [
    "        if idx < 10:\n",
    "            s = \"P2 28 28 255\\n\"\n",
    "            s += \" \".join(sdata)\n",
    "            iname = \"./mnist/{0}-{1}-{2}.pgm\".format(name,idx,label)\n",
    "            with open(iname, \"w\", encoding=\"utf-8\") as f:\n",
    "                f.write(s)"
   ]
  },
  {
   "cell_type": "markdown",
   "metadata": {},
   "source": [
    "### csv 변환 full code"
   ]
  },
  {
   "cell_type": "code",
   "execution_count": 63,
   "metadata": {},
   "outputs": [],
   "source": [
    "import struct\n",
    "def to_csv(name, maxdata):  #keras에서는 편하게 할 수 있음 \n",
    "    # 레이블 파일과 이미지 파일 열기\n",
    "    lbl_f = open(\"./mnist/\"+name+\"-labels.idx1-ubyte\", \"rb\")\n",
    "    img_f = open(\"./mnist/\"+name+\"-images.idx3-ubyte\", \"rb\")\n",
    "    csv_f = open(\"./mnist/\"+name+\".csv\", \"w\", encoding=\"utf-8\")\n",
    "    # 헤더 정보 읽기 \n",
    "    mag, lbl_count = struct.unpack(\">II\", lbl_f.read(8))\n",
    "    mag, img_count = struct.unpack(\">II\", img_f.read(8))\n",
    "    rows, cols = struct.unpack(\">II\", img_f.read(8))\n",
    "    pixels = rows * cols\n",
    "    # 이미지 데이터를 읽고 CSV로 저장하기 \n",
    "    res = []\n",
    "    for idx in range(lbl_count):\n",
    "        if idx > maxdata: break\n",
    "        label = struct.unpack(\"B\", lbl_f.read(1))[0]\n",
    "        bdata = img_f.read(pixels)\n",
    "        sdata = list(map(lambda n: str(n), bdata))\n",
    "        csv_f.write(str(label)+\",\")\n",
    "        csv_f.write(\",\".join(sdata)+\"\\r\\n\")\n",
    "        # 잘 저장됐는지 이미지 파일로 저장해서 테스트하기 \n",
    "        if idx < 10:\n",
    "            s = \"P2 28 28 255\\n\"\n",
    "            s += \" \".join(sdata)\n",
    "            iname = \"./mnist/{0}-{1}-{2}.pgm\".format(name,idx,label)\n",
    "            with open(iname, \"w\", encoding=\"utf-8\") as f: ##open(,,\"r\"): read용 open(,,\"w\"): write용 \n",
    "                f.write(s)\n",
    "    csv_f.close()\n",
    "    lbl_f.close()\n",
    "    img_f.close()\n",
    "# 결과를 파일로 출력하기 \n",
    "to_csv(\"train\", 60000)\n",
    "to_csv(\"t10k\", 500)"
   ]
  },
  {
   "cell_type": "code",
   "execution_count": 65,
   "metadata": {},
   "outputs": [],
   "source": [
    "import pandas as pd\n",
    "from sklearn import svm, metrics\n",
    "\n",
    "train = pd.read_csv('./mnist/train.csv')\n",
    "test = pd.read_csv('./mnist/t10k.csv')\n",
    "\n",
    "# 필요한 열 추출하기 \n",
    "train_images = train.iloc[:, 1:]\n",
    "train_label = train.iloc[:, 0]\n",
    "test_images = test.iloc[:, 1:]\n",
    "test_label = test.iloc[:, 0]\n",
    "\n",
    "#print(train_label)"
   ]
  },
  {
   "cell_type": "markdown",
   "metadata": {},
   "source": [
    "### MNIST 예측"
   ]
  },
  {
   "cell_type": "code",
   "execution_count": null,
   "metadata": {},
   "outputs": [
    {
     "name": "stderr",
     "output_type": "stream",
     "text": [
      "c:\\users\\hjkim\\appdata\\local\\programs\\python\\python35\\lib\\site-packages\\sklearn\\svm\\base.py:196: FutureWarning: The default value of gamma will change from 'auto' to 'scale' in version 0.22 to account better for unscaled features. Set gamma explicitly to 'auto' or 'scale' to avoid this warning.\n",
      "  \"avoid this warning.\", FutureWarning)\n"
     ]
    }
   ],
   "source": [
    "import pandas as pd\n",
    "from sklearn import svm, metrics\n",
    "\n",
    "# 붓꽃의 CSV 데이터 읽어 들이기 \n",
    "train = pd.read_csv('./mnist/train.csv')  #픽셀값 0~255: 진할수록 값이 큼 \n",
    "test = pd.read_csv('./mnist/t10k.csv')\n",
    "\n",
    "# 필요한 열 추출하기 \n",
    "train_images = train.iloc[:, 1:]\n",
    "train_label = train.iloc[:, 0]\n",
    "test_images = test.iloc[:, 1:]\n",
    "test_label = test.iloc[:, 0]\n",
    "\n",
    "# 0과 1사이의 실수로 정규화\n",
    "train_images = train_images.astype('float32')\n",
    "test_images = test_images.astype('float32')\n",
    "train_images = train_images/255  #값이 0과 1사이로 바뀜 (픽셀 최대값 255)\n",
    "test_images = test_images/255\n",
    "\n",
    "# 데이터 학습시키고 예측하기\n",
    "clf = svm.SVC()\n",
    "clf.fit(train_images, train_label)\n",
    "pre = clf.predict(test_images)\n",
    "\n",
    "result = pd.DataFrame({\"label\": test_label, \"prediction\":pre})\n",
    "\n",
    "print(result[0:10])\n",
    "\n",
    "# 정답률 구하기 \n",
    "ac_score = metrics.accuracy_score(test_label, pre)\n",
    "print(\"\\n정답률 =\", ac_score)"
   ]
  },
  {
   "cell_type": "markdown",
   "metadata": {},
   "source": [
    "### preprocessing"
   ]
  },
  {
   "cell_type": "markdown",
   "metadata": {},
   "source": [
    "### 정규화"
   ]
  },
  {
   "cell_type": "code",
   "execution_count": 34,
   "metadata": {},
   "outputs": [
    {
     "name": "stdout",
     "output_type": "stream",
     "text": [
      "     col     scale\n",
      "0  14.00 -1.995290\n",
      "1  90.20  0.436356\n",
      "2  90.95  0.460289\n",
      "3  96.27  0.630058\n",
      "4  91.21  0.468586\n",
      "     col     scale  minmax_scale\n",
      "0  14.00 -1.995290      0.000000\n",
      "1  90.20  0.436356      0.926219\n",
      "2  90.95  0.460289      0.935335\n",
      "3  96.27  0.630058      1.000000\n",
      "4  91.21  0.468586      0.938495\n"
     ]
    }
   ],
   "source": [
    "import pandas as pd\n",
    "from sklearn.preprocessing import scale, minmax_scale, MinMaxScaler\n",
    "\n",
    "x = pd.DataFrame({'col':[14.00,90.20,90.95,96.27,91.21]})\n",
    "# 평균 0, 분산을 이용해 정규화\n",
    "# astype(float)는 scale의 입력이 float이므로 warning방지를 위해 변환\n",
    "x[\"scale\"] = scale(x[['col']])  # z-scoring\n",
    "    \n",
    "print(x)\n",
    "# 0과 과 1 사이의 값으로 변환\n",
    "x['minmax_scale'] = minmax_scale(x[['col']]) # min-max scaling\n",
    "\n",
    "print(x)"
   ]
  },
  {
   "cell_type": "code",
   "execution_count": 24,
   "metadata": {},
   "outputs": [
    {
     "name": "stdout",
     "output_type": "stream",
     "text": [
      "          A         B      C\n",
      "0  0.000000  0.000000    big\n",
      "1  0.926219  0.363636  small\n",
      "2  0.935335  0.628645    big\n",
      "3  1.000000  0.961407  small\n",
      "4  0.938495  1.000000  small\n",
      "          A         B      C\n",
      "0  0.000000  0.000000    big\n",
      "1  0.926219  0.363636  small\n",
      "2  0.935335  0.628645    big\n",
      "3  1.000000  0.961407  small\n",
      "4  0.938495  1.000000  small\n"
     ]
    }
   ],
   "source": [
    "import pandas as pd\n",
    "from sklearn.preprocessing import MinMaxScaler\n",
    "from sklearn.preprocessing import scale, minmax_scale\n",
    "\n",
    "\n",
    "scaler = MinMaxScaler()\n",
    "\n",
    "dfTest = pd.DataFrame({'A':[14.00,90.20,90.95,96.27,91.21],\n",
    "                       'B':[103.02,107.26,110.35,114.23,114.68],\n",
    "                       'C':['big','small','big','small','small']})\n",
    "\n",
    "#result = scaler.fit_transform(dfTest[['A']])\n",
    "dfTest[['A', 'B']] = scaler.fit_transform(dfTest[['A', 'B']])\n",
    "print(dfTest)\n",
    "dfTest[['A', 'B']] = minmax_scale(dfTest[['A', 'B']])\n",
    "print(dfTest)"
   ]
  },
  {
   "cell_type": "markdown",
   "metadata": {},
   "source": [
    "## Encoding"
   ]
  },
  {
   "cell_type": "code",
   "execution_count": 28,
   "metadata": {},
   "outputs": [
    {
     "name": "stdout",
     "output_type": "stream",
     "text": [
      "['amsterdam' 'paris' 'seoul' 'tokyo']\n",
      "['amsterdam' 'paris' 'seoul' 'tokyo']\n"
     ]
    }
   ],
   "source": [
    "from sklearn import preprocessing\n",
    "le = preprocessing.LabelEncoder()\n",
    "\n",
    "r = le.fit([\"paris\", \"paris\", \"tokyo\", \"amsterdam\", \"seoul\"])\n",
    "print(r.classes_)\n",
    "print(le.classes_)"
   ]
  },
  {
   "cell_type": "code",
   "execution_count": 33,
   "metadata": {},
   "outputs": [
    {
     "name": "stdout",
     "output_type": "stream",
     "text": [
      "['amsterdam' 'paris' 'seoul' 'tokyo']\n",
      "[3 3 1 0 2]\n",
      "['tokyo' 'tokyo' 'paris' 'amsterdam' 'seoul']\n"
     ]
    }
   ],
   "source": [
    "from sklearn import preprocessing\n",
    "le = preprocessing.LabelEncoder() #onehotencoding하기 위한 객체를 만들어놓음\n",
    "\n",
    "le.fit([\"paris\", \"paris\", \"tokyo\", \"amsterdam\", \"seoul\"]) #코드화\n",
    "print(le.classes_) #알파벳 순서로 코드화 \n",
    "#print(type(le.classes_), \"\\n\")\n",
    "\n",
    "data = le.transform([\"tokyo\", \"tokyo\", \"paris\", \"amsterdam\", \"seoul\"]) #코드화된 코드로 변환 \n",
    "print(data)\n",
    "#print(type(data), \"\\n\")\n",
    "\n",
    "original = le.inverse_transform([3, 3, 1, 0, 2])\n",
    "print(original)\n",
    "#print(type(data))"
   ]
  },
  {
   "cell_type": "code",
   "execution_count": 44,
   "metadata": {},
   "outputs": [
    {
     "name": "stdout",
     "output_type": "stream",
     "text": [
      "[97, 98, 99, 100, 101, 102, 103, 104, 105, 106, 107, 108, 109, 110, 111, 112, 113, 114, 115, 116, 117, 118, 119, 120, 121, 122]\n"
     ]
    },
    {
     "ename": "ValueError",
     "evalue": "bad input shape (1, 3)",
     "output_type": "error",
     "traceback": [
      "\u001b[1;31m---------------------------------------------------------------------------\u001b[0m",
      "\u001b[1;31mValueError\u001b[0m                                Traceback (most recent call last)",
      "\u001b[1;32m<ipython-input-44-5e2448bd592e>\u001b[0m in \u001b[0;36m<module>\u001b[1;34m\u001b[0m\n\u001b[0;32m      8\u001b[0m \u001b[1;33m\u001b[0m\u001b[0m\n\u001b[0;32m      9\u001b[0m \u001b[0mle\u001b[0m\u001b[1;33m.\u001b[0m\u001b[0mfit\u001b[0m\u001b[1;33m(\u001b[0m\u001b[0mstr\u001b[0m\u001b[1;33m)\u001b[0m\u001b[1;33m\u001b[0m\u001b[0m\n\u001b[1;32m---> 10\u001b[1;33m \u001b[0mdata\u001b[0m \u001b[1;33m=\u001b[0m \u001b[0mle\u001b[0m\u001b[1;33m.\u001b[0m\u001b[0mtransform\u001b[0m\u001b[1;33m(\u001b[0m\u001b[1;33m[\u001b[0m\u001b[1;33m[\u001b[0m\u001b[1;34m'x'\u001b[0m\u001b[1;33m,\u001b[0m \u001b[1;34m'y'\u001b[0m\u001b[1;33m,\u001b[0m \u001b[1;34m'z'\u001b[0m\u001b[1;33m]\u001b[0m\u001b[1;33m]\u001b[0m\u001b[1;33m)\u001b[0m\u001b[1;33m\u001b[0m\u001b[0m\n\u001b[0m\u001b[0;32m     11\u001b[0m \u001b[1;31m#print(data)\u001b[0m\u001b[1;33m\u001b[0m\u001b[1;33m\u001b[0m\u001b[0m\n\u001b[0;32m     12\u001b[0m \u001b[1;33m\u001b[0m\u001b[0m\n",
      "\u001b[1;32mc:\\users\\hjkim\\appdata\\local\\programs\\python\\python35\\lib\\site-packages\\sklearn\\preprocessing\\label.py\u001b[0m in \u001b[0;36mtransform\u001b[1;34m(self, y)\u001b[0m\n\u001b[0;32m    250\u001b[0m         \"\"\"\n\u001b[0;32m    251\u001b[0m         \u001b[0mcheck_is_fitted\u001b[0m\u001b[1;33m(\u001b[0m\u001b[0mself\u001b[0m\u001b[1;33m,\u001b[0m \u001b[1;34m'classes_'\u001b[0m\u001b[1;33m)\u001b[0m\u001b[1;33m\u001b[0m\u001b[0m\n\u001b[1;32m--> 252\u001b[1;33m         \u001b[0my\u001b[0m \u001b[1;33m=\u001b[0m \u001b[0mcolumn_or_1d\u001b[0m\u001b[1;33m(\u001b[0m\u001b[0my\u001b[0m\u001b[1;33m,\u001b[0m \u001b[0mwarn\u001b[0m\u001b[1;33m=\u001b[0m\u001b[1;32mTrue\u001b[0m\u001b[1;33m)\u001b[0m\u001b[1;33m\u001b[0m\u001b[0m\n\u001b[0m\u001b[0;32m    253\u001b[0m         \u001b[1;31m# transform of empty array is empty array\u001b[0m\u001b[1;33m\u001b[0m\u001b[1;33m\u001b[0m\u001b[0m\n\u001b[0;32m    254\u001b[0m         \u001b[1;32mif\u001b[0m \u001b[0m_num_samples\u001b[0m\u001b[1;33m(\u001b[0m\u001b[0my\u001b[0m\u001b[1;33m)\u001b[0m \u001b[1;33m==\u001b[0m \u001b[1;36m0\u001b[0m\u001b[1;33m:\u001b[0m\u001b[1;33m\u001b[0m\u001b[0m\n",
      "\u001b[1;32mc:\\users\\hjkim\\appdata\\local\\programs\\python\\python35\\lib\\site-packages\\sklearn\\utils\\validation.py\u001b[0m in \u001b[0;36mcolumn_or_1d\u001b[1;34m(y, warn)\u001b[0m\n\u001b[0;32m    786\u001b[0m         \u001b[1;32mreturn\u001b[0m \u001b[0mnp\u001b[0m\u001b[1;33m.\u001b[0m\u001b[0mravel\u001b[0m\u001b[1;33m(\u001b[0m\u001b[0my\u001b[0m\u001b[1;33m)\u001b[0m\u001b[1;33m\u001b[0m\u001b[0m\n\u001b[0;32m    787\u001b[0m \u001b[1;33m\u001b[0m\u001b[0m\n\u001b[1;32m--> 788\u001b[1;33m     \u001b[1;32mraise\u001b[0m \u001b[0mValueError\u001b[0m\u001b[1;33m(\u001b[0m\u001b[1;34m\"bad input shape {0}\"\u001b[0m\u001b[1;33m.\u001b[0m\u001b[0mformat\u001b[0m\u001b[1;33m(\u001b[0m\u001b[0mshape\u001b[0m\u001b[1;33m)\u001b[0m\u001b[1;33m)\u001b[0m\u001b[1;33m\u001b[0m\u001b[0m\n\u001b[0m\u001b[0;32m    789\u001b[0m \u001b[1;33m\u001b[0m\u001b[0m\n\u001b[0;32m    790\u001b[0m \u001b[1;33m\u001b[0m\u001b[0m\n",
      "\u001b[1;31mValueError\u001b[0m: bad input shape (1, 3)"
     ]
    }
   ],
   "source": [
    "from sklearn import preprocessing\n",
    "le = preprocessing.LabelEncoder()\n",
    "\n",
    "str = []\n",
    "for i in range(ord('a'), ord('z')+1):  # ord('a'): 'a'이 ascii code\n",
    "    str.append(i)                 # chr(i): ascii code i에 해당하는 문자\n",
    "print(str)\n",
    "\n",
    "le.fit(str)\n",
    "data = le.transform(['x', 'y', 'z']) \n",
    "#print(data)\n",
    "\n",
    "    "
   ]
  },
  {
   "cell_type": "code",
   "execution_count": 55,
   "metadata": {},
   "outputs": [
    {
     "name": "stdout",
     "output_type": "stream",
     "text": [
      "   A  B\n",
      "0  0  0\n",
      "1  1  1\n",
      "2  1  0\n",
      "3  2  1\n",
      "4  0  0\n",
      "<class 'pandas.core.frame.DataFrame'> \n",
      "\n"
     ]
    }
   ],
   "source": [
    "from sklearn import preprocessing\n",
    "import pandas as pd\n",
    "\n",
    "le = preprocessing.LabelEncoder() \n",
    "df = pd.DataFrame({'A': ['a', 'b', 'b', 'c', 'a'],\n",
    "                                       'B': ['x', 'y', 'x', 'y', 'x']})\n",
    "\n",
    "# fit_transform: fit과 tranform을 동시에 처리\n",
    "# df.apply는 dataframe에서 인자로 주어진 함수를 각 column에 적용하는 함수 #다수개의 column에 대해서 동시에 encoding\n",
    "data = df.apply(le.fit_transform)\n",
    "print(data)\n",
    "print(type(data), \"\\n\")"
   ]
  },
  {
   "cell_type": "code",
   "execution_count": 50,
   "metadata": {},
   "outputs": [
    {
     "name": "stdout",
     "output_type": "stream",
     "text": [
      "   country_australia  country_germany  country_korea  country_russia\n",
      "0                  0                0              0               1\n",
      "1                  0                1              0               0\n",
      "2                  1                0              0               0\n",
      "3                  0                0              1               0\n",
      "4                  0                1              0               0\n"
     ]
    }
   ],
   "source": [
    "import pandas as pd\n",
    "\n",
    "df = pd.DataFrame({'country': ['russia', 'germany', 'australia','korea','germany']})\n",
    "a = pd.get_dummies(df,prefix=['country'])\n",
    "print(a)"
   ]
  },
  {
   "cell_type": "code",
   "execution_count": 51,
   "metadata": {},
   "outputs": [
    {
     "name": "stdout",
     "output_type": "stream",
     "text": [
      "   A  B\n",
      "0  a  x\n",
      "1  b  y\n",
      "2  b  x\n",
      "3  c  y\n",
      "4  a  x\n",
      "   A_a  A_b  A_c  B_x  B_y\n",
      "0    1    0    0    1    0\n",
      "1    0    1    0    0    1\n",
      "2    0    1    0    1    0\n",
      "3    0    0    1    0    1\n",
      "4    1    0    0    1    0\n"
     ]
    }
   ],
   "source": [
    "import pandas as pd\n",
    "\n",
    "df = pd.DataFrame({'A': ['a', 'b', 'b', 'c', 'a'],\n",
    "                                       'B': ['x', 'y', 'x', 'y', 'x']})\n",
    "print(df)\n",
    "a = pd.get_dummies(df,prefix=['A', 'B'])\n",
    "print(a)"
   ]
  },
  {
   "cell_type": "code",
   "execution_count": 52,
   "metadata": {},
   "outputs": [
    {
     "name": "stdout",
     "output_type": "stream",
     "text": [
      "   B  A_a  A_b  A_c\n",
      "0  3    1    0    0\n",
      "1  4    0    1    0\n",
      "2  7    0    1    0\n",
      "3  2    0    0    1\n",
      "4  5    1    0    0\n"
     ]
    }
   ],
   "source": [
    "import pandas as pd\n",
    "\n",
    "df = pd.DataFrame({'A': ['a', 'b', 'b', 'c', 'a'],\n",
    "                                        'B': [3,  4,   7,   2,  5]})\n",
    "a = pd.get_dummies(df, prefix=['A'])\n",
    "print(a)"
   ]
  },
  {
   "cell_type": "code",
   "execution_count": 62,
   "metadata": {},
   "outputs": [
    {
     "name": "stdout",
     "output_type": "stream",
     "text": [
      "   country\n",
      "0        3\n",
      "1        1\n",
      "2        0\n",
      "3        2\n",
      "4        1\n",
      "  (0, 3)\t1.0\n",
      "  (1, 1)\t1.0\n",
      "  (2, 0)\t1.0\n",
      "  (3, 2)\t1.0\n",
      "  (4, 1)\t1.0\n",
      "<class 'scipy.sparse.csr.csr_matrix'>\n",
      "[[0. 0. 0. 1.]\n",
      " [0. 1. 0. 0.]\n",
      " [1. 0. 0. 0.]\n",
      " [0. 0. 1. 0.]\n",
      " [0. 1. 0. 0.]]\n",
      "<class 'numpy.ndarray'>\n"
     ]
    },
    {
     "name": "stderr",
     "output_type": "stream",
     "text": [
      "c:\\users\\hjkim\\appdata\\local\\programs\\python\\python35\\lib\\site-packages\\sklearn\\preprocessing\\_encoders.py:363: FutureWarning: The handling of integer data will change in version 0.22. Currently, the categories are determined based on the range [0, max(values)], while in the future they will be determined based on the unique values.\n",
      "If you want the future behaviour and silence this warning, you can specify \"categories='auto'\".\n",
      "In case you used a LabelEncoder before this OneHotEncoder to convert the categories to integers, then you can now use the OneHotEncoder directly.\n",
      "  warnings.warn(msg, FutureWarning)\n"
     ]
    }
   ],
   "source": [
    "import pandas as pd\n",
    "from sklearn.preprocessing import OneHotEncoder\n",
    "from sklearn.preprocessing import LabelEncoder\n",
    "\n",
    "X1 = pd.DataFrame({'country': ['russia', 'germany', 'australia','korea','germany']})\n",
    "\n",
    "# 곧바로 one-hot encoding이 안됨. data frame 전체를 라벨인코딩후(숫자로 변환 후)에 one-hot encoding을 해야함\n",
    "# data frame에 대한 one-hot encoding -> label encoding + one-hot encoding\n",
    "le = LabelEncoder()\n",
    "X2 = X1.apply(le.fit_transform)\n",
    "print(X2)\n",
    "#print(X2, type(X2))\n",
    "#print(\"\\n\")\n",
    "\n",
    "oe = OneHotEncoder()\n",
    "X2 = oe.fit_transform(X2)  #  결과는 sparse matrix로 변환됨\n",
    "print(X2)\n",
    "print(type(X2))\n",
    "#print(\"\\n\")\n",
    "\n",
    "X3 = X2.toarray() # numpy array로 변환. 추후에 dataframe으로 변환\n",
    "print(X3)\n",
    "print(type(X3))\n",
    "\n",
    "#X4 = pd.DataFrame(X3)\n",
    "#print(X4)"
   ]
  },
  {
   "cell_type": "code",
   "execution_count": 85,
   "metadata": {},
   "outputs": [
    {
     "name": "stdout",
     "output_type": "stream",
     "text": [
      "   A  B\n",
      "0  0  0\n",
      "1  1  1\n",
      "2  1  0\n",
      "3  2  1\n",
      "4  0  0\n",
      "<class 'pandas.core.frame.DataFrame'>\n",
      "  (0, 3)\t1.0\n",
      "  (0, 0)\t1.0\n",
      "  (1, 4)\t1.0\n",
      "  (1, 1)\t1.0\n",
      "  (2, 3)\t1.0\n",
      "  (2, 1)\t1.0\n",
      "  (3, 4)\t1.0\n",
      "  (3, 2)\t1.0\n",
      "  (4, 3)\t1.0\n",
      "  (4, 0)\t1.0\n",
      "<class 'scipy.sparse.csr.csr_matrix'>\n",
      "[[1. 0. 0. 1. 0.]\n",
      " [0. 1. 0. 0. 1.]\n",
      " [0. 1. 0. 1. 0.]\n",
      " [0. 0. 1. 0. 1.]\n",
      " [1. 0. 0. 1. 0.]]\n",
      "<class 'numpy.ndarray'>\n"
     ]
    },
    {
     "name": "stderr",
     "output_type": "stream",
     "text": [
      "c:\\users\\hjkim\\appdata\\local\\programs\\python\\python35\\lib\\site-packages\\sklearn\\preprocessing\\_encoders.py:363: FutureWarning: The handling of integer data will change in version 0.22. Currently, the categories are determined based on the range [0, max(values)], while in the future they will be determined based on the unique values.\n",
      "If you want the future behaviour and silence this warning, you can specify \"categories='auto'\".\n",
      "In case you used a LabelEncoder before this OneHotEncoder to convert the categories to integers, then you can now use the OneHotEncoder directly.\n",
      "  warnings.warn(msg, FutureWarning)\n"
     ]
    }
   ],
   "source": [
    "import pandas as pd\n",
    "from sklearn.preprocessing import OneHotEncoder\n",
    "from sklearn.preprocessing import LabelEncoder\n",
    "\n",
    "X = pd.DataFrame({'A': ['a', 'b', 'b', 'c', 'a'],\n",
    "                                    'B': ['x', 'y', 'x', 'y', 'x']})\n",
    "\n",
    "# 곧바로 one-hot encoding이 안됨. data frame 전체를 라벨인코딩후(숫자로 변환 후)에 one-hot encoding을 해야함\n",
    "# data frame에 대한 one-hot encoding -> label encoding + one-hot encodingle = LabelEncoder()\n",
    "X2 = X.apply(le.fit_transform)\n",
    "print(X2)\n",
    "print(type(X2))\n",
    "\n",
    "encoder = OneHotEncoder()\n",
    "X2 = encoder.fit_transform(X2)  \n",
    "#  결과는 sparse matrix로 변환됨. 더이상 dataframe이 아니므로 column명이 소실됨\n",
    "print(X2)\n",
    "print(type(X2))\n",
    "\n",
    "X3 = X2.toarray() # numpy array로 변환. 추후에 dataframe으로 변환\n",
    "print(X3)\n",
    "print(type(X3))\n",
    "\n",
    "X4= pd.DataFrame(X3)\n",
    "#print(X4)\n",
    "#print(type(X4))"
   ]
  },
  {
   "cell_type": "code",
   "execution_count": 88,
   "metadata": {},
   "outputs": [
    {
     "name": "stdout",
     "output_type": "stream",
     "text": [
      "   A  B\n",
      "0  0  3\n",
      "1  1  4\n",
      "2  1  5\n",
      "3  2  1\n",
      "4  0  7\n",
      "  (0, 0)\t1.0\n",
      "  (1, 1)\t1.0\n",
      "  (2, 1)\t1.0\n",
      "  (3, 2)\t1.0\n",
      "  (4, 0)\t1.0\n",
      "  (0, 3)\t3.0\n",
      "  (1, 3)\t4.0\n",
      "  (2, 3)\t5.0\n",
      "  (3, 3)\t1.0\n",
      "  (4, 3)\t7.0 <class 'scipy.sparse.coo.coo_matrix'>\n",
      "[[1. 0. 0. 3.]\n",
      " [0. 1. 0. 4.]\n",
      " [0. 1. 0. 5.]\n",
      " [0. 0. 1. 1.]\n",
      " [1. 0. 0. 7.]] <class 'numpy.ndarray'>\n"
     ]
    },
    {
     "name": "stderr",
     "output_type": "stream",
     "text": [
      "c:\\users\\hjkim\\appdata\\local\\programs\\python\\python35\\lib\\site-packages\\sklearn\\preprocessing\\_encoders.py:363: FutureWarning: The handling of integer data will change in version 0.22. Currently, the categories are determined based on the range [0, max(values)], while in the future they will be determined based on the unique values.\n",
      "If you want the future behaviour and silence this warning, you can specify \"categories='auto'\".\n",
      "In case you used a LabelEncoder before this OneHotEncoder to convert the categories to integers, then you can now use the OneHotEncoder directly.\n",
      "  warnings.warn(msg, FutureWarning)\n",
      "c:\\users\\hjkim\\appdata\\local\\programs\\python\\python35\\lib\\site-packages\\sklearn\\preprocessing\\_encoders.py:385: DeprecationWarning: The 'categorical_features' keyword is deprecated in version 0.20 and will be removed in 0.22. You can use the ColumnTransformer instead.\n",
      "  \"use the ColumnTransformer instead.\", DeprecationWarning)\n"
     ]
    }
   ],
   "source": [
    "import pandas as pd\n",
    "from sklearn.preprocessing import OneHotEncoder\n",
    "from sklearn.preprocessing import LabelEncoder\n",
    "\n",
    "X = pd.DataFrame({'A': ['a', 'b', 'b', 'c', 'a'],\n",
    "                                      'B': [3, 4, 5, 1, 7]})\n",
    "\n",
    "le = LabelEncoder()\n",
    "X['A'] = le.fit_transform(X['A']) \n",
    "# X.A는 series이므로 apply함수를 적용하지 않고 fit_transform이 인자로 넣어야 함\n",
    "print(X)\n",
    "\n",
    "# onehot encoding이 필요한 column만 지정\n",
    "encoder = OneHotEncoder(categorical_features=[True, False])\n",
    "\n",
    "X2 = encoder.fit_transform(X)  #  결과는 sparse matrix로 변환됨\n",
    "print(X2, type(X2))\n",
    "\n",
    "X3 = X2.toarray() # numpy array로 변환. \n",
    "print(X3, type(X3))\n",
    "\n",
    "X4 = pd.DataFrame(X3) # 최종적으로 dataframe으로 다시 변환\n",
    "#print(X4, type(X4))"
   ]
  },
  {
   "cell_type": "markdown",
   "metadata": {},
   "source": [
    "### Missing value 처리"
   ]
  },
  {
   "cell_type": "code",
   "execution_count": 4,
   "metadata": {},
   "outputs": [
    {
     "name": "stdout",
     "output_type": "stream",
     "text": [
      "    0    1   2   3    4     5      6   7  8\n",
      "0   6  148  72  35    0  33.6  0.627  50  1\n",
      "1   1   85  66  29    0  26.6  0.351  31  0\n",
      "2   8  183  64   0    0  23.3  0.672  32  1\n",
      "3   1   89  66  23   94  28.1  0.167  21  0\n",
      "4   0  137  40  35  168  43.1  2.288  33  1\n",
      "5   5  116  74   0    0  25.6  0.201  30  0\n",
      "6   3   78  50  32   88  31.0  0.248  26  1\n",
      "7  10  115   0   0    0  35.3  0.134  29  0\n",
      "8   2  197  70  45  543  30.5  0.158  53  1\n",
      "9   8  125  96   0    0   0.0  0.232  54  1\n",
      "       0      1      2      3      4      5      6      7      8\n",
      "0  False  False  False  False   True  False  False  False  False\n",
      "1  False  False  False  False   True  False  False  False   True\n",
      "2  False  False  False   True   True  False  False  False  False\n",
      "3  False  False  False  False  False  False  False  False   True\n",
      "4   True  False  False  False  False  False  False  False  False\n",
      "5  False  False  False   True   True  False  False  False   True\n",
      "6  False  False  False  False  False  False  False  False  False\n",
      "7  False  False   True   True   True  False  False  False   True\n",
      "8  False  False  False  False  False  False  False  False  False\n",
      "9  False  False  False   True   True   True  False  False  False\n",
      "0    1\n",
      "1    0\n",
      "2    1\n",
      "3    4\n",
      "4    6\n",
      "5    1\n",
      "6    0\n",
      "7    0\n",
      "8    4\n",
      "dtype: int64\n"
     ]
    }
   ],
   "source": [
    "import pandas as pd\n",
    "dataset = pd.read_csv('pima-indians-diabetes.csv', header=None)\n",
    "print(dataset[0:10])\n",
    "print((dataset[0:10] == 0))\n",
    "print((dataset[0:10] == 0).sum())"
   ]
  },
  {
   "cell_type": "code",
   "execution_count": 133,
   "metadata": {},
   "outputs": [
    {
     "name": "stdout",
     "output_type": "stream",
     "text": [
      "     0      1     2     3      4     5      6   7  8\n",
      "0    6  148.0  72.0  35.0    NaN  33.6  0.627  50  1\n",
      "1    1   85.0  66.0  29.0    NaN  26.6  0.351  31  0\n",
      "2    8  183.0  64.0   NaN    NaN  23.3  0.672  32  1\n",
      "3    1   89.0  66.0  23.0   94.0  28.1  0.167  21  0\n",
      "4    0  137.0  40.0  35.0  168.0  43.1  2.288  33  1\n",
      "5    5  116.0  74.0   NaN    NaN  25.6  0.201  30  0\n",
      "6    3   78.0  50.0  32.0   88.0  31.0  0.248  26  1\n",
      "7   10  115.0   NaN   NaN    NaN  35.3  0.134  29  0\n",
      "8    2  197.0  70.0  45.0  543.0  30.5  0.158  53  1\n",
      "9    8  125.0  96.0   NaN    NaN   NaN  0.232  54  1\n",
      "10   4  110.0  92.0   NaN    NaN  37.6  0.191  30  0\n",
      "11  10  168.0  74.0   NaN    NaN  38.0  0.537  34  1\n",
      "12  10  139.0  80.0   NaN    NaN  27.1  1.441  57  0\n",
      "13   1  189.0  60.0  23.0  846.0  30.1  0.398  59  1\n",
      "14   5  166.0  72.0  19.0  175.0  25.8  0.587  51  1\n",
      "15   7  100.0   NaN   NaN    NaN  30.0  0.484  32  1\n",
      "16   0  118.0  84.0  47.0  230.0  45.8  0.551  31  1\n",
      "17   7  107.0  74.0   NaN    NaN  29.6  0.254  31  1\n",
      "18   1  103.0  30.0  38.0   83.0  43.3  0.183  33  0\n",
      "19   1  115.0  70.0  30.0   96.0  34.6  0.529  32  1\n"
     ]
    }
   ],
   "source": [
    "import pandas as pd\n",
    "import numpy as np\n",
    "\n",
    "dataset = read_csv('pima-indians-diabetes.csv', header=None)\n",
    "\n",
    "# 1부터 5컬럼까지에서 0을  NAN으로 바꾸고 그 결과를 dataset에 저장\n",
    "# mark zero values as missing or NaN\n",
    "dataset[[1,2,3,4,5]] = dataset[[1,2,3,4,5]].replace(0, np.NaN)\n",
    "\n",
    "# print the first 20 rows of data\n",
    "print(dataset.head(20))"
   ]
  },
  {
   "cell_type": "code",
   "execution_count": 137,
   "metadata": {},
   "outputs": [
    {
     "name": "stdout",
     "output_type": "stream",
     "text": [
      "(768, 9)\n",
      "(392, 9)\n"
     ]
    }
   ],
   "source": [
    "import pandas as pd\n",
    "import numpy as np\n",
    "\n",
    "dataset = pd.read_csv('pima-indians-diabetes.csv', header=None)\n",
    "\n",
    "# mark zero values as missing or NaN\n",
    "dataset[[1,2,3,4,5]] = dataset[[1,2,3,4,5]].replace(0, np.NaN)\n",
    "print(dataset.shape)\n",
    "\n",
    "# drop rows with missing values\n",
    "dataset.dropna(inplace=True)\n",
    "\n",
    "# summarize the number of rows and columns in the dataset\n",
    "print(dataset.shape)"
   ]
  },
  {
   "cell_type": "code",
   "execution_count": 139,
   "metadata": {},
   "outputs": [
    {
     "name": "stdout",
     "output_type": "stream",
     "text": [
      "0      3.845052\n",
      "1    121.686763\n",
      "2     72.405184\n",
      "3     29.153420\n",
      "4    155.548223\n",
      "5     32.457464\n",
      "6      0.471876\n",
      "7     33.240885\n",
      "8      0.348958\n",
      "dtype: float64\n",
      "0    0\n",
      "1    0\n",
      "2    0\n",
      "3    0\n",
      "4    0\n",
      "5    0\n",
      "6    0\n",
      "7    0\n",
      "8    0\n",
      "dtype: int64\n"
     ]
    }
   ],
   "source": [
    "import pandas as pd\n",
    "import numpy as np\n",
    "\n",
    "dataset = pd.read_csv('pima-indians-diabetes.csv', header=None)\n",
    "dataset[[1,2,3,4,5]] = dataset[[1,2,3,4,5]].replace(0, numpy.NaN)\n",
    "\n",
    "print(dataset.mean())\n",
    "\n",
    "# fill missing values with mean column values\n",
    "dataset.fillna(dataset.mean(), inplace=True)\n",
    "\n",
    "# count the number of NaN values in each column\n",
    "print(dataset.isnull().sum())"
   ]
  },
  {
   "cell_type": "markdown",
   "metadata": {},
   "source": [
    "### Random forest"
   ]
  },
  {
   "cell_type": "code",
   "execution_count": 1,
   "metadata": {},
   "outputs": [
    {
     "name": "stdout",
     "output_type": "stream",
     "text": [
      "ok\n"
     ]
    }
   ],
   "source": [
    "import urllib.request as req\n",
    "local= \"mushroom.csv\"\n",
    "url = \"https://archive.ics.uci.edu/ml/machine-learning-databases/mushroom/agaricus-lepiota.data\"\n",
    "req.urlretrieve(url, local)\n",
    "print(\"ok\")"
   ]
  },
  {
   "cell_type": "code",
   "execution_count": 10,
   "metadata": {},
   "outputs": [
    {
     "name": "stdout",
     "output_type": "stream",
     "text": [
      "     label pre\n",
      "3096     e   e\n",
      "2485     e   e\n",
      "4022     p   p\n",
      "5195     p   p\n",
      "989      e   e\n",
      "2811     e   e\n",
      "5111     p   p\n",
      "7285     p   p\n",
      "2202     e   e\n",
      "5642     p   p\n",
      "정답률 = 1.0\n"
     ]
    },
    {
     "name": "stderr",
     "output_type": "stream",
     "text": [
      "c:\\users\\hjkim\\appdata\\local\\programs\\python\\python35\\lib\\site-packages\\sklearn\\ensemble\\forest.py:248: FutureWarning: The default value of n_estimators will change from 10 in version 0.20 to 100 in 0.22.\n",
      "  \"10 in version 0.20 to 100 in 0.22.\", FutureWarning)\n"
     ]
    }
   ],
   "source": [
    "import pandas as pd\n",
    "from sklearn.ensemble import RandomForestClassifier\n",
    "from sklearn import metrics\n",
    "from sklearn.model_selection import train_test_split\n",
    "\n",
    "# 데이터 읽어 들이기\n",
    "mr = pd.read_csv(\"mushroom.csv\", header=None)\n",
    "\n",
    "# label 분리\n",
    "df = pd.DataFrame(mr.iloc[:, 0])\n",
    "\n",
    "# 두번째 컬럼부터 마지막 컬럼까지 one-hot encoding하고 label에 붙임\n",
    "df = df.join(pd.get_dummies(mr.iloc[:, 1:]))\n",
    "\n",
    "\n",
    "data = df.iloc[:, 1:]\n",
    "label = df.iloc[:, 0]\n",
    "\n",
    "# 학습 전용 데이터와 테스트 전용 데이터로 나누기\n",
    "data_train, data_test, label_train, label_test = train_test_split(data, label)\n",
    "\n",
    "# 데이터 학습시키기\n",
    "clf = RandomForestClassifier()\n",
    "clf.fit(data_train, label_train)\n",
    "\n",
    "# 데이터 예측하기\n",
    "predict = clf.predict(data_test)\n",
    "\n",
    "# 결과 테스트하기\n",
    "result = pd.DataFrame({\"label\": label_test, \"pre\": predict})\n",
    "print(result[0:10])\n",
    "\n",
    "ac_score = metrics.accuracy_score(label_test, predict)\n",
    "print(metrics.confusion_matrix(label_test,predict))\n",
    "print(\"정답률 =\", ac_score) #100프로 예측 "
   ]
  },
  {
   "cell_type": "markdown",
   "metadata": {},
   "source": [
    "### KNN"
   ]
  },
  {
   "cell_type": "code",
   "execution_count": 57,
   "metadata": {},
   "outputs": [
    {
     "name": "stdout",
     "output_type": "stream",
     "text": [
      "정답률 = 0.868421052631579\n"
     ]
    }
   ],
   "source": [
    "import pandas as pd\n",
    "from sklearn import neighbors, metrics\n",
    "from sklearn.model_selection import train_test_split\n",
    "\n",
    "# 붓꽃의 CSV 데이터 읽어 들이기 \n",
    "csv = pd.read_csv('iris.csv')\n",
    "\n",
    "# 필요한 열 추출하기 \n",
    "csv_data = csv[[\"SepalLength\",\"SepalWidth\",\"PetalLength\",\"PetalWidth\"]]\n",
    "csv_label = csv[\"Name\"]\n",
    "\n",
    "# 학습 전용 데이터와 테스트 전용 데이터로 나누기 --- (※3)\n",
    "train_data, test_data, train_label, test_label = \\\n",
    "train_test_split(csv_data, csv_label)\n",
    "\n",
    "# 데이터 학습시키고 예측하기 \n",
    "knn = neighbors.KNeighborsClassifier(n_neighbors=19)\n",
    "knn.fit(train_data, train_label)\n",
    "pre = knn.predict(test_data)\n",
    "\n",
    "# 정답률 구하기 \n",
    "ac_score = metrics.accuracy_score(test_label, pre)\n",
    "print(\"정답률 =\", ac_score)"
   ]
  },
  {
   "cell_type": "markdown",
   "metadata": {},
   "source": [
    "### NB"
   ]
  },
  {
   "cell_type": "code",
   "execution_count": 28,
   "metadata": {},
   "outputs": [
    {
     "name": "stdout",
     "output_type": "stream",
     "text": [
      "정답률 = 0.8947368421052632\n"
     ]
    }
   ],
   "source": [
    "import pandas as pd\n",
    "from sklearn import metrics\n",
    "from sklearn.naive_bayes import GaussianNB\n",
    "from sklearn.naive_bayes import MultinomialNB\n",
    "from sklearn.model_selection import train_test_split\n",
    "\n",
    "# 붓꽃의 CSV 데이터 읽어 들이기 \n",
    "csv = pd.read_csv('iris.csv')\n",
    "\n",
    "# 필요한 열 추출하기 \n",
    "csv_data = csv[[\"SepalLength\",\"SepalWidth\",\"PetalLength\",\"PetalWidth\"]]\n",
    "csv_label = csv[\"Name\"]\n",
    "\n",
    "# 학습 전용 데이터와 테스트 전용 데이터로 나누기 --- (※3)\n",
    "train_data, test_data, train_label, test_label = \\\n",
    "train_test_split(csv_data, csv_label)\n",
    "\n",
    "# 데이터 학습시키고 예측하기 \n",
    "nb = GaussianNB()\n",
    "nb = MultinomialNB()\n",
    "\n",
    "nb.fit(train_data, train_label)\n",
    "pre = nb.predict(test_data)\n",
    "\n",
    "# 정답률 구하기 \n",
    "ac_score = metrics.accuracy_score(test_label, pre)\n",
    "print(\"정답률 =\", ac_score)"
   ]
  },
  {
   "cell_type": "code",
   "execution_count": 22,
   "metadata": {},
   "outputs": [
    {
     "name": "stdout",
     "output_type": "stream",
     "text": [
      "[3 4]\n"
     ]
    }
   ],
   "source": [
    "from sklearn.naive_bayes import GaussianNB\n",
    "from sklearn.naive_bayes import MultinomialNB\n",
    "\n",
    "import numpy as np\n",
    "\n",
    "#assigning predictor and target variables\n",
    "x= np.array([[-3,7],[1,5], [1,2], [-2,0], [2,3], [-4,0], [-1,1], [1,1], [-2,2], [2,7], [-4,1], [-2,7]])\n",
    "y = np.array([3, 3, 3, 3, 4, 3, 3, 4, 3, 4, 4, 4])\n",
    "#Create a Gaussian Classifier\n",
    "model = GaussianNB()\n",
    "#model = MultinomialNB()\n",
    "\n",
    "# Train the model using the training sets \n",
    "model.fit(x, y)\n",
    "\n",
    "#Predict Output \n",
    "predicted= model.predict([[1,2],[3,4]])\n",
    "print(predicted)"
   ]
  },
  {
   "cell_type": "markdown",
   "metadata": {},
   "source": [
    "### Cross Validation"
   ]
  },
  {
   "cell_type": "code",
   "execution_count": 2,
   "metadata": {
    "scrolled": true
   },
   "outputs": [
    {
     "name": "stdout",
     "output_type": "stream",
     "text": [
      "150\n",
      "각 시행의 정답률 = [0.96666667 1.         0.96666667 0.96666667 1.        ]\n",
      "평균 정답률 = 0.9800000000000001\n"
     ]
    },
    {
     "name": "stderr",
     "output_type": "stream",
     "text": [
      "c:\\users\\hjkim\\appdata\\local\\programs\\python\\python35\\lib\\site-packages\\sklearn\\svm\\base.py:196: FutureWarning: The default value of gamma will change from 'auto' to 'scale' in version 0.22 to account better for unscaled features. Set gamma explicitly to 'auto' or 'scale' to avoid this warning.\n",
      "  \"avoid this warning.\", FutureWarning)\n",
      "c:\\users\\hjkim\\appdata\\local\\programs\\python\\python35\\lib\\site-packages\\sklearn\\svm\\base.py:196: FutureWarning: The default value of gamma will change from 'auto' to 'scale' in version 0.22 to account better for unscaled features. Set gamma explicitly to 'auto' or 'scale' to avoid this warning.\n",
      "  \"avoid this warning.\", FutureWarning)\n",
      "c:\\users\\hjkim\\appdata\\local\\programs\\python\\python35\\lib\\site-packages\\sklearn\\svm\\base.py:196: FutureWarning: The default value of gamma will change from 'auto' to 'scale' in version 0.22 to account better for unscaled features. Set gamma explicitly to 'auto' or 'scale' to avoid this warning.\n",
      "  \"avoid this warning.\", FutureWarning)\n",
      "c:\\users\\hjkim\\appdata\\local\\programs\\python\\python35\\lib\\site-packages\\sklearn\\svm\\base.py:196: FutureWarning: The default value of gamma will change from 'auto' to 'scale' in version 0.22 to account better for unscaled features. Set gamma explicitly to 'auto' or 'scale' to avoid this warning.\n",
      "  \"avoid this warning.\", FutureWarning)\n",
      "c:\\users\\hjkim\\appdata\\local\\programs\\python\\python35\\lib\\site-packages\\sklearn\\svm\\base.py:196: FutureWarning: The default value of gamma will change from 'auto' to 'scale' in version 0.22 to account better for unscaled features. Set gamma explicitly to 'auto' or 'scale' to avoid this warning.\n",
      "  \"avoid this warning.\", FutureWarning)\n"
     ]
    }
   ],
   "source": [
    "import pandas as pd\n",
    "from sklearn import svm, metrics, model_selection\n",
    "import random, re\n",
    "# 붓꽃의 CSV 데이터 읽어 들이기 \n",
    "csv = pd.read_csv('iris.csv')\n",
    "\n",
    "# 리스트를 훈련 전용 데이터와 테스트 전용 데이터로 분할하기 \n",
    "data = csv[[\"SepalLength\",\"SepalWidth\",\"PetalLength\",\"PetalWidth\"]]\n",
    "label = csv[\"Name\"]\n",
    "print(len(data))\n",
    "\n",
    "clf = svm.SVC()\n",
    "scores = model_selection.cross_val_score(clf, data, label, cv=5)\n",
    "\n",
    "print(\"각 시행의 정답률 =\", scores)\n",
    "print(\"평균 정답률 =\", scores.mean())  #test data 평가는 아직 안 한 코드!"
   ]
  },
  {
   "cell_type": "code",
   "execution_count": 12,
   "metadata": {},
   "outputs": [
    {
     "name": "stdout",
     "output_type": "stream",
     "text": [
      "   SepalLength  SepalWidth  PetalLength  PetalWidth         Name\n",
      "1          4.9         3.0          1.4         0.2  Iris-setosa\n",
      "2          4.7         3.2          1.3         0.2  Iris-setosa\n",
      "3          4.6         3.1          1.5         0.2  Iris-setosa\n",
      "4          5.0         3.6          1.4         0.2  Iris-setosa\n",
      "5          5.4         3.9          1.7         0.4  Iris-setosa\n",
      "6          4.6         3.4          1.4         0.3  Iris-setosa\n",
      "7          5.0         3.4          1.5         0.2  Iris-setosa\n",
      "8          4.4         2.9          1.4         0.2  Iris-setosa\n",
      "9          4.9         3.1          1.5         0.1  Iris-setosa\n"
     ]
    }
   ],
   "source": [
    "import pandas as pd\n",
    "from sklearn import svm, metrics, model_selection\n",
    "import random, re\n",
    "# 붓꽃의 CSV 데이터 읽어 들이기 \n",
    "csv = pd.read_csv('iris.csv')\n",
    "print(csv[1:10])"
   ]
  },
  {
   "cell_type": "code",
   "execution_count": null,
   "metadata": {},
   "outputs": [],
   "source": []
  }
 ],
 "metadata": {
  "kernelspec": {
   "display_name": "Python 3",
   "language": "python",
   "name": "python3"
  },
  "language_info": {
   "codemirror_mode": {
    "name": "ipython",
    "version": 3
   },
   "file_extension": ".py",
   "mimetype": "text/x-python",
   "name": "python",
   "nbconvert_exporter": "python",
   "pygments_lexer": "ipython3",
   "version": "3.7.1"
  }
 },
 "nbformat": 4,
 "nbformat_minor": 2
}

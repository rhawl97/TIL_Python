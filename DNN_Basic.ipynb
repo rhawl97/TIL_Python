{
 "cells": [
  {
   "cell_type": "markdown",
   "metadata": {},
   "source": [
    "# Keras Deep Learning Basic"
   ]
  },
  {
   "cell_type": "code",
   "execution_count": 1,
   "metadata": {},
   "outputs": [
    {
     "name": "stderr",
     "output_type": "stream",
     "text": [
      "Using TensorFlow backend.\n"
     ]
    }
   ],
   "source": [
    "from keras. datasets import mnist\n",
    "from keras.utils import np_utils\n",
    "from keras import models, layers\n",
    "\n",
    "(train_images, train_labels), (test_images, test_labels)  = mnist.load_data()"
   ]
  },
  {
   "cell_type": "code",
   "execution_count": 3,
   "metadata": {},
   "outputs": [
    {
     "name": "stdout",
     "output_type": "stream",
     "text": [
      "3\n",
      "uint8\n",
      "(60000, 28, 28)\n",
      "(60000,)\n",
      "60000\n",
      "(10000, 28, 28)\n",
      "10000\n",
      "[7 2 1 ... 4 5 6]\n"
     ]
    }
   ],
   "source": [
    "print(train_images.ndim) #축의 개수 3D Tensor\n",
    "print(train_images.dtype)\n",
    "print(train_images.shape)\n",
    "print(train_labels.shape)\n",
    "print(len(train_labels))\n",
    "\n",
    "print(test_images.shape)\n",
    "print(len(test_labels))\n",
    "print(test_labels)"
   ]
  },
  {
   "cell_type": "code",
   "execution_count": 96,
   "metadata": {},
   "outputs": [
    {
     "name": "stdout",
     "output_type": "stream",
     "text": [
      "Epoch 1/1\n",
      "60000/60000 [==============================] - 7s 122us/step - loss: 0.2682 - acc: 0.9237\n",
      "10000/10000 [==============================] - 1s 81us/step\n",
      "loss_and_metrics:  [0.132631373648718, 0.9623]\n"
     ]
    }
   ],
   "source": [
    "train_images = train_images.reshape(60000, 28*28).astype('float32')/255.0\n",
    "train_labels = np_utils.to_categorical(train_labels) #DNN에서 output nodes의 개수 = class label개수이기 때문에 ex) 정답 5일 경우 00001000\n",
    "test_images = test_images.reshape(10000, 28*28).astype('float32')/255.0\n",
    "test_labels = np_utils.to_categorical(test_labels)\n",
    "\n",
    "network = models.Sequential()\n",
    "network.add(layers.Dense(units=512, activation='relu', input_shape=(28*28, ))) ##hidden layer 추가하면 됨!\n",
    "network.add(layers.Dense(units=10, activation='softmax'))\n",
    "\n",
    "network.compile(optimizer='adam', loss='categorical_crossentropy', metrics=['accuracy'])\n",
    "network.fit(train_images, train_labels, epochs=1, batch_size=128) #bath size? #보통 epoch 10이상 #1 epoch에서 128개씩 w업데이트해 6만개까지!\n",
    "#60000개를 128개씩 나눠! ->  128개가 들어갈 때마다 loss계산해서 w업데이트 \n",
    "#한 조각(128개) = mini batch\n",
    "\n",
    "loss_and_metrics = network.evaluate(test_images, test_labels)\n",
    "\n",
    "print('loss_and_metrics: ', loss_and_metrics) #layer 3개인데도 정확도 높음 "
   ]
  },
  {
   "cell_type": "code",
   "execution_count": 49,
   "metadata": {},
   "outputs": [
    {
     "name": "stdout",
     "output_type": "stream",
     "text": [
      "[[0. 0. 0. ... 1. 0. 0.]\n",
      " [0. 0. 1. ... 0. 0. 0.]\n",
      " [0. 1. 0. ... 0. 0. 0.]\n",
      " ...\n",
      " [0. 0. 0. ... 0. 0. 0.]\n",
      " [0. 0. 0. ... 0. 0. 0.]\n",
      " [0. 0. 0. ... 0. 0. 0.]]\n"
     ]
    }
   ],
   "source": [
    "pred = network.predict(test_images[0:1]) #하나에 대해서 예측 \n",
    "#print(\"예측: %.2f, 정답: %d\" % pred, test_labels[0])\n",
    "print(test_labels)  #첫번째이미지 7 두번째 2 세번째 1이라는 정답!"
   ]
  },
  {
   "cell_type": "code",
   "execution_count": 79,
   "metadata": {},
   "outputs": [
    {
     "name": "stdout",
     "output_type": "stream",
     "text": [
      "(28, 28)\n"
     ]
    },
    {
     "data": {
      "image/png": "[encoded data removed]",
      "text/plain": [
       "<Figure size 432x288 with 1 Axes>"
      ]
     },
     "metadata": {
      "needs_background": "light"
     },
     "output_type": "display_data"
    }
   ],
   "source": [
    "(train_images, train_labels), (test_images, test_labels)  = mnist.load_data()\n",
    "\n",
    "digit = train_images[4]\n",
    "print(digit.shape)\n",
    "import matplotlib.pyplot as plt\n",
    "plt.imshow(digit, cmap=plt.cm.binary)\n",
    "plt.show()"
   ]
  },
  {
   "cell_type": "code",
   "execution_count": 85,
   "metadata": {},
   "outputs": [
    {
     "name": "stdout",
     "output_type": "stream",
     "text": [
      "[[  0   2   5   0   4]\n",
      " [100  25   3   4   5]\n",
      " [  0   2   0   0   0]]\n"
     ]
    }
   ],
   "source": [
    "import numpy as np\n",
    "\n",
    "def naive_relu(x):\n",
    "    assert len(x.shape) == 2\n",
    "    x = x.copy()\n",
    "    for i in range(x.shape[0]):\n",
    "        for j in range(x.shape[1]):\n",
    "            x[i, j] = max (x[i, j], 0)\n",
    "    return x\n",
    "\n",
    "x = np.array([[-10, 2, 5, -3, 4], \n",
    "                               [100, 25, 3, 4, 5],\n",
    "                               [-1, 2, -3, 0, -5]])\n",
    "\n",
    "print(naive_relu(x))"
   ]
  },
  {
   "cell_type": "code",
   "execution_count": 90,
   "metadata": {},
   "outputs": [],
   "source": [
    "# broadcasting\n",
    "x = np.random.random((4, 3, 2))\n",
    "y = np.random.random((3, 2))\n",
    "z = np.maximum(x, y)\n",
    "\n",
    "#print(x)\n",
    "#print(\"---\")\n",
    "#print(y)\n",
    "#print(\"---\")\n",
    "#print(z)"
   ]
  },
  {
   "cell_type": "code",
   "execution_count": 92,
   "metadata": {},
   "outputs": [
    {
     "name": "stdout",
     "output_type": "stream",
     "text": [
      "(60000, 28, 28)\n",
      "(60000, 784)\n"
     ]
    }
   ],
   "source": [
    "(train_images, train_labels), (test_images, test_labels)  = mnist.load_data()\n",
    "print(train_images.shape)\n",
    "train_images = train_images.reshape((60000, 28 * 28))\n",
    "print(train_images.shape)"
   ]
  },
  {
   "cell_type": "markdown",
   "metadata": {},
   "source": [
    "# Softmax 함수"
   ]
  },
  {
   "cell_type": "code",
   "execution_count": 95,
   "metadata": {},
   "outputs": [
    {
     "name": "stdout",
     "output_type": "stream",
     "text": [
      "[ 1.34985881 18.17414537 54.59815003]\n",
      "[0.01821127 0.24519181 0.73659691]\n",
      "1.0\n"
     ]
    }
   ],
   "source": [
    "a = np.array([0.3, 2.9, 4.0])\n",
    "exp_a = np.exp(a)\n",
    "print(exp_a)\n",
    "\n",
    "sum_exp_a = np.sum(exp_a)\n",
    "y = exp_a/sum_exp_a\n",
    "print(y)\n",
    "print(np.sum(y))"
   ]
  },
  {
   "cell_type": "markdown",
   "metadata": {},
   "source": [
    "# Binary Classification (Sentiment Analysis)"
   ]
  },
  {
   "cell_type": "code",
   "execution_count": 102,
   "metadata": {},
   "outputs": [
    {
     "name": "stdout",
     "output_type": "stream",
     "text": [
      "(25000,)\n",
      "(25000,)\n"
     ]
    }
   ],
   "source": [
    "# from keras.datasets import imdb\n",
    "from keras.datasets import imdb\n",
    "# imdb dataset: 50000개의 영화리뷰 \n",
    "(train_data, train_labels), (test_data, test_labels) = imdb.load_data(num_words=10000)\n",
    "print(train_data.shape)\n",
    "print(test_data.shape)"
   ]
  },
  {
   "cell_type": "code",
   "execution_count": 105,
   "metadata": {},
   "outputs": [
    {
     "name": "stdout",
     "output_type": "stream",
     "text": [
      "1\n",
      "[1, 14, 22, 16, 43, 530, 973, 1622, 1385, 65, 458, 4468, 66, 3941, 4, 173, 36, 256, 5, 25, 100, 43, 838, 112, 50, 670, 2, 9, 35, 480, 284, 5, 150, 4, 172, 112, 167, 2, 336, 385, 39, 4, 172, 4536, 1111, 17, 546, 38, 13, 447, 4, 192, 50, 16, 6, 147, 2025, 19, 14, 22, 4, 1920, 4613, 469, 4, 22, 71, 87, 12, 16, 43, 530, 38, 76, 15, 13, 1247, 4, 22, 17, 515, 17, 12, 16, 626, 18, 2, 5, 62, 386, 12, 8, 316, 8, 106, 5, 4, 2223, 5244, 16, 480, 66, 3785, 33, 4, 130, 12, 16, 38, 619, 5, 25, 124, 51, 36, 135, 48, 25, 1415, 33, 6, 22, 12, 215, 28, 77, 52, 5, 14, 407, 16, 82, 2, 8, 4, 107, 117, 5952, 15, 256, 4, 2, 7, 3766, 5, 723, 36, 71, 43, 530, 476, 26, 400, 317, 46, 7, 4, 2, 1029, 13, 104, 88, 4, 381, 15, 297, 98, 32, 2071, 56, 26, 141, 6, 194, 7486, 18, 4, 226, 22, 21, 134, 476, 26, 480, 5, 144, 30, 5535, 18, 51, 36, 28, 224, 92, 25, 104, 4, 226, 65, 16, 38, 1334, 88, 12, 16, 283, 5, 16, 4472, 113, 103, 32, 15, 16, 5345, 19, 178, 32]\n"
     ]
    }
   ],
   "source": [
    "print(train_labels[0]) # negative: 0 , positive: 1\n",
    "print(train_data[0])"
   ]
  },
  {
   "cell_type": "code",
   "execution_count": null,
   "metadata": {},
   "outputs": [],
   "source": [
    "word_index = imdb.get_word_index()"
   ]
  },
  {
   "cell_type": "code",
   "execution_count": 118,
   "metadata": {},
   "outputs": [],
   "source": [
    "reverse_word_index = dict( [ (value, key) for (key, value) in word_index.items()])\n",
    "    \n",
    "#for i in range(1000, 1200):\n",
    "#    print (i, reverse_word_index.get(i))"
   ]
  },
  {
   "cell_type": "code",
   "execution_count": 119,
   "metadata": {},
   "outputs": [],
   "source": [
    "decoded_review = ' '.join([reverse_word_index.get(i - 3, '?') for i in train_data[0]])"
   ]
  },
  {
   "cell_type": "code",
   "execution_count": 120,
   "metadata": {},
   "outputs": [
    {
     "name": "stdout",
     "output_type": "stream",
     "text": [
      "? this film was just brilliant casting location scenery story direction everyone's really suited the part they played and you could just imagine being there robert ? is an amazing actor and now the same being director ? father came from the same scottish island as myself so i loved the fact there was a real connection with this film the witty remarks throughout the film were great it was just brilliant so much that i bought the film as soon as it was released for ? and would recommend it to everyone to watch and the fly fishing was amazing really cried at the end it was so sad and you know what they say if you cry at a film it must have been good and this definitely was also ? to the two little boy's that played the ? of norman and paul they were just brilliant children are often left out of the ? list i think because the stars that play them all grown up are such a big profile for the whole film but these children are amazing and should be praised for what they have done don't you think the whole story was so lovely because it was true and was someone's life after all that was shared with us all\n"
     ]
    }
   ],
   "source": [
    "print(decoded_review)"
   ]
  },
  {
   "cell_type": "code",
   "execution_count": 125,
   "metadata": {},
   "outputs": [],
   "source": [
    "import numpy as np\n",
    "def vectorize_sequences(sequences, dimension=10000):\n",
    "    results = np.zeros((len(sequences), dimension)) # shape가 (25000, 10000)인 results 객체 생성, 초기값은 모두 0\n",
    "    for i, sequence in enumerate(sequences):\n",
    "        results[i, sequence] = 1.      # i번째 데이터에 대하여, 해당 단어에 대한 index가 1, 14, 22, ... 이면 =>  (i, 1), (i, 14), (i, 22) 셀의 값이 1로 셋팅됨 \n",
    "    return results\n",
    "\n",
    "x_train = vectorize_sequences(train_data)\n",
    "x_test = vectorize_sequences(test_data)"
   ]
  },
  {
   "cell_type": "code",
   "execution_count": 136,
   "metadata": {},
   "outputs": [
    {
     "name": "stdout",
     "output_type": "stream",
     "text": [
      "(25000, 10000)\n",
      "(25000, 10000)\n",
      "[1, 14, 22, 16, 43, 530, 973, 1622, 1385, 65, 458, 4468, 66, 3941, 4, 173, 36, 256, 5, 25, 100, 43, 838, 112, 50, 670, 2, 9, 35, 480, 284, 5, 150, 4, 172, 112, 167, 2, 336, 385, 39, 4, 172, 4536, 1111, 17, 546, 38, 13, 447, 4, 192, 50, 16, 6, 147, 2025, 19, 14, 22, 4, 1920, 4613, 469, 4, 22, 71, 87, 12, 16, 43, 530, 38, 76, 15, 13, 1247, 4, 22, 17, 515, 17, 12, 16, 626, 18, 2, 5, 62, 386, 12, 8, 316, 8, 106, 5, 4, 2223, 5244, 16, 480, 66, 3785, 33, 4, 130, 12, 16, 38, 619, 5, 25, 124, 51, 36, 135, 48, 25, 1415, 33, 6, 22, 12, 215, 28, 77, 52, 5, 14, 407, 16, 82, 2, 8, 4, 107, 117, 5952, 15, 256, 4, 2, 7, 3766, 5, 723, 36, 71, 43, 530, 476, 26, 400, 317, 46, 7, 4, 2, 1029, 13, 104, 88, 4, 381, 15, 297, 98, 32, 2071, 56, 26, 141, 6, 194, 7486, 18, 4, 226, 22, 21, 134, 476, 26, 480, 5, 144, 30, 5535, 18, 51, 36, 28, 224, 92, 25, 104, 4, 226, 65, 16, 38, 1334, 88, 12, 16, 283, 5, 16, 4472, 113, 103, 32, 15, 16, 5345, 19, 178, 32]\n",
      "[0. 1. 1. ... 0. 0. 0.]\n",
      "[1, 591, 202, 14, 31, 6, 717, 10, 10, 2, 2, 5, 4, 360, 7, 4, 177, 5760, 394, 354, 4, 123, 9, 1035, 1035, 1035, 10, 10, 13, 92, 124, 89, 488, 7944, 100, 28, 1668, 14, 31, 23, 27, 7479, 29, 220, 468, 8, 124, 14, 286, 170, 8, 157, 46, 5, 27, 239, 16, 179, 2, 38, 32, 25, 7944, 451, 202, 14, 6, 717]\n",
      "[0. 1. 1. ... 0. 0. 0.]\n"
     ]
    }
   ],
   "source": [
    "print(x_train.shape)\n",
    "print(x_test.shape)\n",
    "print(train_data[0]); print(x_train[0])\n",
    "print(test_data[0]); print(x_test[0])"
   ]
  },
  {
   "cell_type": "code",
   "execution_count": 132,
   "metadata": {},
   "outputs": [
    {
     "name": "stdout",
     "output_type": "stream",
     "text": [
      "[1 0 0 ... 0 1 0]\n",
      "25000\n",
      "[1. 0. 0. ... 0. 1. 0.]\n"
     ]
    }
   ],
   "source": [
    "print(train_labels)\n",
    "print(len(train_labels))\n",
    "y_train = np.asarray(train_labels).astype('float32')\n",
    "y_test = np.asarray(test_labels).astype('float32')\n",
    "print(y_train)"
   ]
  },
  {
   "cell_type": "code",
   "execution_count": 150,
   "metadata": {},
   "outputs": [],
   "source": [
    "from keras import models\n",
    "from keras import layers\n",
    "model = models.Sequential()\n",
    "model.add(layers.Dense(16, activation='relu', input_shape=(10000,)))\n",
    "model.add(layers.Dense(16, activation='relu'))\n",
    "model.add(layers.Dense(1, activation='sigmoid'))"
   ]
  },
  {
   "cell_type": "code",
   "execution_count": 138,
   "metadata": {},
   "outputs": [
    {
     "name": "stdout",
     "output_type": "stream",
     "text": [
      "_________________________________________________________________\n",
      "Layer (type)                 Output Shape              Param #   \n",
      "=================================================================\n",
      "dense_35 (Dense)             (None, 16)                160016    \n",
      "_________________________________________________________________\n",
      "dense_36 (Dense)             (None, 16)                272       \n",
      "_________________________________________________________________\n",
      "dense_37 (Dense)             (None, 1)                 17        \n",
      "=================================================================\n",
      "Total params: 160,305\n",
      "Trainable params: 160,305\n",
      "Non-trainable params: 0\n",
      "_________________________________________________________________\n"
     ]
    }
   ],
   "source": [
    "model.summary()"
   ]
  },
  {
   "cell_type": "code",
   "execution_count": null,
   "metadata": {},
   "outputs": [],
   "source": [
    "model.compile(optimizer='rmsprop',\n",
    "                            loss='binary_crossentropy',          # loss 함수를 무엇으로 할 것인가?  mean_squared_error 또는 binary_crossentropy 또는 ...\n",
    "                            metrics=['accuracy'])"
   ]
  },
  {
   "cell_type": "markdown",
   "metadata": {},
   "source": [
    "#### *Crossentropy* is a quantity from the field of Information Theory that measures the distance between probability distributions or, in this case, between the ground-truth distribution and your predictions."
   ]
  },
  {
   "cell_type": "code",
   "execution_count": 139,
   "metadata": {},
   "outputs": [],
   "source": [
    "from keras import optimizers\n",
    "model.compile(optimizer=optimizers.RMSprop(lr=0.001),   # RMSprop의 최적화 모듈의 내부 parameter를 조정하여 tuning 가능\n",
    "                                loss='binary_crossentropy',\n",
    "                                metrics=['accuracy'])"
   ]
  },
  {
   "cell_type": "markdown",
   "metadata": {},
   "source": [
    "### *Validation data* : 학습과정에서 각 epoch마다 생성된 모델을 평가하기 위해 마련함\n",
    "- 기본적으로 모델에 참여하지 않은 데이터를 가지고 모델을 평가하는 것이 공정함"
   ]
  },
  {
   "cell_type": "code",
   "execution_count": 147,
   "metadata": {},
   "outputs": [],
   "source": [
    "x_val = x_train[:10000] ; partial_x_train = x_train[10000:]\n",
    "y_val = y_train[:10000] ; partial_y_train = y_train[10000:]"
   ]
  },
  {
   "cell_type": "code",
   "execution_count": 157,
   "metadata": {},
   "outputs": [
    {
     "name": "stdout",
     "output_type": "stream",
     "text": [
      "Train on 15000 samples, validate on 10000 samples\n",
      "Epoch 1/10\n",
      "15000/15000 [==============================] - 4s 262us/step - loss: 0.2224 - acc: 0.9208 - val_loss: 0.2957 - val_acc: 0.8809\n",
      "Epoch 2/10\n",
      "15000/15000 [==============================] - 3s 220us/step - loss: 0.1649 - acc: 0.9439 - val_loss: 0.2770 - val_acc: 0.8904\n",
      "Epoch 3/10\n",
      "15000/15000 [==============================] - 3s 208us/step - loss: 0.1382 - acc: 0.9565 - val_loss: 0.2889 - val_acc: 0.8863\n",
      "Epoch 4/10\n",
      "15000/15000 [==============================] - 3s 206us/step - loss: 0.1103 - acc: 0.9655 - val_loss: 0.3342 - val_acc: 0.8760\n",
      "Epoch 5/10\n",
      "15000/15000 [==============================] - 3s 209us/step - loss: 0.0917 - acc: 0.9732 - val_loss: 0.3166 - val_acc: 0.8832\n",
      "Epoch 6/10\n",
      "15000/15000 [==============================] - 3s 211us/step - loss: 0.0770 - acc: 0.9773 - val_loss: 0.3507 - val_acc: 0.8808\n",
      "Epoch 7/10\n",
      "15000/15000 [==============================] - 3s 200us/step - loss: 0.0633 - acc: 0.9829 - val_loss: 0.3879 - val_acc: 0.8769\n",
      "Epoch 8/10\n",
      "15000/15000 [==============================] - 3s 222us/step - loss: 0.0536 - acc: 0.9851 - val_loss: 0.3919 - val_acc: 0.8766\n",
      "Epoch 9/10\n",
      "15000/15000 [==============================] - 3s 217us/step - loss: 0.0449 - acc: 0.9879 - val_loss: 0.4213 - val_acc: 0.8745\n",
      "Epoch 10/10\n",
      "15000/15000 [==============================] - 3s 222us/step - loss: 0.0314 - acc: 0.9932 - val_loss: 0.4482 - val_acc: 0.8739\n"
     ]
    }
   ],
   "source": [
    "model.compile(optimizer='rmsprop',\n",
    "                                loss='binary_crossentropy',\n",
    "                                metrics=['acc'])\n",
    "clf = model.fit(partial_x_train, partial_y_train, epochs=10, batch_size=512,  validation_data=(x_val, y_val))"
   ]
  },
  {
   "cell_type": "code",
   "execution_count": 158,
   "metadata": {},
   "outputs": [
    {
     "data": {
      "text/plain": [
       "dict_items([('val_loss', [0.29572431449890135, 0.2769608953952789, 0.28893506326675417, 0.33421293926239015, 0.3165882429599762, 0.35069416522979735, 0.3879179232597351, 0.3918500630378723, 0.4213141543388367, 0.4481583708763123]), ('val_acc', [0.8809000000953674, 0.8904000002861023, 0.8863, 0.876, 0.8831999998092651, 0.8807999997138977, 0.8768999999046325, 0.8765999995231628, 0.874499999332428, 0.8738999996185303]), ('acc', [0.9208000001271566, 0.9438666666348775, 0.9564666669527689, 0.9655333334604899, 0.9731999997138977, 0.977266666730245, 0.9828666665712993, 0.9850666665712993, 0.9878666665712993, 0.9932000002543131]), ('loss', [0.2224183527469635, 0.16486807993253072, 0.13816434117158255, 0.11026724510192872, 0.09169301500717798, 0.07703633316755294, 0.0632995248277982, 0.053634127668539686, 0.04486762619018555, 0.03141945470372836])])"
      ]
     },
     "execution_count": 158,
     "metadata": {},
     "output_type": "execute_result"
    }
   ],
   "source": [
    "history_dict = clf.history\n",
    "history_dict.items()"
   ]
  },
  {
   "cell_type": "code",
   "execution_count": 159,
   "metadata": {},
   "outputs": [
    {
     "data": {
      "image/png": "[encoded data removed]",
      "text/plain": [
       "<Figure size 432x288 with 1 Axes>"
      ]
     },
     "metadata": {
      "needs_background": "light"
     },
     "output_type": "display_data"
    }
   ],
   "source": [
    "import matplotlib.pyplot as plt\n",
    "history_dict = clf.history\n",
    "loss_values = history_dict['loss']\n",
    "val_loss_values = history_dict['val_loss']\n",
    "epochs = range(1, len(history_dict['loss']) + 1)\n",
    "plt.plot(epochs, loss_values, 'bo', label='Training loss')             # training loss는 '원'으로 표시\n",
    "plt.plot(epochs, val_loss_values, 'b', label='Validation loss')    # validation loss는 '선'으로 표시\n",
    "plt.title('Training and validation loss')\n",
    "plt.xlabel('Epochs')\n",
    "plt.ylabel('Loss')\n",
    "plt.legend()\n",
    "plt.show()"
   ]
  },
  {
   "cell_type": "code",
   "execution_count": 161,
   "metadata": {},
   "outputs": [
    {
     "data": {
      "image/png": "[encoded data removed]",
      "text/plain": [
       "<Figure size 432x288 with 1 Axes>"
      ]
     },
     "metadata": {
      "needs_background": "light"
     },
     "output_type": "display_data"
    }
   ],
   "source": [
    "plt.clf()   # clear the figure\n",
    "acc_values = history_dict['acc']\n",
    "val_acc_values = history_dict['val_acc']\n",
    "plt.plot(epochs, acc_values, 'bo', label='Training acc')\n",
    "plt.plot(epochs, val_acc_values, 'b', label='Validation acc')\n",
    "plt.title('Training and validation accuracy')\n",
    "plt.xlabel('Epochs')\n",
    "plt.ylabel('Loss')\n",
    "plt.legend()\n",
    "plt.show()"
   ]
  },
  {
   "cell_type": "markdown",
   "metadata": {},
   "source": [
    "### epoch = 4에서 overfitting 발생\n",
    "- epoch = 3 을 초과하여 학습하지 않는 것이 바람직함"
   ]
  },
  {
   "cell_type": "code",
   "execution_count": 162,
   "metadata": {},
   "outputs": [
    {
     "name": "stdout",
     "output_type": "stream",
     "text": [
      "Epoch 1/4\n",
      "25000/25000 [==============================] - 5s 190us/step - loss: 0.4542 - acc: 0.8192\n",
      "Epoch 2/4\n",
      "25000/25000 [==============================] - 4s 142us/step - loss: 0.2628 - acc: 0.9093\n",
      "Epoch 3/4\n",
      "25000/25000 [==============================] - 4s 147us/step - loss: 0.2035 - acc: 0.9276\n",
      "Epoch 4/4\n",
      "25000/25000 [==============================] - 4s 150us/step - loss: 0.1675 - acc: 0.9415\n",
      "25000/25000 [==============================] - 6s 232us/step\n"
     ]
    }
   ],
   "source": [
    "model = models.Sequential()\n",
    "model.add(layers.Dense(16, activation='relu', input_shape=(10000,)))\n",
    "model.add(layers.Dense(16, activation='relu'))\n",
    "model.add(layers.Dense(1, activation='sigmoid'))\n",
    "model.compile(optimizer='rmsprop',\n",
    "loss='binary_crossentropy',\n",
    "metrics=['accuracy'])\n",
    "model.fit(x_train, y_train, epochs=4, batch_size=512)\n",
    "results = model.evaluate(x_test, y_test)"
   ]
  },
  {
   "cell_type": "code",
   "execution_count": 163,
   "metadata": {},
   "outputs": [
    {
     "data": {
      "text/plain": [
       "array([[0.12742186],\n",
       "       [0.9994517 ],\n",
       "       [0.56680185],\n",
       "       ...,\n",
       "       [0.07348107],\n",
       "       [0.03411835],\n",
       "       [0.38255924]], dtype=float32)"
      ]
     },
     "execution_count": 163,
     "metadata": {},
     "output_type": "execute_result"
    }
   ],
   "source": [
    "model.predict(x_test)"
   ]
  },
  {
   "cell_type": "code",
   "execution_count": 166,
   "metadata": {},
   "outputs": [
    {
     "data": {
      "text/plain": [
       "9995"
      ]
     },
     "execution_count": 166,
     "metadata": {},
     "output_type": "execute_result"
    }
   ],
   "source": [
    "max(max(train_data))"
   ]
  },
  {
   "cell_type": "markdown",
   "metadata": {},
   "source": [
    "# Multiple-class Classification with Reuters dataset"
   ]
  },
  {
   "cell_type": "code",
   "execution_count": 167,
   "metadata": {},
   "outputs": [
    {
     "name": "stdout",
     "output_type": "stream",
     "text": [
      "Downloading data from https://s3.amazonaws.com/text-datasets/reuters.npz\n",
      "2113536/2110848 [==============================] - 2s 1us/step\n"
     ]
    }
   ],
   "source": [
    "from keras.datasets import reuters\n",
    "(train_data, train_labels), (test_data, test_labels) = reuters.load_data(num_words=10000)"
   ]
  },
  {
   "cell_type": "code",
   "execution_count": 170,
   "metadata": {},
   "outputs": [
    {
     "name": "stdout",
     "output_type": "stream",
     "text": [
      "8982\n",
      "2246\n"
     ]
    }
   ],
   "source": [
    "print(len(train_data)); print(len(test_data))"
   ]
  },
  {
   "cell_type": "code",
   "execution_count": 171,
   "metadata": {},
   "outputs": [
    {
     "data": {
      "text/plain": [
       "[1,\n",
       " 245,\n",
       " 273,\n",
       " 207,\n",
       " 156,\n",
       " 53,\n",
       " 74,\n",
       " 160,\n",
       " 26,\n",
       " 14,\n",
       " 46,\n",
       " 296,\n",
       " 26,\n",
       " 39,\n",
       " 74,\n",
       " 2979,\n",
       " 3554,\n",
       " 14,\n",
       " 46,\n",
       " 4689,\n",
       " 4329,\n",
       " 86,\n",
       " 61,\n",
       " 3499,\n",
       " 4795,\n",
       " 14,\n",
       " 61,\n",
       " 451,\n",
       " 4329,\n",
       " 17,\n",
       " 12]"
      ]
     },
     "execution_count": 171,
     "metadata": {},
     "output_type": "execute_result"
    }
   ],
   "source": [
    "train_data[10]"
   ]
  },
  {
   "cell_type": "code",
   "execution_count": 172,
   "metadata": {},
   "outputs": [
    {
     "name": "stdout",
     "output_type": "stream",
     "text": [
      "Downloading data from https://s3.amazonaws.com/text-datasets/reuters_word_index.json\n",
      "557056/550378 [==============================] - 4s 7us/step\n"
     ]
    }
   ],
   "source": [
    "word_index = reuters.get_word_index()\n",
    "reverse_word_index = dict([(value, key) for (key, value) in word_index.items()])\n",
    "decoded_newswire = ' '.join([reverse_word_index.get(i - 3, '?') for i in train_data[0]])"
   ]
  },
  {
   "cell_type": "code",
   "execution_count": 173,
   "metadata": {},
   "outputs": [
    {
     "name": "stdout",
     "output_type": "stream",
     "text": [
      "? ? ? said as a result of its december acquisition of space co it expects earnings per share in 1987 of 1 15 to 1 30 dlrs per share up from 70 cts in 1986 the company said pretax net should rise to nine to 10 mln dlrs from six mln dlrs in 1986 and rental operation revenues to 19 to 22 mln dlrs from 12 5 mln dlrs it said cash flow per share this year should be 2 50 to three dlrs reuter 3\n"
     ]
    }
   ],
   "source": [
    "print(decoded_newswire)"
   ]
  },
  {
   "cell_type": "code",
   "execution_count": 177,
   "metadata": {},
   "outputs": [
    {
     "name": "stdout",
     "output_type": "stream",
     "text": [
      "3\n",
      "4\n",
      "3\n",
      "4\n",
      "4\n"
     ]
    }
   ],
   "source": [
    "for i in train_labels[:5]:\n",
    "    print(i)"
   ]
  },
  {
   "cell_type": "markdown",
   "metadata": {},
   "source": [
    "### 학습을 위한 데이터 준비 : 입력데이터"
   ]
  },
  {
   "cell_type": "code",
   "execution_count": 186,
   "metadata": {},
   "outputs": [],
   "source": [
    "import numpy as np\n",
    "def vectorize_sequences(sequences, dimension=10000):\n",
    "        results = np.zeros((len(sequences), dimension))\n",
    "        for i, sequence in enumerate(sequences):\n",
    "            results[i, sequence] = 1.\n",
    "        return results\n",
    "\n",
    "x_train = vectorize_sequences(train_data)\n",
    "x_test = vectorize_sequences(test_data)"
   ]
  },
  {
   "cell_type": "markdown",
   "metadata": {},
   "source": [
    "### 학습을 위한 데이터 준비 : 출력데이터 => One-hot encoding (categorical encoding)"
   ]
  },
  {
   "cell_type": "code",
   "execution_count": 187,
   "metadata": {},
   "outputs": [],
   "source": [
    "def to_one_hot(labels, dimension=46):\n",
    "    results = np.zeros((len(labels), dimension))\n",
    "    for i, label in enumerate(labels):\n",
    "        results[i, label] = 1.\n",
    "    return results\n",
    "\n",
    "one_hot_train_labels = to_one_hot(train_labels)\n",
    "one_hot_test_labels = to_one_hot(test_labels)"
   ]
  },
  {
   "cell_type": "code",
   "execution_count": 188,
   "metadata": {},
   "outputs": [
    {
     "name": "stdout",
     "output_type": "stream",
     "text": [
      "[[0. 0. 0. ... 0. 0. 0.]\n",
      " [0. 0. 0. ... 0. 0. 0.]\n",
      " [0. 1. 0. ... 0. 0. 0.]\n",
      " ...\n",
      " [0. 0. 0. ... 0. 0. 0.]\n",
      " [0. 0. 0. ... 0. 0. 0.]\n",
      " [0. 0. 0. ... 0. 0. 0.]]\n"
     ]
    }
   ],
   "source": [
    "print(one_hot_test_labels)"
   ]
  },
  {
   "cell_type": "code",
   "execution_count": 189,
   "metadata": {},
   "outputs": [],
   "source": [
    "# 이미 Keras에서는  one-hot encoding 함수를 지원하고 있음\n",
    "from keras.utils.np_utils import to_categorical\n",
    "one_hot_train_labels = to_categorical(train_labels)\n",
    "one_hot_test_labels = to_categorical(test_labels)"
   ]
  },
  {
   "cell_type": "markdown",
   "metadata": {},
   "source": [
    "### DNN 설계: hidden layer의 개수는 몇 개? 각 Hidden layer의 node개수는 몇 개?"
   ]
  },
  {
   "cell_type": "code",
   "execution_count": 190,
   "metadata": {},
   "outputs": [],
   "source": [
    "from keras import models\n",
    "from keras import layers\n",
    "model = models.Sequential()\n",
    "model.add(layers.Dense(64, activation='relu', input_shape=(10000,))) # Input layer의 노드 개수는 입력 벡터의 성분 개수와 일치해야 함\n",
    "model.add(layers.Dense(64, activation='relu'))\n",
    "model.add(layers.Dense(46, activation='softmax'))   # Output layer의 노드 개수는 46개: class 개수와 일치해야 함\n",
    "# output[i] is the probability that the sample belongs to class i."
   ]
  },
  {
   "cell_type": "code",
   "execution_count": 191,
   "metadata": {},
   "outputs": [],
   "source": [
    "model.compile(optimizer='rmsprop',\n",
    "                loss='categorical_crossentropy', # measures the distance between two probability distributions\n",
    "                metrics=['accuracy'])"
   ]
  },
  {
   "cell_type": "code",
   "execution_count": 192,
   "metadata": {},
   "outputs": [],
   "source": [
    "x_val = x_train[:1000]\n",
    "partial_x_train = x_train[1000:]\n",
    "y_val = one_hot_train_labels[:1000]\n",
    "partial_y_train = one_hot_train_labels[1000:]"
   ]
  },
  {
   "cell_type": "code",
   "execution_count": 193,
   "metadata": {},
   "outputs": [
    {
     "name": "stdout",
     "output_type": "stream",
     "text": [
      "Train on 7982 samples, validate on 1000 samples\n",
      "Epoch 1/20\n",
      "7982/7982 [==============================] - 3s 354us/step - loss: 2.4981 - acc: 0.4905 - val_loss: 1.6822 - val_acc: 0.6480\n",
      "Epoch 2/20\n",
      "7982/7982 [==============================] - 2s 200us/step - loss: 1.3929 - acc: 0.7033 - val_loss: 1.2799 - val_acc: 0.7170\n",
      "Epoch 3/20\n",
      "7982/7982 [==============================] - 2s 209us/step - loss: 1.0487 - acc: 0.7695 - val_loss: 1.1184 - val_acc: 0.7610\n",
      "Epoch 4/20\n",
      "7982/7982 [==============================] - 2s 238us/step - loss: 0.8244 - acc: 0.8272 - val_loss: 1.0222 - val_acc: 0.7770\n",
      "Epoch 5/20\n",
      "7982/7982 [==============================] - 2s 260us/step - loss: 0.6596 - acc: 0.8633 - val_loss: 0.9728 - val_acc: 0.7940\n",
      "Epoch 6/20\n",
      "7982/7982 [==============================] - 2s 218us/step - loss: 0.5250 - acc: 0.8928 - val_loss: 0.9206 - val_acc: 0.8110\n",
      "Epoch 7/20\n",
      "7982/7982 [==============================] - 2s 209us/step - loss: 0.4287 - acc: 0.9114 - val_loss: 0.9124 - val_acc: 0.8040\n",
      "Epoch 8/20\n",
      "7982/7982 [==============================] - 2s 193us/step - loss: 0.3490 - acc: 0.9282 - val_loss: 0.8946 - val_acc: 0.8160\n",
      "Epoch 9/20\n",
      "7982/7982 [==============================] - 2s 190us/step - loss: 0.2893 - acc: 0.9381 - val_loss: 0.9119 - val_acc: 0.8090\n",
      "Epoch 10/20\n",
      "7982/7982 [==============================] - 2s 216us/step - loss: 0.2450 - acc: 0.9454 - val_loss: 0.9132 - val_acc: 0.8120\n",
      "Epoch 11/20\n",
      "7982/7982 [==============================] - 2s 229us/step - loss: 0.2105 - acc: 0.9485 - val_loss: 0.9527 - val_acc: 0.8100\n",
      "Epoch 12/20\n",
      "7982/7982 [==============================] - ETA: 0s - loss: 0.1878 - acc: 0.952 - 2s 228us/step - loss: 0.1885 - acc: 0.9526 - val_loss: 0.9599 - val_acc: 0.8040\n",
      "Epoch 13/20\n",
      "7982/7982 [==============================] - 2s 254us/step - loss: 0.1662 - acc: 0.9529 - val_loss: 0.9932 - val_acc: 0.7980\n",
      "Epoch 14/20\n",
      "7982/7982 [==============================] - 2s 239us/step - loss: 0.1535 - acc: 0.9546 - val_loss: 0.9769 - val_acc: 0.8050\n",
      "Epoch 15/20\n",
      "7982/7982 [==============================] - 2s 245us/step - loss: 0.1457 - acc: 0.9546 - val_loss: 1.0188 - val_acc: 0.8000\n",
      "Epoch 16/20\n",
      "7982/7982 [==============================] - 2s 255us/step - loss: 0.1329 - acc: 0.9554 - val_loss: 1.0386 - val_acc: 0.8010\n",
      "Epoch 17/20\n",
      "7982/7982 [==============================] - 2s 228us/step - loss: 0.1259 - acc: 0.9563 - val_loss: 1.0398 - val_acc: 0.7960\n",
      "Epoch 18/20\n",
      "7982/7982 [==============================] - 2s 218us/step - loss: 0.1169 - acc: 0.9563 - val_loss: 1.0354 - val_acc: 0.8150\n",
      "Epoch 19/20\n",
      "7982/7982 [==============================] - 2s 213us/step - loss: 0.1160 - acc: 0.9569 - val_loss: 1.0314 - val_acc: 0.8070\n",
      "Epoch 20/20\n",
      "7982/7982 [==============================] - 2s 210us/step - loss: 0.1138 - acc: 0.9583 - val_loss: 1.0486 - val_acc: 0.8020\n"
     ]
    }
   ],
   "source": [
    "history = model.fit(partial_x_train, partial_y_train, epochs=20, batch_size=512, validation_data=(x_val, y_val))"
   ]
  },
  {
   "cell_type": "code",
   "execution_count": 194,
   "metadata": {},
   "outputs": [
    {
     "data": {
      "image/png": "[encoded data removed]",
      "text/plain": [
       "<Figure size 432x288 with 1 Axes>"
      ]
     },
     "metadata": {
      "needs_background": "light"
     },
     "output_type": "display_data"
    }
   ],
   "source": [
    "import matplotlib.pyplot as plt\n",
    "loss = history.history['loss']\n",
    "val_loss = history.history['val_loss']\n",
    "epochs = range(1, len(loss) + 1)\n",
    "plt.plot(epochs, loss, 'bo', label='Training loss')\n",
    "plt.plot(epochs, val_loss, 'b', label='Validation loss')\n",
    "plt.title('Training and validation loss')\n",
    "plt.xlabel('Epochs')\n",
    "plt.ylabel('Loss')\n",
    "plt.legend()\n",
    "plt.show()"
   ]
  },
  {
   "cell_type": "code",
   "execution_count": 195,
   "metadata": {},
   "outputs": [
    {
     "data": {
      "image/png": "[encoded data removed]",
      "text/plain": [
       "<Figure size 432x288 with 1 Axes>"
      ]
     },
     "metadata": {
      "needs_background": "light"
     },
     "output_type": "display_data"
    }
   ],
   "source": [
    "plt.clf()\n",
    "acc = history.history['acc']\n",
    "val_acc = history.history['val_acc']\n",
    "plt.plot(epochs, acc, 'bo', label='Training acc')\n",
    "plt.plot(epochs, val_acc, 'b', label='Validation acc')\n",
    "plt.title('Training and validation accuracy')\n",
    "plt.xlabel('Epochs')\n",
    "plt.ylabel('Loss')\n",
    "plt.legend()\n",
    "plt.show()"
   ]
  },
  {
   "cell_type": "code",
   "execution_count": 196,
   "metadata": {},
   "outputs": [
    {
     "name": "stdout",
     "output_type": "stream",
     "text": [
      "Train on 7982 samples, validate on 1000 samples\n",
      "Epoch 1/9\n",
      "7982/7982 [==============================] - 2s 298us/step - loss: 2.5386 - acc: 0.5228 - val_loss: 1.6738 - val_acc: 0.6570\n",
      "Epoch 2/9\n",
      "7982/7982 [==============================] - 2s 205us/step - loss: 1.3717 - acc: 0.7116 - val_loss: 1.2761 - val_acc: 0.7210\n",
      "Epoch 3/9\n",
      "7982/7982 [==============================] - 2s 209us/step - loss: 1.0148 - acc: 0.7789 - val_loss: 1.1326 - val_acc: 0.7530\n",
      "Epoch 4/9\n",
      "7982/7982 [==============================] - 2s 197us/step - loss: 0.7992 - acc: 0.8245 - val_loss: 1.0539 - val_acc: 0.7590\n",
      "Epoch 5/9\n",
      "7982/7982 [==============================] - 2s 203us/step - loss: 0.6405 - acc: 0.8632 - val_loss: 0.9747 - val_acc: 0.7940\n",
      "Epoch 6/9\n",
      "7982/7982 [==============================] - 2s 206us/step - loss: 0.5133 - acc: 0.8918 - val_loss: 0.9104 - val_acc: 0.8110\n",
      "Epoch 7/9\n",
      "7982/7982 [==============================] - 2s 209us/step - loss: 0.4136 - acc: 0.9139 - val_loss: 0.8942 - val_acc: 0.8210\n",
      "Epoch 8/9\n",
      "7982/7982 [==============================] - 2s 200us/step - loss: 0.3373 - acc: 0.9281 - val_loss: 0.8744 - val_acc: 0.8240\n",
      "Epoch 9/9\n",
      "7982/7982 [==============================] - 2s 202us/step - loss: 0.2798 - acc: 0.9371 - val_loss: 0.9338 - val_acc: 0.8030\n",
      "2246/2246 [==============================] - 1s 254us/step\n"
     ]
    }
   ],
   "source": [
    "model = models.Sequential()\n",
    "model.add(layers.Dense(64, activation='relu', input_shape=(10000,)))\n",
    "model.add(layers.Dense(64, activation='relu'))\n",
    "model.add(layers.Dense(46, activation='softmax'))\n",
    "model.compile(optimizer='rmsprop', loss='categorical_crossentropy', metrics=['accuracy'])\n",
    "model.fit(partial_x_train, partial_y_train, epochs=9, batch_size=512, validation_data=(x_val, y_val)) # epoch = 9로 설정하여 재학습"
   ]
  },
  {
   "cell_type": "code",
   "execution_count": 207,
   "metadata": {},
   "outputs": [
    {
     "name": "stdout",
     "output_type": "stream",
     "text": [
      "2246/2246 [==============================] - 0s 198us/step\n",
      "손실값 loss:  1.021839728444576 , 정확도 accuracy:  0.7782724844698171\n"
     ]
    }
   ],
   "source": [
    "results = model.evaluate(x_test, one_hot_test_labels)\n",
    "print(\"손실값 loss: \", results[0], \", 정확도 accuracy: \", results[1]) "
   ]
  },
  {
   "cell_type": "markdown",
   "metadata": {},
   "source": [
    "- 46개 클래스에 대한 자동 분류 정확도가 80%에 가까운 것은 상당히 높은 수준임"
   ]
  },
  {
   "cell_type": "code",
   "execution_count": 208,
   "metadata": {},
   "outputs": [
    {
     "data": {
      "text/plain": [
       "0.182546749777382"
      ]
     },
     "execution_count": 208,
     "metadata": {},
     "output_type": "execute_result"
    }
   ],
   "source": [
    "import copy\n",
    "test_labels_copy = copy.copy(test_labels)\n",
    "np.random.shuffle(test_labels_copy)\n",
    "hits_array = np.array(test_labels) == np.array(test_labels_copy)\n",
    "float(np.sum(hits_array)) / len(test_labels)"
   ]
  },
  {
   "cell_type": "code",
   "execution_count": 212,
   "metadata": {},
   "outputs": [
    {
     "name": "stdout",
     "output_type": "stream",
     "text": [
      "테스트 데이터 shape:  (2246, 10000)\n",
      "예측결과 shape:  (2246, 46)\n",
      "[9.7036391e-06 8.3216917e-05 2.7830243e-05 9.7298795e-01 1.5039995e-02\n",
      " 1.2353176e-07 1.0837045e-04 3.4213375e-05 3.6581643e-03 2.2200679e-06\n",
      " 3.5730885e-05 1.4473418e-03 5.7975496e-05 3.0032148e-05 5.2202886e-06\n",
      " 1.8679744e-05 9.5829461e-04 2.0881165e-04 3.1683160e-04 1.2523143e-03\n",
      " 8.2401844e-04 5.0994579e-04 7.5777198e-06 6.3548599e-05 1.1882981e-05\n",
      " 3.1294816e-04 2.8300426e-06 2.7801698e-05 7.7092463e-06 1.0940306e-04\n",
      " 3.3912424e-04 1.8460772e-04 1.2370942e-05 4.4053435e-05 3.7108068e-05\n",
      " 2.1978234e-05 1.7865990e-04 4.9455273e-05 9.7530108e-05 3.0139787e-04\n",
      " 3.9525599e-05 4.8450276e-04 2.3573032e-06 3.0972977e-05 6.3740613e-06\n",
      " 9.6551676e-06]\n",
      "Sum:  1.0000004\n",
      "3\n",
      "0.97298795\n"
     ]
    }
   ],
   "source": [
    "predictions = model.predict(x_test)\n",
    "\n",
    "print(\"테스트 데이터 shape: \", x_test.shape)\n",
    "print(\"예측결과 shape: \", predictions.shape)\n",
    "print(predictions[0])\n",
    "print(\"Sum: \", np.sum(predictions[0]))\n",
    "print(np.argmax(predictions[0]))\n",
    "print(predictions[0][3])"
   ]
  },
  {
   "cell_type": "markdown",
   "metadata": {},
   "source": [
    "### Hidden layer의 노드 수가 상대적으로 적으면, ..."
   ]
  },
  {
   "cell_type": "code",
   "execution_count": 213,
   "metadata": {},
   "outputs": [
    {
     "name": "stdout",
     "output_type": "stream",
     "text": [
      "Train on 7982 samples, validate on 1000 samples\n",
      "Epoch 1/20\n",
      "7982/7982 [==============================] - 3s 383us/step - loss: 2.6672 - acc: 0.3695 - val_loss: 1.9826 - val_acc: 0.5100 - loss: 2.8388 - acc\n",
      "Epoch 2/20\n",
      "7982/7982 [==============================] - 2s 292us/step - loss: 1.6754 - acc: 0.6138 - val_loss: 1.5464 - val_acc: 0.6250\n",
      "Epoch 3/20\n",
      "7982/7982 [==============================] - 2s 290us/step - loss: 1.3370 - acc: 0.6676 - val_loss: 1.3965 - val_acc: 0.6770\n",
      "Epoch 4/20\n",
      "7982/7982 [==============================] - 3s 315us/step - loss: 1.1447 - acc: 0.7261 - val_loss: 1.3212 - val_acc: 0.6970\n",
      "Epoch 5/20\n",
      "7982/7982 [==============================] - 3s 317us/step - loss: 1.0119 - acc: 0.7454 - val_loss: 1.2665 - val_acc: 0.7040\n",
      "Epoch 6/20\n",
      "7982/7982 [==============================] - 2s 293us/step - loss: 0.9101 - acc: 0.7568 - val_loss: 1.2730 - val_acc: 0.7090\n",
      "Epoch 7/20\n",
      "7982/7982 [==============================] - 2s 298us/step - loss: 0.8297 - acc: 0.7730 - val_loss: 1.2621 - val_acc: 0.7050\n",
      "Epoch 8/20\n",
      "7982/7982 [==============================] - 3s 321us/step - loss: 0.7670 - acc: 0.7902 - val_loss: 1.2651 - val_acc: 0.7200\n",
      "Epoch 9/20\n",
      "7982/7982 [==============================] - 2s 295us/step - loss: 0.7100 - acc: 0.8037 - val_loss: 1.2829 - val_acc: 0.7150\n",
      "Epoch 10/20\n",
      "7982/7982 [==============================] - 2s 286us/step - loss: 0.6589 - acc: 0.8132 - val_loss: 1.3270 - val_acc: 0.7140\n",
      "Epoch 11/20\n",
      "7982/7982 [==============================] - 2s 298us/step - loss: 0.6143 - acc: 0.8229 - val_loss: 1.3478 - val_acc: 0.7120\n",
      "Epoch 12/20\n",
      "7982/7982 [==============================] - 2s 306us/step - loss: 0.5752 - acc: 0.8361 - val_loss: 1.3979 - val_acc: 0.7140\n",
      "Epoch 13/20\n",
      "7982/7982 [==============================] - 2s 312us/step - loss: 0.5379 - acc: 0.8472 - val_loss: 1.4404 - val_acc: 0.7090\n",
      "Epoch 14/20\n",
      "7982/7982 [==============================] - 2s 289us/step - loss: 0.5051 - acc: 0.8576 - val_loss: 1.4624 - val_acc: 0.7140\n",
      "Epoch 15/20\n",
      "7982/7982 [==============================] - 2s 291us/step - loss: 0.4765 - acc: 0.8676 - val_loss: 1.5266 - val_acc: 0.7100\n",
      "Epoch 16/20\n",
      "7982/7982 [==============================] - 2s 288us/step - loss: 0.4469 - acc: 0.8800 - val_loss: 1.5391 - val_acc: 0.7120\n",
      "Epoch 17/20\n",
      "7982/7982 [==============================] - 3s 318us/step - loss: 0.4228 - acc: 0.8835 - val_loss: 1.5797 - val_acc: 0.7170ss: 0.4300 - a\n",
      "Epoch 18/20\n",
      "7982/7982 [==============================] - 3s 358us/step - loss: 0.4014 - acc: 0.8910 - val_loss: 1.6283 - val_acc: 0.7170\n",
      "Epoch 19/20\n",
      "7982/7982 [==============================] - 3s 335us/step - loss: 0.3830 - acc: 0.8939 - val_loss: 1.6666 - val_acc: 0.7090\n",
      "Epoch 20/20\n",
      "7982/7982 [==============================] - 3s 320us/step - loss: 0.3649 - acc: 0.8963 - val_loss: 1.7289 - val_acc: 0.7120\n"
     ]
    },
    {
     "data": {
      "text/plain": [
       "<keras.callbacks.History at 0x1d6222dcfd0>"
      ]
     },
     "execution_count": 213,
     "metadata": {},
     "output_type": "execute_result"
    }
   ],
   "source": [
    "model = models.Sequential()\n",
    "model.add(layers.Dense(64, activation='relu', input_shape=(10000,)))\n",
    "model.add(layers.Dense(4, activation='relu'))\n",
    "model.add(layers.Dense(46, activation='softmax'))\n",
    "model.compile(optimizer='rmsprop', loss='categorical_crossentropy', metrics=['accuracy'])\n",
    "model.fit(partial_x_train, partial_y_train, epochs=20, batch_size=128, validation_data=(x_val, y_val))"
   ]
  },
  {
   "cell_type": "markdown",
   "metadata": {},
   "source": [
    "## Regression with the Boston Housing Price dataset : 집 값 예측"
   ]
  },
  {
   "cell_type": "code",
   "execution_count": 214,
   "metadata": {},
   "outputs": [
    {
     "name": "stdout",
     "output_type": "stream",
     "text": [
      "Downloading data from https://s3.amazonaws.com/keras-datasets/boston_housing.npz\n",
      "57344/57026 [==============================] - 0s 4us/step\n"
     ]
    }
   ],
   "source": [
    "from keras.datasets import boston_housing\n",
    "\n",
    "(train_data, train_targets), (test_data, test_targets) = boston_housing.load_data()"
   ]
  },
  {
   "cell_type": "code",
   "execution_count": 216,
   "metadata": {},
   "outputs": [
    {
     "name": "stdout",
     "output_type": "stream",
     "text": [
      "(404, 13)\n",
      "(102, 13)\n"
     ]
    }
   ],
   "source": [
    "print(train_data.shape)\n",
    "print(test_data.shape)"
   ]
  },
  {
   "cell_type": "code",
   "execution_count": 218,
   "metadata": {},
   "outputs": [
    {
     "data": {
      "text/plain": [
       "array([15.2, 42.3, 50. , 21.1, 17.7])"
      ]
     },
     "execution_count": 218,
     "metadata": {},
     "output_type": "execute_result"
    }
   ],
   "source": [
    "train_targets[:5]  # 1970년대 Boston 집 가격: 15.2 * $1000"
   ]
  },
  {
   "cell_type": "markdown",
   "metadata": {},
   "source": [
    "- 데이터 정규화 필요 : Z-scoring 활용 (학습데이터의 평균 및 표준편차 이용)  $z = \\frac{x-\\mu}{\\sigma}$"
   ]
  },
  {
   "cell_type": "code",
   "execution_count": 219,
   "metadata": {},
   "outputs": [],
   "source": [
    "mean = train_data.mean(axis=0)\n",
    "train_data -= mean\n",
    "std = train_data.std(axis=0)\n",
    "train_data /= std\n",
    "test_data -= mean\n",
    "test_data /= std"
   ]
  },
  {
   "cell_type": "code",
   "execution_count": 220,
   "metadata": {},
   "outputs": [],
   "source": [
    "from keras import models\n",
    "from keras import layers\n",
    "\n",
    "def build_model():\n",
    "    model = models.Sequential()\n",
    "    model.add(layers.Dense(64, activation='relu', input_shape=(train_data.shape[1],)))\n",
    "    model.add(layers.Dense(64, activation='relu'))\n",
    "    model.add(layers.Dense(1))  # activation 함수 없음. 임의의 값 (집 값)을 출력\n",
    "    model.compile(optimizer='rmsprop', loss='mse', metrics=['mae'])   # mse: mean squared error , regression을 위해 흔히 사용하는 loss 함수\n",
    "    return model"
   ]
  },
  {
   "cell_type": "markdown",
   "metadata": {},
   "source": [
    "- Cross Validation 활용"
   ]
  },
  {
   "cell_type": "code",
   "execution_count": 222,
   "metadata": {},
   "outputs": [
    {
     "name": "stdout",
     "output_type": "stream",
     "text": [
      "101\n"
     ]
    }
   ],
   "source": [
    "import numpy as np\n",
    "k = 4\n",
    "num_val_samples = len(train_data) // k\n",
    "num_epochs = 100\n",
    "all_scores = []\n",
    "print(num_val_samples)"
   ]
  },
  {
   "cell_type": "code",
   "execution_count": 223,
   "metadata": {},
   "outputs": [
    {
     "name": "stdout",
     "output_type": "stream",
     "text": [
      "processing fold # 0\n",
      "processing fold # 1\n",
      "processing fold # 2\n",
      "processing fold # 3\n"
     ]
    }
   ],
   "source": [
    "for i in range(k):\n",
    "    print('processing fold #', i)\n",
    "    val_data       = train_data     [i * num_val_samples: (i + 1) * num_val_samples]\n",
    "    val_targets = train_targets[i * num_val_samples: (i + 1) * num_val_samples]\n",
    "    partial_train_data      = np.concatenate([train_data      [ : i * num_val_samples],      train_data[(i + 1) * num_val_samples :  ]], axis=0)\n",
    "    partial_train_targets = np.concatenate([train_targets[ : i * num_val_samples], train_targets[(i + 1) * num_val_samples : ]], axis=0)\n",
    "    model = build_model()\n",
    "    model.fit(partial_train_data, partial_train_targets, epochs=num_epochs, batch_size=1, verbose=0)\n",
    "    val_mse, val_mae = model.evaluate(val_data, val_targets, verbose=0)\n",
    "    all_scores.append(val_mae)"
   ]
  },
  {
   "cell_type": "code",
   "execution_count": 224,
   "metadata": {},
   "outputs": [
    {
     "name": "stdout",
     "output_type": "stream",
     "text": [
      "[2.064274267394944, 2.2335381791143134, 2.9516372869510463, 2.4250123624754423]\n",
      "2.4186155239839366\n"
     ]
    }
   ],
   "source": [
    "print(all_scores)\n",
    "print(np.mean(all_scores))"
   ]
  },
  {
   "cell_type": "code",
   "execution_count": 225,
   "metadata": {},
   "outputs": [
    {
     "name": "stdout",
     "output_type": "stream",
     "text": [
      "processing fold # 0\n",
      "processing fold # 1\n",
      "processing fold # 2\n",
      "processing fold # 3\n"
     ]
    }
   ],
   "source": [
    "num_epochs = 500\n",
    "all_mae_histories = []\n",
    "for i in range(k):\n",
    "    print('processing fold #', i)\n",
    "    val_data = train_data[i * num_val_samples: (i + 1) * num_val_samples]\n",
    "    val_targets = train_targets[i * num_val_samples: (i + 1) * num_val_samples]\n",
    "    partial_train_data = np.concatenate([train_data[:i * num_val_samples], train_data[(i + 1) * num_val_samples:]], axis=0)\n",
    "    partial_train_targets = np.concatenate([train_targets[:i * num_val_samples], train_targets[(i + 1) * num_val_samples:]], axis=0)\n",
    "    model = build_model()\n",
    "    history = model.fit(partial_train_data, partial_train_targets, validation_data=(val_data, val_targets), \n",
    "                        epochs=num_epochs, batch_size=1, verbose=0)\n",
    "    mae_history = history.history['val_mean_absolute_error']\n",
    "    all_mae_histories.append(mae_history)"
   ]
  },
  {
   "cell_type": "code",
   "execution_count": 246,
   "metadata": {},
   "outputs": [],
   "source": [
    "average_mae_history = [np.mean([x[i] for x in all_mae_histories]) for i in range(num_epochs)]"
   ]
  },
  {
   "cell_type": "code",
   "execution_count": 269,
   "metadata": {},
   "outputs": [
    {
     "data": {
      "image/png": "[encoded data removed]",
      "text/plain": [
       "<Figure size 432x288 with 1 Axes>"
      ]
     },
     "metadata": {
      "needs_background": "light"
     },
     "output_type": "display_data"
    }
   ],
   "source": [
    "import matplotlib.pyplot as plt\n",
    "plt.plot(range(1, len(average_mae_history) + 1), average_mae_history)\n",
    "plt.xlabel('Epochs')\n",
    "plt.ylabel('Validation MAE')\n",
    "plt.ylim(2.2, 2.8)\n",
    "plt.show()"
   ]
  },
  {
   "cell_type": "code",
   "execution_count": 257,
   "metadata": {},
   "outputs": [
    {
     "data": {
      "image/png": "[encoded data removed]",
      "text/plain": [
       "<Figure size 432x288 with 1 Axes>"
      ]
     },
     "metadata": {
      "needs_background": "light"
     },
     "output_type": "display_data"
    }
   ],
   "source": [
    "def smooth_curve(points, factor=0.999):\n",
    "    smoothed_points = []\n",
    "    for point in points:\n",
    "        if smoothed_points:\n",
    "            previous = smoothed_points[-1]\n",
    "            smoothed_points.append(previous * factor + point * (1 - factor))\n",
    "        else:\n",
    "            smoothed_points.append(point)\n",
    "    return smoothed_points\n",
    "\n",
    "smooth_mae_history = smooth_curve(average_mae_history[10:])\n",
    "plt.plot(range(1, len(smooth_mae_history) + 1), smooth_mae_history)\n",
    "plt.xlabel('Epochs')\n",
    "plt.ylabel('Validation MAE')\n",
    "plt.show()"
   ]
  },
  {
   "cell_type": "code",
   "execution_count": 262,
   "metadata": {},
   "outputs": [
    {
     "name": "stdout",
     "output_type": "stream",
     "text": [
      "102/102 [==============================] - 0s 3ms/step\n"
     ]
    }
   ],
   "source": [
    "model = build_model()\n",
    "model.fit(train_data, train_targets, epochs=85, batch_size=16, verbose=0)\n",
    "test_mse_score, test_mae_score = model.evaluate(test_data, test_targets)"
   ]
  },
  {
   "cell_type": "code",
   "execution_count": 263,
   "metadata": {},
   "outputs": [
    {
     "data": {
      "text/plain": [
       "2.6587407635707483"
      ]
     },
     "execution_count": 263,
     "metadata": {},
     "output_type": "execute_result"
    }
   ],
   "source": [
    "test_mae_score"
   ]
  },
  {
   "cell_type": "code",
   "execution_count": 233,
   "metadata": {},
   "outputs": [],
   "source": [
    "results = model.predict(test_data)"
   ]
  },
  {
   "cell_type": "code",
   "execution_count": 241,
   "metadata": {},
   "outputs": [
    {
     "name": "stdout",
     "output_type": "stream",
     "text": [
      "7.2 [8.850958] [1.6509581]\n",
      "18.8 [18.99149] [0.19149017]\n",
      "19.0 [21.41733] [2.4173298]\n",
      "27.0 [32.460064] [5.460064]\n",
      "22.2 [24.358362] [2.1583614]\n",
      "24.5 [21.249205] [3.2507954]\n",
      "31.2 [27.188276] [4.0117245]\n",
      "22.9 [21.213137] [1.686863]\n",
      "20.5 [19.939726] [0.5602741]\n",
      "23.2 [21.842724] [1.3572769]\n",
      "18.6 [19.267265] [0.66726494]\n",
      "14.5 [17.154707] [2.654707]\n",
      "17.8 [16.541786] [1.258213]\n",
      "50.0 [42.894367] [7.105633]\n",
      "20.8 [20.160604] [0.63939476]\n",
      "24.3 [18.858152] [5.441847]\n",
      "24.2 [24.687273] [0.48727226]\n",
      "19.8 [17.52112] [2.2788792]\n",
      "19.1 [19.022024] [0.07797623]\n",
      "22.7 [27.503] [4.8029995]\n",
      "12.0 [11.389185] [0.61081505]\n",
      "10.2 [14.417004] [4.217004]\n",
      "20.0 [21.006445] [1.0064449]\n",
      "18.5 [14.218787] [4.281213]\n",
      "20.9 [18.139631] [2.7603683]\n",
      "23.0 [25.14414] [2.1441402]\n",
      "27.5 [29.739584] [2.239584]\n",
      "30.1 [29.592617] [0.50738335]\n",
      "9.5 [11.493132] [1.9931316]\n",
      "22.0 [18.606268] [3.393732]\n",
      "21.2 [19.759867] [1.440134]\n",
      "14.1 [14.893814] [0.7938137]\n",
      "33.1 [33.500153] [0.4001541]\n",
      "23.4 [23.118723] [0.2812767]\n",
      "20.1 [18.507694] [1.5923061]\n",
      "7.4 [8.096675] [0.6966748]\n",
      "15.4 [17.290815] [1.8908157]\n",
      "23.8 [18.597168] [5.2028313]\n",
      "20.1 [21.378088] [1.2780876]\n",
      "24.5 [25.77176] [1.271761]\n",
      "33.0 [30.379068] [2.6209316]\n",
      "28.4 [26.642145] [1.7578545]\n",
      "14.1 [14.159216] [0.05921555]\n",
      "46.7 [43.653915] [3.0460854]\n",
      "32.5 [29.06979] [3.43021]\n",
      "29.6 [26.191149] [3.4088516]\n",
      "28.4 [27.683617] [0.716383]\n",
      "19.8 [17.14069] [2.6593094]\n",
      "20.2 [24.132631] [3.9326305]\n",
      "25.0 [21.72753] [3.2724705]\n",
      "35.4 [35.066] [0.33399963]\n",
      "20.3 [19.211721] [1.0882778]\n",
      "9.7 [10.869623] [1.1696234]\n",
      "14.5 [14.940395] [0.44039536]\n",
      "34.9 [35.28688] [0.38687897]\n",
      "26.6 [27.398233] [0.79823303]\n",
      "7.2 [12.871754] [5.671754]\n",
      "50.0 [48.633926] [1.3660736]\n",
      "32.4 [34.91719] [2.517189]\n",
      "21.6 [23.504032] [1.9040318]\n",
      "29.8 [24.557207] [5.242792]\n",
      "13.1 [17.128063] [4.028063]\n",
      "27.5 [15.499163] [12.000837]\n",
      "21.2 [19.255455] [1.9445457]\n",
      "23.1 [23.41676] [0.3167591]\n",
      "21.9 [19.556162] [2.3438377]\n",
      "13.0 [13.794159] [0.79415894]\n",
      "23.2 [21.380102] [1.8198986]\n",
      "8.1 [12.44096] [4.3409595]\n",
      "5.6 [7.291266] [1.6912661]\n",
      "21.7 [26.988008] [5.2880077]\n",
      "29.6 [30.284197] [0.6841965]\n",
      "19.6 [26.767904] [7.167904]\n",
      "7.0 [13.118784] [6.118784]\n",
      "26.4 [24.97593] [1.4240704]\n",
      "18.9 [18.179026] [0.72097397]\n",
      "20.9 [18.147772] [2.7522278]\n",
      "28.1 [22.893972] [5.206028]\n",
      "35.4 [33.945614] [1.4543877]\n",
      "10.2 [10.140985] [0.05901527]\n",
      "24.3 [20.824564] [3.4754353]\n",
      "43.1 [38.313854] [4.7861443]\n",
      "17.6 [14.776537] [2.8234634]\n",
      "15.4 [13.900391] [1.499609]\n",
      "16.2 [16.65186] [0.45185852]\n",
      "27.1 [18.05873] [9.041271]\n",
      "21.4 [22.391512] [0.9915123]\n",
      "21.5 [19.94078] [1.5592194]\n",
      "22.4 [21.741968] [0.65803146]\n",
      "25.0 [31.793932] [6.793932]\n",
      "16.6 [19.632235] [3.0322342]\n",
      "18.6 [18.715416] [0.11541557]\n",
      "22.0 [24.553213] [2.5532131]\n",
      "42.8 [43.737026] [0.937027]\n",
      "35.1 [35.42823] [0.3282318]\n",
      "21.5 [21.05254] [0.44746017]\n",
      "36.0 [35.474243] [0.52575684]\n",
      "21.9 [49.7567] [27.856699]\n",
      "24.1 [26.260118] [2.160118]\n",
      "50.0 [48.032196] [1.967804]\n",
      "26.7 [31.895996] [5.1959953]\n",
      "25.0 [20.75749] [4.24251]\n"
     ]
    }
   ],
   "source": [
    "import numpy as np\n",
    "\n",
    "for i in range(len(test_targets)):\n",
    "    print(test_targets[i],  results[i], np.abs(test_targets[i]-results[i]))"
   ]
  },
  {
   "cell_type": "code",
   "execution_count": null,
   "metadata": {},
   "outputs": [],
   "source": []
  }
 ],
 "metadata": {
  "kernelspec": {
   "display_name": "Python 3",
   "language": "python",
   "name": "python3"
  },
  "language_info": {
   "codemirror_mode": {
    "name": "ipython",
    "version": 3
   },
   "file_extension": ".py",
   "mimetype": "text/x-python",
   "name": "python",
   "nbconvert_exporter": "python",
   "pygments_lexer": "ipython3",
   "version": "3.5.6"
  }
 },
 "nbformat": 4,
 "nbformat_minor": 2
}

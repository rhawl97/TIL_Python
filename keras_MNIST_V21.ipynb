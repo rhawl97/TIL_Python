{
 "cells": [
  {
   "cell_type": "markdown",
   "metadata": {},
   "source": [
    "# Keras 샘플 코드\n",
    "## Multiple Perceptron"
   ]
  },
  {
   "cell_type": "code",
   "execution_count": 1,
   "metadata": {},
   "outputs": [
    {
     "name": "stderr",
     "output_type": "stream",
     "text": [
      "Using TensorFlow backend.\n"
     ]
    },
    {
     "name": "stdout",
     "output_type": "stream",
     "text": [
      "Downloading data from https://s3.amazonaws.com/img-datasets/mnist.npz\n",
      "11493376/11490434 [==============================] - 17s 1us/step\n"
     ]
    }
   ],
   "source": [
    "from __future__ import print_function\n",
    "import numpy as np\n",
    "from keras.datasets import mnist\n",
    "from keras.models import Sequential\n",
    "from keras.layers.core import Dense, Activation\n",
    "from keras.optimizers import SGD\n",
    "from keras.utils import np_utils\n",
    "import matplotlib.pyplot as plt\n",
    "\n",
    "np.random.seed(1671)  # 재현을 위한 설정\n",
    "\n",
    "# 네트워크와 학습 설정\n",
    "NB_EPOCH = 20\n",
    "BATCH_SIZE = 128\n",
    "VERBOSE = 1\n",
    "NB_CLASSES = 10   # 출력 범주 = 숫자의 종류 0~9\n",
    "OPTIMIZER = SGD() # SGD 옵티마이저, 이 장 후반부에서 설명\n",
    "N_HIDDEN = 128  #hidden layer의 노드 개수 \n",
    "VALIDATION_SPLIT=0.2 # 학습 데이터 중에 얼마나 검증 데이터로 할당할지 지정\n",
    "\n",
    "# 데이터 : 무작위로 섞고, 학습 데이터와 테스트 데이터로 나눔\n",
    "(X_train, y_train), (X_test, y_test) = mnist.load_data() #y_train은 label값 \n",
    "\n",
    "for i in range(10):\n",
    "   #plt.imshow(X_train[i]) #image를 보여주는 함수 #i번째 데이터를 보여줌 \n",
    "   plt.show()"
   ]
  },
  {
   "cell_type": "code",
   "execution_count": 15,
   "metadata": {},
   "outputs": [
    {
     "name": "stdout",
     "output_type": "stream",
     "text": [
      "60000 train samples\n",
      "10000 test samples\n",
      "_________________________________________________________________\n",
      "Layer (type)                 Output Shape              Param #   \n",
      "=================================================================\n",
      "dense_14 (Dense)             (None, 10)                7850      \n",
      "_________________________________________________________________\n",
      "activation_14 (Activation)   (None, 10)                0         \n",
      "=================================================================\n",
      "Total params: 7,850\n",
      "Trainable params: 7,850\n",
      "Non-trainable params: 0\n",
      "_________________________________________________________________\n",
      "Train on 48000 samples, validate on 12000 samples\n",
      "Epoch 1/20\n",
      "48000/48000 [==============================] - 1s 17us/step - loss: 1.3633 - acc: 0.6796 - val_loss: 0.8904 - val_acc: 0.8246\n",
      "Epoch 2/20\n",
      "48000/48000 [==============================] - 1s 13us/step - loss: 0.7913 - acc: 0.8272 - val_loss: 0.6572 - val_acc: 0.8546\n",
      "Epoch 3/20\n",
      "48000/48000 [==============================] - 1s 12us/step - loss: 0.6436 - acc: 0.8497 - val_loss: 0.5625 - val_acc: 0.8681\n",
      "Epoch 4/20\n",
      "48000/48000 [==============================] - 1s 12us/step - loss: 0.5717 - acc: 0.8602 - val_loss: 0.5098 - val_acc: 0.8765\n",
      "Epoch 5/20\n",
      "48000/48000 [==============================] - 1s 11us/step - loss: 0.5276 - acc: 0.8678 - val_loss: 0.4758 - val_acc: 0.8826\n",
      "Epoch 6/20\n",
      "48000/48000 [==============================] - 1s 12us/step - loss: 0.4973 - acc: 0.8726 - val_loss: 0.4515 - val_acc: 0.8866\n",
      "Epoch 7/20\n",
      "48000/48000 [==============================] - 1s 13us/step - loss: 0.4748 - acc: 0.8775 - val_loss: 0.4333 - val_acc: 0.8882\n",
      "Epoch 8/20\n",
      "48000/48000 [==============================] - 1s 12us/step - loss: 0.4574 - acc: 0.8803 - val_loss: 0.4189 - val_acc: 0.8920\n",
      "Epoch 9/20\n",
      "48000/48000 [==============================] - 1s 12us/step - loss: 0.4433 - acc: 0.8834 - val_loss: 0.4075 - val_acc: 0.8939\n",
      "Epoch 10/20\n",
      "48000/48000 [==============================] - 1s 13us/step - loss: 0.4317 - acc: 0.8850 - val_loss: 0.3977 - val_acc: 0.8966\n",
      "Epoch 11/20\n",
      "48000/48000 [==============================] - 1s 14us/step - loss: 0.4218 - acc: 0.8873 - val_loss: 0.3896 - val_acc: 0.8984\n",
      "Epoch 12/20\n",
      "48000/48000 [==============================] - 1s 13us/step - loss: 0.4134 - acc: 0.8888 - val_loss: 0.3827 - val_acc: 0.8995\n",
      "Epoch 13/20\n",
      "48000/48000 [==============================] - 1s 12us/step - loss: 0.4060 - acc: 0.8902 - val_loss: 0.3766 - val_acc: 0.9003\n",
      "Epoch 14/20\n",
      "48000/48000 [==============================] - 1s 11us/step - loss: 0.3995 - acc: 0.8918 - val_loss: 0.3712 - val_acc: 0.9013\n",
      "Epoch 15/20\n",
      "48000/48000 [==============================] - 1s 12us/step - loss: 0.3936 - acc: 0.8928 - val_loss: 0.3664 - val_acc: 0.9016\n",
      "Epoch 16/20\n",
      "48000/48000 [==============================] - 1s 12us/step - loss: 0.3884 - acc: 0.8945 - val_loss: 0.3621 - val_acc: 0.9031\n",
      "Epoch 17/20\n",
      "48000/48000 [==============================] - 1s 12us/step - loss: 0.3837 - acc: 0.8950 - val_loss: 0.3582 - val_acc: 0.9033\n",
      "Epoch 18/20\n",
      "48000/48000 [==============================] - 1s 13us/step - loss: 0.3794 - acc: 0.8962 - val_loss: 0.3546 - val_acc: 0.9039\n",
      "Epoch 19/20\n",
      "48000/48000 [==============================] - 1s 12us/step - loss: 0.3755 - acc: 0.8970 - val_loss: 0.3514 - val_acc: 0.9048\n",
      "Epoch 20/20\n",
      "48000/48000 [==============================] - 1s 12us/step - loss: 0.3718 - acc: 0.8979 - val_loss: 0.3485 - val_acc: 0.9053\n",
      "10000/10000 [==============================] - 0s 12us/step\n",
      "\n",
      "Test score: 0.3485593049645424\n",
      "Test accuracy: 0.9064\n"
     ]
    }
   ],
   "source": [
    "# X_train은 60000 개의 행으로 구성되고 28x28 개의 값을 갖음 --> 60000 x 784 형태로 변환  \n",
    "#픽셀 하나하나를 input layer node에 하나하나 넣어줘야함 -> flatten해서 넣어야 함!\n",
    "RESHAPED = 784 #펼침효과~~ #784개의 벡터화된 데이터가 6만개 있음!\n",
    "#\n",
    "X_train = X_train.reshape(60000, RESHAPED)\n",
    "X_test = X_test.reshape(10000, RESHAPED)\n",
    "X_train = X_train.astype('float32') #정수를 실수로 바꿈 \n",
    "X_test = X_test.astype('float32')\n",
    "\n",
    "# 정규화\n",
    "X_train /= 255\n",
    "X_test /= 255\n",
    "print(X_train.shape[0], 'train samples')\n",
    "print(X_test.shape[0], 'test samples')\n",
    "\n",
    "# 범주 벡터를 이진 범주 행렬로 변환\n",
    "Y_train = np_utils.to_categorical(y_train, NB_CLASSES)\n",
    "Y_test = np_utils.to_categorical(y_test, NB_CLASSES)\n",
    "\n",
    "# M_HIDDEN 은닉 계층\n",
    "# 10 개의 출력 input은 784개 노드 hidden layer의 노드는 128개 \n",
    "# 최종 단계는 소프트맥스\n",
    "#중요하다 중요해 \n",
    "\n",
    "model = Sequential() #층을 쌓겠다 #모델 설계 시작\n",
    "model.add(Dense(NB_CLASSES, input_shape=(RESHAPED,))) #layer를 추가하는 add  Dense: 모든 노드가 연결됨 NB_CLASSES :OUTPUT개수 reshaped: input개수\n",
    "model.add(Activation('softmax')) #모든 값을 0과 1 사이의 확률값으로 바꾸는 함수: softmax\n",
    "model.summary()\n",
    "\n",
    "##hidden layer가 3개! \n",
    "#model = Sequential()\n",
    "#model.add(Dense(N_HIDDEN, input_shape=(RESHAPED,)))\n",
    "#model.add(Activation('relu'))\n",
    "#model.add(Dense(N_HIDDEN))\n",
    "#model.add(Activation('relu'))\n",
    "#model.add(Dense(NB_CLASSES))\n",
    "#model.add(Activation('softmax'))\n",
    "#model.summary()\n",
    "\n",
    "model.compile(loss='categorical_crossentropy', #실제 모델 만들기 \n",
    "              optimizer=OPTIMIZER,\n",
    "              metrics=['accuracy'])\n",
    "\n",
    "history = model.fit(X_train, Y_train,  #학습한다 fit\n",
    "                    batch_size=BATCH_SIZE, epochs=NB_EPOCH,\n",
    "                    verbose=VERBOSE, validation_split=VALIDATION_SPLIT)\n",
    "\n",
    "score = model.evaluate(X_test, Y_test, verbose=VERBOSE) #test로 평가한다 evaluate\n",
    "print(\"\\nTest score:\", score[0])\n",
    "print('Test accuracy:', score[1])"
   ]
  },
  {
   "cell_type": "code",
   "execution_count": null,
   "metadata": {},
   "outputs": [],
   "source": []
  }
 ],
 "metadata": {
  "kernelspec": {
   "display_name": "Python 3",
   "language": "python",
   "name": "python3"
  },
  "language_info": {
   "codemirror_mode": {
    "name": "ipython",
    "version": 3
   },
   "file_extension": ".py",
   "mimetype": "text/x-python",
   "name": "python",
   "nbconvert_exporter": "python",
   "pygments_lexer": "ipython3",
   "version": "3.5.6"
  }
 },
 "nbformat": 4,
 "nbformat_minor": 2
}

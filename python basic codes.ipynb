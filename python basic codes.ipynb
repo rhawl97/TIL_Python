{
 "cells": [
  {
   "cell_type": "markdown",
   "metadata": {},
   "source": [
    "# 1장 기초"
   ]
  },
  {
   "cell_type": "markdown",
   "metadata": {},
   "source": [
    "# 사칙연산\n"
   ]
  },
  {
   "cell_type": "code",
   "execution_count": 4,
   "metadata": {},
   "outputs": [
    {
     "data": {
      "text/plain": [
       "3"
      ]
     },
     "execution_count": 4,
     "metadata": {},
     "output_type": "execute_result"
    }
   ],
   "source": [
    "1 + 2"
   ]
  },
  {
   "cell_type": "code",
   "execution_count": 2,
   "metadata": {},
   "outputs": [
    {
     "data": {
      "text/plain": [
       "1.25"
      ]
     },
     "execution_count": 2,
     "metadata": {},
     "output_type": "execute_result"
    }
   ],
   "source": [
    "3 / 2.4"
   ]
  },
  {
   "cell_type": "code",
   "execution_count": 3,
   "metadata": {},
   "outputs": [
    {
     "data": {
      "text/plain": [
       "27"
      ]
     },
     "execution_count": 3,
     "metadata": {},
     "output_type": "execute_result"
    }
   ],
   "source": [
    "3 * 9"
   ]
  },
  {
   "cell_type": "code",
   "execution_count": null,
   "metadata": {},
   "outputs": [],
   "source": [
    "# 변수 및 대입연산"
   ]
  },
  {
   "cell_type": "code",
   "execution_count": 5,
   "metadata": {},
   "outputs": [
    {
     "data": {
      "text/plain": [
       "3"
      ]
     },
     "execution_count": 5,
     "metadata": {},
     "output_type": "execute_result"
    }
   ],
   "source": [
    "a = 1\n",
    "b = 2\n",
    "a + b"
   ]
  },
  {
   "cell_type": "markdown",
   "metadata": {},
   "source": [
    "# 출력"
   ]
  },
  {
   "cell_type": "code",
   "execution_count": 6,
   "metadata": {},
   "outputs": [
    {
     "name": "stdout",
     "output_type": "stream",
     "text": [
      "Python\n"
     ]
    }
   ],
   "source": [
    "a = \"Python\"\n",
    "print(a)"
   ]
  },
  {
   "cell_type": "markdown",
   "metadata": {},
   "source": [
    "# 조건문"
   ]
  },
  {
   "cell_type": "code",
   "execution_count": 3,
   "metadata": {},
   "outputs": [
    {
     "name": "stdout",
     "output_type": "stream",
     "text": [
      "a is not greater than 1\n"
     ]
    }
   ],
   "source": [
    "a = 1\n",
    "if a > 1:\n",
    "   print(\"a is greater than 1\")\n",
    "else:\n",
    "   print(\"a is not greater than 1\")"
   ]
  },
  {
   "cell_type": "markdown",
   "metadata": {},
   "source": [
    "# 반복문"
   ]
  },
  {
   "cell_type": "code",
   "execution_count": 7,
   "metadata": {},
   "outputs": [
    {
     "name": "stdout",
     "output_type": "stream",
     "text": [
      "2\n",
      "3\n",
      "4\n",
      "5\n",
      "6\n",
      "7\n",
      "8\n"
     ]
    }
   ],
   "source": [
    "list = [1,2,3]\n",
    "for i in range(2, 9):\n",
    "   print(i)"
   ]
  },
  {
   "cell_type": "code",
   "execution_count": 10,
   "metadata": {},
   "outputs": [
    {
     "name": "stdout",
     "output_type": "stream",
     "text": [
      "2 * 2 = 4\n",
      "2 * 3 = 6\n",
      "2 * 4 = 8\n",
      "2 * 5 = 10\n",
      "2 * 6 = 12\n",
      "2 * 7 = 14\n",
      "2 * 8 = 16\n",
      "2 * 9 = 18\n",
      "3 * 2 = 6\n",
      "3 * 3 = 9\n",
      "3 * 4 = 12\n",
      "3 * 5 = 15\n",
      "3 * 6 = 18\n",
      "3 * 7 = 21\n",
      "3 * 8 = 24\n",
      "3 * 9 = 27\n",
      "4 * 2 = 8\n",
      "4 * 3 = 12\n",
      "4 * 4 = 16\n",
      "4 * 5 = 20\n",
      "4 * 6 = 24\n",
      "4 * 7 = 28\n",
      "4 * 8 = 32\n",
      "4 * 9 = 36\n",
      "5 * 2 = 10\n",
      "5 * 3 = 15\n",
      "5 * 4 = 20\n",
      "5 * 5 = 25\n",
      "5 * 6 = 30\n",
      "5 * 7 = 35\n",
      "5 * 8 = 40\n",
      "5 * 9 = 45\n",
      "6 * 2 = 12\n",
      "6 * 3 = 18\n",
      "6 * 4 = 24\n",
      "6 * 5 = 30\n",
      "6 * 6 = 36\n",
      "6 * 7 = 42\n",
      "6 * 8 = 48\n",
      "6 * 9 = 54\n",
      "7 * 2 = 14\n",
      "7 * 3 = 21\n",
      "7 * 4 = 28\n",
      "7 * 5 = 35\n",
      "7 * 6 = 42\n",
      "7 * 7 = 49\n",
      "7 * 8 = 56\n",
      "7 * 9 = 63\n",
      "8 * 2 = 16\n",
      "8 * 3 = 24\n",
      "8 * 4 = 32\n",
      "8 * 5 = 40\n",
      "8 * 6 = 48\n",
      "8 * 7 = 56\n",
      "8 * 8 = 64\n",
      "8 * 9 = 72\n",
      "9 * 2 = 18\n",
      "9 * 3 = 27\n",
      "9 * 4 = 36\n",
      "9 * 5 = 45\n",
      "9 * 6 = 54\n",
      "9 * 7 = 63\n",
      "9 * 8 = 72\n",
      "9 * 9 = 81\n"
     ]
    }
   ],
   "source": [
    "for i in range(2,10):\n",
    "   for j in range(2,10):\n",
    "       print(\"%d * %d = %d\" % (i, j, i*j))"
   ]
  },
  {
   "cell_type": "code",
   "execution_count": 10,
   "metadata": {},
   "outputs": [
    {
     "name": "stdout",
     "output_type": "stream",
     "text": [
      "1\n",
      "2\n",
      "3\n"
     ]
    }
   ],
   "source": [
    "i = 0\n",
    "while i < 3:\n",
    "     i=i+1\n",
    "     print(i)"
   ]
  },
  {
   "cell_type": "markdown",
   "metadata": {},
   "source": [
    "# 함수"
   ]
  },
  {
   "cell_type": "code",
   "execution_count": 11,
   "metadata": {},
   "outputs": [
    {
     "name": "stdout",
     "output_type": "stream",
     "text": [
      "7\n"
     ]
    }
   ],
   "source": [
    "def sum(a, b):\n",
    "     return a+b\n",
    "\n",
    "print(sum(3,4))"
   ]
  },
  {
   "cell_type": "markdown",
   "metadata": {},
   "source": [
    "# 2장 자료형"
   ]
  },
  {
   "cell_type": "markdown",
   "metadata": {},
   "source": [
    "## 숫자\n",
    "\n",
    "### 정수형, 실수형 상수 및 연산"
   ]
  },
  {
   "cell_type": "code",
   "execution_count": 14,
   "metadata": {
    "collapsed": true
   },
   "outputs": [],
   "source": [
    "a = 123\n",
    "a = -178\n",
    "a = 0\n",
    "\n",
    "a = 1.2\n",
    "a = -3.45"
   ]
  },
  {
   "cell_type": "code",
   "execution_count": 15,
   "metadata": {},
   "outputs": [
    {
     "data": {
      "text/plain": [
       "7"
      ]
     },
     "execution_count": 15,
     "metadata": {},
     "output_type": "execute_result"
    }
   ],
   "source": [
    "a = 3\n",
    "b = 4\n",
    "a + b"
   ]
  },
  {
   "cell_type": "code",
   "execution_count": 16,
   "metadata": {},
   "outputs": [
    {
     "data": {
      "text/plain": [
       "12"
      ]
     },
     "execution_count": 16,
     "metadata": {},
     "output_type": "execute_result"
    }
   ],
   "source": [
    "a = 3\n",
    "b = 4\n",
    "a * b"
   ]
  },
  {
   "cell_type": "code",
   "execution_count": 12,
   "metadata": {},
   "outputs": [
    {
     "name": "stdout",
     "output_type": "stream",
     "text": [
      "<class 'int'>\n",
      "<class 'float'>\n"
     ]
    }
   ],
   "source": [
    "a = 3\n",
    "#print(type(a))\n",
    "b = 4\n",
    "a / b\n",
    "#print(type(a/b))"
   ]
  },
  {
   "cell_type": "code",
   "execution_count": 18,
   "metadata": {},
   "outputs": [
    {
     "data": {
      "text/plain": [
       "81"
      ]
     },
     "execution_count": 18,
     "metadata": {},
     "output_type": "execute_result"
    }
   ],
   "source": [
    "# x의 y 제곱\n",
    "\n",
    "a = 3\n",
    "b = 4\n",
    "a ** b"
   ]
  },
  {
   "cell_type": "code",
   "execution_count": 19,
   "metadata": {},
   "outputs": [
    {
     "data": {
      "text/plain": [
       "1"
      ]
     },
     "execution_count": 19,
     "metadata": {},
     "output_type": "execute_result"
    }
   ],
   "source": [
    "# 나머지\n",
    "7 % 3"
   ]
  },
  {
   "cell_type": "code",
   "execution_count": 20,
   "metadata": {},
   "outputs": [
    {
     "data": {
      "text/plain": [
       "1"
      ]
     },
     "execution_count": 20,
     "metadata": {},
     "output_type": "execute_result"
    }
   ],
   "source": [
    "# 몫\n",
    "7 // 4"
   ]
  },
  {
   "cell_type": "markdown",
   "metadata": {},
   "source": [
    "# 문자열"
   ]
  },
  {
   "cell_type": "code",
   "execution_count": 29,
   "metadata": {},
   "outputs": [
    {
     "name": "stdout",
     "output_type": "stream",
     "text": [
      "Python's favorite food is perl\n"
     ]
    }
   ],
   "source": [
    "food = \"Python's favorite food is perl\"\n",
    "print(food)"
   ]
  },
  {
   "cell_type": "code",
   "execution_count": 30,
   "metadata": {},
   "outputs": [
    {
     "name": "stdout",
     "output_type": "stream",
     "text": [
      "\"Python is very easy.\" he says.\n"
     ]
    }
   ],
   "source": [
    "say = '\"Python is very easy.\" he says.'\n",
    "print(say)"
   ]
  },
  {
   "cell_type": "code",
   "execution_count": 31,
   "metadata": {},
   "outputs": [
    {
     "name": "stdout",
     "output_type": "stream",
     "text": [
      "Python's favorite food is perl\n",
      "\"Python is very easy.\" he says.\n"
     ]
    }
   ],
   "source": [
    "food = 'Python\\'s favorite food is perl'\n",
    "print(food)\n",
    "\n",
    "say = \"\\\"Python is very easy.\\\" he says.\"\n",
    "print(say)"
   ]
  },
  {
   "cell_type": "code",
   "execution_count": 33,
   "metadata": {},
   "outputs": [
    {
     "name": "stdout",
     "output_type": "stream",
     "text": [
      "Life is too short\n",
      "You need python\n"
     ]
    }
   ],
   "source": [
    "# 여러줄 출력\n",
    "multiline = \"Life is too short\\nYou need python\"\n",
    "print(multiline)"
   ]
  },
  {
   "cell_type": "code",
   "execution_count": 35,
   "metadata": {},
   "outputs": [
    {
     "name": "stdout",
     "output_type": "stream",
     "text": [
      "\n",
      "Life is too short\n",
      "You need python\n",
      "\n",
      "\n",
      "Life is too short\n",
      "You need python\n",
      "\n"
     ]
    }
   ],
   "source": [
    "# 여러줄 출력\n",
    "multiline1='''\n",
    "Life is too short\n",
    "You need python\n",
    "'''\n",
    "\n",
    "print(multiline1)\n",
    "\n",
    "multiline2=\"\"\"\n",
    "Life is too short\n",
    "You need python\n",
    "\"\"\"\n",
    "\n",
    "print(multiline2)"
   ]
  },
  {
   "cell_type": "code",
   "execution_count": 37,
   "metadata": {},
   "outputs": [
    {
     "name": "stdout",
     "output_type": "stream",
     "text": [
      "Python is fun!\n"
     ]
    }
   ],
   "source": [
    "# 문자열 더하기\n",
    "head = \"Python\"\n",
    "tail = \" is fun!\"\n",
    "print(head + tail)"
   ]
  },
  {
   "cell_type": "code",
   "execution_count": 15,
   "metadata": {},
   "outputs": [
    {
     "name": "stdout",
     "output_type": "stream",
     "text": [
      "pythonpython\n",
      "==================================================\n",
      "My Program\n",
      "==================================================\n",
      "\n",
      "*\n",
      "**\n",
      "***\n",
      "****\n",
      "*****\n",
      "******\n",
      "*******\n",
      "********\n",
      "*********\n"
     ]
    }
   ],
   "source": [
    "# 문자열 곱하기\n",
    "a = \"python\"\n",
    "print(a * 2)\n",
    "\n",
    "print(\"=\" * 50)\n",
    "print(\"My Program\")\n",
    "print(\"=\" * 50)\n",
    "# 연습문제 : 아래와 같이 출력\n",
    "# *\n",
    "# **\n",
    "# ***\n",
    "# ......\n",
    "# ***********************************"
   ]
  },
  {
   "cell_type": "markdown",
   "metadata": {},
   "source": [
    "## 인덱싱과 슬라이싱"
   ]
  },
  {
   "cell_type": "markdown",
   "metadata": {},
   "source": [
    "### 인덱싱"
   ]
  },
  {
   "cell_type": "code",
   "execution_count": 22,
   "metadata": {},
   "outputs": [
    {
     "name": "stdout",
     "output_type": "stream",
     "text": [
      "e\n",
      "1\n"
     ]
    }
   ],
   "source": [
    "# 인덱스는 0부터 시작\n",
    "a = \"Life is too short, You need Python\"\n",
    "print(a[3])\n",
    "# 연습문제 : 위 문장에서 특정 문자 및 문자열의 개수는?\n",
    "print(a.count('oo'))"
   ]
  },
  {
   "cell_type": "code",
   "execution_count": 44,
   "metadata": {},
   "outputs": [
    {
     "name": "stdout",
     "output_type": "stream",
     "text": [
      "n\n",
      "o\n"
     ]
    }
   ],
   "source": [
    "# 음수 인덱스는 뒷부터 시작. -1이 가장 마지막 문자를 의미\n",
    "a = \"Life is too short, You need Python\"\n",
    "print(a[-1])\n",
    "print(a[-2])"
   ]
  },
  {
   "cell_type": "markdown",
   "metadata": {},
   "source": [
    "### 슬라이싱"
   ]
  },
  {
   "cell_type": "code",
   "execution_count": 45,
   "metadata": {},
   "outputs": [
    {
     "name": "stdout",
     "output_type": "stream",
     "text": [
      "Life\n",
      "is\n"
     ]
    }
   ],
   "source": [
    "a = \"Life is too short, You need Python\"\n",
    "print(a[0:4])  # 마지막 5번 인덱스는 포함되지 않음\n",
    "print(a[5:7])"
   ]
  },
  {
   "cell_type": "code",
   "execution_count": 46,
   "metadata": {},
   "outputs": [
    {
     "name": "stdout",
     "output_type": "stream",
     "text": [
      "You need Python\n",
      "Life is too short\n",
      "You need\n"
     ]
    }
   ],
   "source": [
    "a = \"Life is too short, You need Python\"\n",
    "\n",
    "print(a[19:])  # 끝을 지정하지 않으면 마지막까지를 의미함\n",
    "print(a[:17])   # 시작을 생략하면 처음부터 \n",
    "print(a[19:-7])      "
   ]
  },
  {
   "cell_type": "code",
   "execution_count": 47,
   "metadata": {},
   "outputs": [
    {
     "name": "stdout",
     "output_type": "stream",
     "text": [
      "20010331\n",
      "Rainy\n"
     ]
    }
   ],
   "source": [
    "a = \"20010331Rainy\"\n",
    "date = a[:8]\n",
    "weather = a[8:]\n",
    "print(date)\n",
    "print(weather)"
   ]
  },
  {
   "cell_type": "markdown",
   "metadata": {},
   "source": [
    "- 다음과 같은 연산은 에러발생\n",
    "- 문자열 요소는 수정이 불가능함"
   ]
  },
  {
   "cell_type": "code",
   "execution_count": 48,
   "metadata": {},
   "outputs": [
    {
     "ename": "TypeError",
     "evalue": "'str' object does not support item assignment",
     "output_type": "error",
     "traceback": [
      "\u001b[1;31m---------------------------------------------------------------------------\u001b[0m",
      "\u001b[1;31mTypeError\u001b[0m                                 Traceback (most recent call last)",
      "\u001b[1;32m<ipython-input-48-a877f06250fd>\u001b[0m in \u001b[0;36m<module>\u001b[1;34m()\u001b[0m\n\u001b[0;32m      1\u001b[0m \u001b[0ma\u001b[0m \u001b[1;33m=\u001b[0m \u001b[1;34m\"Pithon\"\u001b[0m\u001b[1;33m\u001b[0m\u001b[0m\n\u001b[1;32m----> 2\u001b[1;33m \u001b[0ma\u001b[0m\u001b[1;33m[\u001b[0m\u001b[1;36m1\u001b[0m\u001b[1;33m]\u001b[0m \u001b[1;33m=\u001b[0m \u001b[1;34m'y'\u001b[0m\u001b[1;33m\u001b[0m\u001b[0m\n\u001b[0m",
      "\u001b[1;31mTypeError\u001b[0m: 'str' object does not support item assignment"
     ]
    }
   ],
   "source": [
    "a = \"Pithon\"\n",
    "a[1] = 'y'"
   ]
  },
  {
   "cell_type": "markdown",
   "metadata": {},
   "source": [
    "## 문자열 포맷팅"
   ]
  },
  {
   "cell_type": "code",
   "execution_count": 50,
   "metadata": {},
   "outputs": [
    {
     "name": "stdout",
     "output_type": "stream",
     "text": [
      "I eat 3 apples.\n",
      "I eat five apples.\n",
      "I ate 10 apples. so I was sick for three days.\n"
     ]
    }
   ],
   "source": [
    "print(\"I eat %d apples.\" % 3)\n",
    "print(\"I eat %s apples.\" % \"five\")\n",
    "\n",
    "number = 10\n",
    "day = \"three\"\n",
    "print(\"I ate %d apples. so I was sick for %s days.\" % (number, day))"
   ]
  },
  {
   "cell_type": "markdown",
   "metadata": {},
   "source": [
    "####  기타 문자열 포맷팅은 C언어의 printf와 유사함"
   ]
  },
  {
   "cell_type": "markdown",
   "metadata": {},
   "source": [
    "## 문자열 관련 함수들"
   ]
  },
  {
   "cell_type": "code",
   "execution_count": 51,
   "metadata": {},
   "outputs": [
    {
     "name": "stdout",
     "output_type": "stream",
     "text": [
      "2\n"
     ]
    }
   ],
   "source": [
    "# 특정문자 갯수 세기\n",
    "a = \"hobby\"\n",
    "print(a.count('b'))"
   ]
  },
  {
   "cell_type": "code",
   "execution_count": 23,
   "metadata": {},
   "outputs": [
    {
     "name": "stdout",
     "output_type": "stream",
     "text": [
      "10\n",
      "-1\n",
      "10\n"
     ]
    },
    {
     "ename": "ValueError",
     "evalue": "substring not found",
     "output_type": "error",
     "traceback": [
      "\u001b[1;31m---------------------------------------------------------------------------\u001b[0m",
      "\u001b[1;31mValueError\u001b[0m                                Traceback (most recent call last)",
      "\u001b[1;32m<ipython-input-23-64acdd064a2a>\u001b[0m in \u001b[0;36m<module>\u001b[1;34m\u001b[0m\n\u001b[0;32m      7\u001b[0m \u001b[1;31m#  find와 다른점은 존재하지 않으면 에러발생\u001b[0m\u001b[1;33m\u001b[0m\u001b[1;33m\u001b[0m\u001b[0m\n\u001b[0;32m      8\u001b[0m \u001b[0mprint\u001b[0m\u001b[1;33m(\u001b[0m\u001b[0ma\u001b[0m\u001b[1;33m.\u001b[0m\u001b[0mindex\u001b[0m\u001b[1;33m(\u001b[0m\u001b[1;34m'b'\u001b[0m\u001b[1;33m)\u001b[0m\u001b[1;33m)\u001b[0m   \u001b[1;31m# 처음 나온 위치(0부터 인덱싱)\u001b[0m\u001b[1;33m\u001b[0m\u001b[0m\n\u001b[1;32m----> 9\u001b[1;33m \u001b[0mprint\u001b[0m\u001b[1;33m(\u001b[0m\u001b[0ma\u001b[0m\u001b[1;33m.\u001b[0m\u001b[0mindex\u001b[0m\u001b[1;33m(\u001b[0m\u001b[1;34m'k'\u001b[0m\u001b[1;33m)\u001b[0m\u001b[1;33m)\u001b[0m   \u001b[1;31m# 존재하지 않으면 에러\u001b[0m\u001b[1;33m\u001b[0m\u001b[0m\n\u001b[0m",
      "\u001b[1;31mValueError\u001b[0m: substring not found"
     ]
    }
   ],
   "source": [
    "# 특정문자 위치찾기(fnd와 index)\n",
    "a = \"Python is best choice\"\n",
    "\n",
    "print(a.find('b'))   # 처음 나온 위치(0부터 인덱싱)\n",
    "print(a.find('k'))   # 존재하지 않으면 -1\n",
    "\n",
    "#  find와 다른점은 존재하지 않으면 에러발생\n",
    "print(a.index('b'))   # 처음 나온 위치(0부터 인덱싱)\n",
    "print(a.index('k'))   # 존재하지 않으면 에러"
   ]
  },
  {
   "cell_type": "code",
   "execution_count": 28,
   "metadata": {},
   "outputs": [
    {
     "name": "stdout",
     "output_type": "stream",
     "text": [
      "a,b,c,d\n",
      "HI\n",
      "hi\n",
      "인생은 너무 짧다\n",
      "life은 너무 짧다\n",
      "['Life', 'is', 'too', 'short']\n",
      "['a', 'b', 'c;d']\n"
     ]
    }
   ],
   "source": [
    "# 문자열 삽입(join)\n",
    "a= \",\"\n",
    "b = a.join('abcd')\n",
    "print(b)\n",
    "\n",
    "# 대소문자 바꾸기(upper, lower)\n",
    "a = \"hi\"\n",
    "b = a.upper()\n",
    "print(b)\n",
    "\n",
    "# 공백지우기(strip, lstrip, rstrip)\n",
    "a = \" hi \"\n",
    "b = a.strip()\n",
    "print(b)\n",
    "\n",
    "#문자열 바꾸기(replace)\n",
    "a = \"  인생은 너무 짧다\"\n",
    "a = a.strip()\n",
    "print(a)\n",
    "b = a.replace(\"인생\", \"life\")\n",
    "print(b)\n",
    "\n",
    "# 문자열 나누기(split)\n",
    "a = \"Life is too short\"\n",
    "b = a.split()  # 기본은 공백(스페이스, 탭, 엔터등)을 기준으로 분리\n",
    "print(b)\n",
    "\n",
    "a = \"a:b:c;d\"\n",
    "b = a.split(\":\")\n",
    "print(b)"
   ]
  },
  {
   "cell_type": "markdown",
   "metadata": {},
   "source": [
    "### 기타 문자열 포맷팅"
   ]
  },
  {
   "cell_type": "code",
   "execution_count": 59,
   "metadata": {},
   "outputs": [
    {
     "name": "stdout",
     "output_type": "stream",
     "text": [
      "I eat 3 apples\n",
      "I eat five apples\n",
      "I eat 3 apples\n",
      "I ate 10 apples. so I was sick for three days.\n"
     ]
    }
   ],
   "source": [
    "print(\"I eat {0} apples\".format(3))\n",
    "print(\"I eat {0} apples\".format(\"five\"))\n",
    "\n",
    "number = 3\n",
    "print(\"I eat {0} apples\".format(number))\n",
    "\n",
    "\n",
    "number = 10\n",
    "day = \"three\"\n",
    "print(\"I ate {0} apples. so I was sick for {1} days.\".format(number, day))"
   ]
  },
  {
   "cell_type": "markdown",
   "metadata": {},
   "source": [
    "# 리스트"
   ]
  },
  {
   "cell_type": "code",
   "execution_count": 60,
   "metadata": {},
   "outputs": [
    {
     "data": {
      "text/plain": [
       "[1, 2, 'Life', 'is']"
      ]
     },
     "execution_count": 60,
     "metadata": {},
     "output_type": "execute_result"
    }
   ],
   "source": [
    "d = [1, 2, 'Life', 'is']\n",
    "d"
   ]
  },
  {
   "cell_type": "markdown",
   "metadata": {},
   "source": [
    "### 인덱싱"
   ]
  },
  {
   "cell_type": "code",
   "execution_count": 61,
   "metadata": {},
   "outputs": [
    {
     "name": "stdout",
     "output_type": "stream",
     "text": [
      "[1, 2, 3]\n",
      "1\n",
      "4\n",
      "3\n"
     ]
    }
   ],
   "source": [
    "# 문자열 인덱싱과 동일\n",
    "a = [1, 2, 3]\n",
    "print(a)\n",
    "print(a[0])\n",
    "print(a[0] + a[2])\n",
    "\n",
    "print(a[-1])"
   ]
  },
  {
   "cell_type": "code",
   "execution_count": 62,
   "metadata": {},
   "outputs": [
    {
     "name": "stdout",
     "output_type": "stream",
     "text": [
      "['a', 'b', 'c']\n",
      "a\n",
      "Life\n"
     ]
    }
   ],
   "source": [
    "# 이중 리스트\n",
    "a = [1, 2, 3, ['a', 'b', 'c']]\n",
    "print(a[3])\n",
    "print(a[3][0])\n",
    "\n",
    "#삼중 리스트\n",
    "a = [1, 2, ['a', 'b', ['Life', 'is']]]\n",
    "print(a[2][2][0])\n"
   ]
  },
  {
   "cell_type": "markdown",
   "metadata": {},
   "source": [
    "### 슬라이싱"
   ]
  },
  {
   "cell_type": "code",
   "execution_count": 33,
   "metadata": {},
   "outputs": [
    {
     "name": "stdout",
     "output_type": "stream",
     "text": [
      "[1, 2]\n",
      "[1, 2]\n",
      "[3, 4, 5, 6, 7, 8, 9, 10]\n",
      "[3, 4, 5, 6, 7, 8, 9]\n",
      "2\n",
      "4\n",
      "6\n",
      "8\n",
      "10\n"
     ]
    }
   ],
   "source": [
    "# 문자열 슬라이싱과 동일\n",
    "a = [1, 2, 3, 4, 5, 6, 7, 8, 9, 10]\n",
    "print(a[0:2])\n",
    "print(a[:2])\n",
    "print(a[2:])\n",
    "print(a[2:-1])\n",
    "# 연습문제 : 짝수만 출력하기\n",
    "for i in a:\n",
    "    if (i%2 == 0):\n",
    "        print(i)"
   ]
  },
  {
   "cell_type": "markdown",
   "metadata": {},
   "source": [
    "###  리스트 연산자"
   ]
  },
  {
   "cell_type": "code",
   "execution_count": 37,
   "metadata": {},
   "outputs": [
    {
     "name": "stdout",
     "output_type": "stream",
     "text": [
      "[1, 2, 3, 4, 5, 6]\n",
      "[1, 2, 3, 1, 2, 3, 1, 2, 3]\n",
      "[1, 2, 3]\n",
      "[1, 2, 3]hi\n"
     ]
    }
   ],
   "source": [
    "a = [1, 2, 3]\n",
    "b = [4, 5, 6]\n",
    "print(a + b)\n",
    "print(a * 3)\n",
    "\n",
    "print([1,2]+[3])\n",
    "print(str(a)+\"hi\")\n",
    "\n",
    "# 참고:  1 + \"hi\"는 타입이 불일치하므로 오류임. 방법은 str(1)+\"hi\"로 타입을이 맞아야 \"1hi\"가 생성됨"
   ]
  },
  {
   "cell_type": "markdown",
   "metadata": {},
   "source": [
    "### 리스트 수정 변경 삭제"
   ]
  },
  {
   "cell_type": "code",
   "execution_count": 49,
   "metadata": {},
   "outputs": [
    {
     "name": "stdout",
     "output_type": "stream",
     "text": [
      "[1, 2, 4]\n",
      "[1, 'a', 'b', 'c', 3]\n",
      "[1, ['a', 'b', 'c'], 3]\n",
      "[1]\n",
      "[1, 3]\n",
      "[0, 1, 4, 5, 7, 10]\n"
     ]
    }
   ],
   "source": [
    "a = [1, 2, 3]\n",
    "a[2] = 4\n",
    "print(a)\n",
    "\n",
    "# 1과 2사이의 서브리스트를 새로운 리스트로 대체\n",
    "a = [1, 2, 3]\n",
    "a[1:2] = ['a', 'b', 'c']\n",
    "print(a)\n",
    "\n",
    "# 인덱스 1번 요소를 대체\n",
    "a = [1, 2, 3]\n",
    "a[1] = ['a', 'b', 'c']\n",
    "print(a)\n",
    "\n",
    "# 삭제\n",
    "a = [1, 2, 3]\n",
    "a[1:3] = [ ]\n",
    "print(a)\n",
    "\n",
    "a = [1, 2, 3]\n",
    "del a[1]\n",
    "print(a)\n",
    "\n",
    "# 연습문제 : 1에서 15까지 정수 집합에서 3의 배수의 위치 정보 저장하기\n",
    "#a = [1, 2, 3, 4, 5, 6, 7, 8, 9, 10, 11, 12, 13, 14, 15]\n",
    "a = [33, 0, 1, 5, 6, 9, 10, 15, 16, 17, 99, 88]\n",
    "index = []\n",
    "for i in range(len(a)):\n",
    "    if (a[i]%3 ==0):\n",
    "        index.append(i)\n",
    "        \n",
    "print(index)"
   ]
  },
  {
   "cell_type": "markdown",
   "metadata": {},
   "source": [
    "## 리스트 관련 함수"
   ]
  },
  {
   "cell_type": "code",
   "execution_count": 71,
   "metadata": {},
   "outputs": [
    {
     "name": "stdout",
     "output_type": "stream",
     "text": [
      "[1, 2, 3, 4]\n",
      "[1, 2, 3, 4]\n",
      "['b', 'c', 'a']\n",
      "2\n",
      "0\n"
     ]
    }
   ],
   "source": [
    "# 요소추가\n",
    "a = [1, 2, 3]\n",
    "a.append(4)\n",
    "print(a)\n",
    "\n",
    "# 정렬\n",
    "a = [1, 4, 3, 2]\n",
    "a.sort()\n",
    "print(a)\n",
    "\n",
    "# reverse\n",
    "a = ['a', 'c', 'b']\n",
    "a.reverse()\n",
    "print(a)\n",
    "\n",
    "# 위치반환 (주어진 요소가 위치한 인덱스를 반환. 없으면 오류발생)\n",
    "a = [1,2,3]\n",
    "print(a.index(3))\n",
    "print(a.index(1))"
   ]
  },
  {
   "cell_type": "code",
   "execution_count": 51,
   "metadata": {},
   "outputs": [
    {
     "name": "stdout",
     "output_type": "stream",
     "text": [
      "[4, 1, 2, 3]\n",
      "[1, 2, 1, 2, 3]\n",
      "2\n",
      "[1, 2, 3, 4, 5]\n"
     ]
    },
    {
     "data": {
      "text/plain": [
       "(10, 11)"
      ]
     },
     "execution_count": 51,
     "metadata": {},
     "output_type": "execute_result"
    }
   ],
   "source": [
    "# 요소 삽입(insert(a, b)는 리스트의 a번째 위치에 b를 삽입)\n",
    "a = [1, 2, 3]\n",
    "a.insert(0, 4)\n",
    "print(a)\n",
    "\n",
    "# 요소 제거(remove(x)는 리스트에서 첫 번째로 나오는 x를 삭제)\n",
    "a = [1, 2, 3, 1, 2, 3]\n",
    "a.remove(3)\n",
    "print(a)\n",
    "\n",
    "# 갯수 세기(count(x)는 리스트 내에 x가 몇 개 있는지 조사하여 그 개수를 돌려주는 함수)\n",
    "a = [1,2,3,1]\n",
    "print(a.count(1))\n",
    "\n",
    "# 리스트 확장(extend(x)에서 x에는 리스트만 올 수 있으며 원래의 a 리스트에 x 리스트를 더함)\n",
    "a = [1,2,3]\n",
    "a.extend([4,5])\n",
    "print(a)"
   ]
  },
  {
   "cell_type": "markdown",
   "metadata": {},
   "source": [
    "# 딕셔너리(dictionary)"
   ]
  },
  {
   "cell_type": "markdown",
   "metadata": {},
   "source": [
    "### 요소 구성 및 추가"
   ]
  },
  {
   "cell_type": "code",
   "execution_count": 54,
   "metadata": {
    "scrolled": true
   },
   "outputs": [
    {
     "name": "stdout",
     "output_type": "stream",
     "text": [
      "첫째문장수행결과: {1: 'a', 2: 'b'}\n",
      "둘째문장수행결과: {1: 'a', 2: 'b', 'name': 'pey'}\n",
      "셋째문장수행결과: {1: 'a', 2: 'b', 3: [1, 2, 3], 'name': 'pey'}\n"
     ]
    }
   ],
   "source": [
    "a = {1: 'a'}\n",
    "a[2] = 'b'\n",
    "print(\"첫째문장수행결과: {0}\".format(a) )\n",
    "\n",
    "a['name'] = 'pey'\n",
    "print(\"둘째문장수행결과: {0}\".format(a) )\n",
    "\n",
    "a[3] = [1,2,3]\n",
    "print(\"셋째문장수행결과: {0}\".format(a) )"
   ]
  },
  {
   "cell_type": "markdown",
   "metadata": {},
   "source": [
    "### 요소 삭제"
   ]
  },
  {
   "cell_type": "code",
   "execution_count": 55,
   "metadata": {},
   "outputs": [
    {
     "name": "stdout",
     "output_type": "stream",
     "text": [
      "{2: 'b', 3: [1, 2, 3], 'name': 'pey'}\n"
     ]
    }
   ],
   "source": [
    "del a[1]\n",
    "print(a)"
   ]
  },
  {
   "cell_type": "markdown",
   "metadata": {},
   "source": [
    "###  key로 value 얻기"
   ]
  },
  {
   "cell_type": "code",
   "execution_count": 79,
   "metadata": {},
   "outputs": [
    {
     "name": "stdout",
     "output_type": "stream",
     "text": [
      "10\n",
      "99\n"
     ]
    }
   ],
   "source": [
    "grade = {'pey': 10, 'julliet': 99}\n",
    "print(grade['pey'])\n",
    "print(grade['julliet'])\n",
    "\n"
   ]
  },
  {
   "cell_type": "code",
   "execution_count": 80,
   "metadata": {},
   "outputs": [
    {
     "name": "stdout",
     "output_type": "stream",
     "text": [
      "0119993323\n"
     ]
    }
   ],
   "source": [
    "dic = {'name':'pey', 'phone':'0119993323', 'birth': '1118'}\n",
    "print(dic['phone'])"
   ]
  },
  {
   "cell_type": "markdown",
   "metadata": {},
   "source": [
    "### 딕셔너리 함수들"
   ]
  },
  {
   "cell_type": "code",
   "execution_count": 56,
   "metadata": {},
   "outputs": [
    {
     "name": "stdout",
     "output_type": "stream",
     "text": [
      "dict_keys(['phone', 'birth', 'name'])\n",
      "dict_values(['0119993323', '1118', 'pey'])\n",
      "dict_items([('phone', '0119993323'), ('birth', '1118'), ('name', 'pey')])\n",
      "pey\n",
      "pey\n",
      "True\n",
      "False\n"
     ]
    }
   ],
   "source": [
    "# Key 리스트 만들기(dict_keys라는 객체 생성)\n",
    "a = {'name': 'pey', 'phone': '0119993323', 'birth': '1118'}\n",
    "print(a.keys())\n",
    "\n",
    "# Value 리스트 만들기(dict_values라는 객체 생성)\n",
    "print(a.values())\n",
    "\n",
    "# Key, Value 쌍 얻기(items)\n",
    "# key와 value의 쌍을 튜플로 묶은 값을 dict_items 객체로 돌려준다.\n",
    "print(a.items())\n",
    "\n",
    "# Key로 Value얻기(get)\n",
    "# a['name']과 결과가 동일하나 존재하지 않을 경우 get은 None을 반환하고, a['name']은 오류 발생\n",
    "a = {'name':'pey', 'phone':'0119993323', 'birth': '1118'}\n",
    "print(a.get('name'))\n",
    "print(a['name'])\n",
    "\n",
    "# 해당 Key가 딕셔너리 안에 있는지 조사하기(in)\n",
    "print('name' in a)\n",
    "print('email' in a)"
   ]
  },
  {
   "cell_type": "markdown",
   "metadata": {},
   "source": [
    "# 집합"
   ]
  },
  {
   "cell_type": "code",
   "execution_count": 58,
   "metadata": {},
   "outputs": [
    {
     "name": "stdout",
     "output_type": "stream",
     "text": [
      "{1, 2, 3}\n",
      "{'O', 'l', 'H', 'S', ' ', 'o', 'U', 'e'}\n"
     ]
    }
   ],
   "source": [
    "# 집합 생성\n",
    "s1 = set([1,2,3])\n",
    "print(s1)\n",
    "\n",
    "s2 = set(\"Hello UOS\")\n",
    "print(s2)"
   ]
  },
  {
   "cell_type": "code",
   "execution_count": 65,
   "metadata": {},
   "outputs": [
    {
     "ename": "TypeError",
     "evalue": "'list' object is not callable",
     "output_type": "error",
     "traceback": [
      "\u001b[1;31m---------------------------------------------------------------------------\u001b[0m",
      "\u001b[1;31mTypeError\u001b[0m                                 Traceback (most recent call last)",
      "\u001b[1;32m<ipython-input-65-342b87835b34>\u001b[0m in \u001b[0;36m<module>\u001b[1;34m\u001b[0m\n\u001b[0;32m      2\u001b[0m \u001b[0ms1\u001b[0m \u001b[1;33m=\u001b[0m \u001b[0mset\u001b[0m\u001b[1;33m(\u001b[0m\u001b[1;33m[\u001b[0m\u001b[1;36m1\u001b[0m\u001b[1;33m,\u001b[0m\u001b[1;36m2\u001b[0m\u001b[1;33m,\u001b[0m\u001b[1;36m3\u001b[0m\u001b[1;33m]\u001b[0m\u001b[1;33m)\u001b[0m\u001b[1;33m\u001b[0m\u001b[0m\n\u001b[0;32m      3\u001b[0m \u001b[1;33m\u001b[0m\u001b[0m\n\u001b[1;32m----> 4\u001b[1;33m \u001b[0ml1\u001b[0m \u001b[1;33m=\u001b[0m \u001b[0mlist\u001b[0m\u001b[1;33m(\u001b[0m\u001b[0ms1\u001b[0m\u001b[1;33m)\u001b[0m\u001b[1;33m\u001b[0m\u001b[0m\n\u001b[0m\u001b[0;32m      5\u001b[0m \u001b[0mprint\u001b[0m\u001b[1;33m(\u001b[0m\u001b[0ml1\u001b[0m\u001b[1;33m)\u001b[0m\u001b[1;33m\u001b[0m\u001b[0m\n\u001b[0;32m      6\u001b[0m \u001b[1;33m\u001b[0m\u001b[0m\n",
      "\u001b[1;31mTypeError\u001b[0m: 'list' object is not callable"
     ]
    }
   ],
   "source": [
    "# set을 리스트나 튜플로 변환 가능\n",
    "s1 = set([1,2,3])\n",
    "\n",
    "l1 = list(s1)\n",
    "print(l1)\n",
    "\n",
    "t1 = tuple(s1)\n",
    "print(t1)"
   ]
  },
  {
   "cell_type": "code",
   "execution_count": 88,
   "metadata": {},
   "outputs": [
    {
     "name": "stdout",
     "output_type": "stream",
     "text": [
      "{4, 5, 6}\n",
      "{1, 2, 3, 4, 5, 6, 7, 8, 9}\n",
      "{1, 2, 3}\n"
     ]
    }
   ],
   "source": [
    "# 집합연산\n",
    "s1 = set([1, 2, 3, 4, 5, 6])\n",
    "s2 = set([4, 5, 6, 7, 8, 9])\n",
    "\n",
    "print(s1 & s2)  # 교집합\n",
    "print(s1 | s2)  # 합집합\n",
    "print(s1 - s2)  # 차집합"
   ]
  },
  {
   "cell_type": "code",
   "execution_count": 89,
   "metadata": {},
   "outputs": [
    {
     "name": "stdout",
     "output_type": "stream",
     "text": [
      "{1, 2, 3, 4}\n",
      "{1, 2, 3, 4, 5, 6}\n",
      "{1, 3}\n"
     ]
    }
   ],
   "source": [
    "# 관련 함수\n",
    "# 원소 1개 추가\n",
    "s1 = set([1, 2, 3])\n",
    "s1.add(4)\n",
    "print(s1)\n",
    "\n",
    "# 여러 원소 추가\n",
    "s1 = set([1, 2, 3])\n",
    "s1.update([4, 5, 6])\n",
    "print(s1)\n",
    "\n",
    "# 원소제거\n",
    "s1 = set([1, 2, 3])\n",
    "s1.remove(2)\n",
    "print(s1)\n"
   ]
  },
  {
   "cell_type": "markdown",
   "metadata": {
    "collapsed": true
   },
   "source": [
    "#  제어문"
   ]
  },
  {
   "cell_type": "markdown",
   "metadata": {},
   "source": [
    "### if"
   ]
  },
  {
   "cell_type": "code",
   "execution_count": 1,
   "metadata": {},
   "outputs": [
    {
     "name": "stdout",
     "output_type": "stream",
     "text": [
      "택시를 타고 가라\n"
     ]
    }
   ],
   "source": [
    "money = 2000\n",
    "card = 1\n",
    "if money >= 3000 or card:\n",
    "     print(\"택시를 타고 가라\")\n",
    "else:\n",
    "     print(\"걸어가라\")"
   ]
  },
  {
   "cell_type": "code",
   "execution_count": 4,
   "metadata": {},
   "outputs": [
    {
     "name": "stdout",
     "output_type": "stream",
     "text": [
      "True\n",
      "False\n",
      "True\n",
      "True\n"
     ]
    }
   ],
   "source": [
    "print(1 in [1, 2, 3])\n",
    "print(1 not in [1, 2, 3])\n",
    "print('a' in ('a', 'b', 'c'))\n",
    "print('j' not in 'python')"
   ]
  },
  {
   "cell_type": "code",
   "execution_count": 6,
   "metadata": {
    "collapsed": true
   },
   "outputs": [],
   "source": [
    "pocket = ['paper', 'money', 'cellphone']\n",
    "if 'money' in pocket:\n",
    "     pass \n",
    "else:\n",
    "     print(\"카드를 꺼내라\")"
   ]
  },
  {
   "cell_type": "code",
   "execution_count": 27,
   "metadata": {},
   "outputs": [
    {
     "name": "stdout",
     "output_type": "stream",
     "text": [
      "택시를 타고가라*\n"
     ]
    }
   ],
   "source": [
    "pocket = ['paper', 'cellphone', 'money']\n",
    "card = 1\n",
    "if 'money' in pocket:\n",
    "      print(\"택시를 타고가라*\")\n",
    "elif card==1: \n",
    "      print(\"택시를 타고가라**\")\n",
    "else:\n",
    "      print(\"걸어가라\")"
   ]
  },
  {
   "cell_type": "markdown",
   "metadata": {},
   "source": [
    "### while"
   ]
  },
  {
   "cell_type": "code",
   "execution_count": 28,
   "metadata": {},
   "outputs": [
    {
     "name": "stdout",
     "output_type": "stream",
     "text": [
      "나무를 1번 찍었습니다.\n",
      "False\n",
      "나무를 2번 찍었습니다.\n",
      "True\n",
      "나무를 3번 찍었습니다.\n",
      "False\n"
     ]
    }
   ],
   "source": [
    "treeHit = 0\n",
    "while treeHit < 3:\n",
    "     treeHit = treeHit +1\n",
    "     print(\"나무를 %d번 찍었습니다.\" % treeHit)\n",
    "     if treeHit == 10:\n",
    "         print(\"나무 넘어갑니다.\")\n",
    "     print(treeHit in [2,4,6,8])\n",
    "        "
   ]
  },
  {
   "cell_type": "markdown",
   "metadata": {},
   "source": [
    "### for"
   ]
  },
  {
   "cell_type": "code",
   "execution_count": 10,
   "metadata": {},
   "outputs": [
    {
     "name": "stdout",
     "output_type": "stream",
     "text": [
      "one\n",
      "two\n",
      "three\n"
     ]
    }
   ],
   "source": [
    "test_list = ['one', 'two', 'three'] \n",
    "for i in test_list:\n",
    "     print(i)"
   ]
  },
  {
   "cell_type": "code",
   "execution_count": 53,
   "metadata": {},
   "outputs": [
    {
     "name": "stdout",
     "output_type": "stream",
     "text": [
      "2\n",
      "12\n",
      "30\n"
     ]
    }
   ],
   "source": [
    "a = [(1,2), (3,4), (5,6)]\n",
    "for (first, last) in a:\n",
    "     print(first * last)"
   ]
  },
  {
   "cell_type": "code",
   "execution_count": 13,
   "metadata": {},
   "outputs": [
    {
     "name": "stdout",
     "output_type": "stream",
     "text": [
      "1번 학생은 합격입니다.\n",
      "2번 학생은 불합격입니다.\n",
      "3번 학생은 합격입니다.\n",
      "4번 학생은 불합격입니다.\n",
      "5번 학생은 합격입니다.\n"
     ]
    }
   ],
   "source": [
    "marks = [90, 25, 67, 45, 80]\n",
    "\n",
    "number = 0 \n",
    "for mark in marks: \n",
    "    number = number +1 \n",
    "    if mark >= 60: \n",
    "        print(\"%d번 학생은 합격입니다.\" % number)\n",
    "    else: \n",
    "        print(\"%d번 학생은 불합격입니다.\" % number)"
   ]
  },
  {
   "cell_type": "code",
   "execution_count": 31,
   "metadata": {},
   "outputs": [
    {
     "name": "stdout",
     "output_type": "stream",
     "text": [
      "range(0, 10)\n",
      "range(1, 10)\n"
     ]
    }
   ],
   "source": [
    "# range(10)은 0부터 10 미만(0~9)의 숫자를 포함하는 range  객체를 생성\n",
    "a = range(10)   \n",
    "print(a)\n",
    "\n",
    "a = range(1, 10)   \n",
    "print(a)"
   ]
  },
  {
   "cell_type": "code",
   "execution_count": 32,
   "metadata": {},
   "outputs": [
    {
     "name": "stdout",
     "output_type": "stream",
     "text": [
      "0\n",
      "1\n",
      "2\n",
      "3\n",
      "4\n",
      "10\n"
     ]
    }
   ],
   "source": [
    "sum = 0 \n",
    "for i in range(5): \n",
    "     print(i)\n",
    "     sum = sum + i \n",
    "print(sum)"
   ]
  },
  {
   "cell_type": "code",
   "execution_count": 17,
   "metadata": {},
   "outputs": [
    {
     "name": "stdout",
     "output_type": "stream",
     "text": [
      "1번 학생 축하합니다. 합격입니다.\n",
      "3번 학생 축하합니다. 합격입니다.\n",
      "5번 학생 축하합니다. 합격입니다.\n"
     ]
    }
   ],
   "source": [
    "marks = [90, 25, 67, 45, 80]\n",
    "for number in range(len(marks)):\n",
    "    if marks[number] < 60: continue\n",
    "    print(\"%d번 학생 축하합니다. 합격입니다.\" % (number+1))"
   ]
  },
  {
   "cell_type": "code",
   "execution_count": 66,
   "metadata": {},
   "outputs": [
    {
     "name": "stdout",
     "output_type": "stream",
     "text": [
      "[3, 6, 9, 12]\n",
      "[2, 4, 6, 8]\n"
     ]
    }
   ],
   "source": [
    "a = [1,2,3,4]\n",
    "result = []\n",
    "for num in a:\n",
    "    result.append(num*3)\n",
    "print(result)\n",
    "\n",
    "\n",
    "# 리스트 안에 for문 포함하기\n",
    "a = [1,2,3,4]\n",
    "result = [num * 2 for num in a]\n",
    "print(result)"
   ]
  },
  {
   "cell_type": "markdown",
   "metadata": {},
   "source": [
    "### 함수"
   ]
  },
  {
   "cell_type": "code",
   "execution_count": 22,
   "metadata": {},
   "outputs": [
    {
     "name": "stdout",
     "output_type": "stream",
     "text": [
      "7\n"
     ]
    }
   ],
   "source": [
    "def sum(a, b):\n",
    "     return a+b\n",
    "\n",
    "a = 3\n",
    "b = 4\n",
    "c = sum(a, b)\n",
    "print(c)"
   ]
  },
  {
   "cell_type": "code",
   "execution_count": 23,
   "metadata": {},
   "outputs": [
    {
     "name": "stdout",
     "output_type": "stream",
     "text": [
      "Hi\n",
      "2, 4의 합은 6입니다.\n"
     ]
    }
   ],
   "source": [
    "# 입력값이 없는 경우\n",
    "def say(): \n",
    "     return 'Hi' \n",
    "\n",
    "a = say()\n",
    "print(a)\n",
    "\n",
    "# return값이 없는 경우\n",
    "def sum(a, b): \n",
    "     print(\"%d, %d의 합은 %d입니다.\" % (a, b, a+b))\n",
    "\n",
    "sum(2, 4)"
   ]
  },
  {
   "cell_type": "code",
   "execution_count": 74,
   "metadata": {},
   "outputs": [
    {
     "name": "stdout",
     "output_type": "stream",
     "text": [
      "1\n",
      "2\n",
      "3\n",
      "4\n",
      "5\n",
      "15\n"
     ]
    }
   ],
   "source": [
    "def sum_many(*args): \n",
    "      sum = 0 \n",
    "      for i in args:\n",
    "         print(i)\n",
    "         sum = sum + i \n",
    "      return sum \n",
    "\n",
    "#result = sum_many(1,2,3)\n",
    "#print(result)\n",
    "result = sum_many(1,2,3,4,5)\n",
    "print(result)"
   ]
  },
  {
   "cell_type": "code",
   "execution_count": 31,
   "metadata": {},
   "outputs": [
    {
     "name": "stdout",
     "output_type": "stream",
     "text": [
      "[7, 12]\n",
      "<class 'int'>\n",
      "(7, 12)\n"
     ]
    }
   ],
   "source": [
    "#  여러개의 값을 리턴할 경우, tuple 형태로 리턴함\n",
    "\n",
    "def sum_and_mul(a,b): \n",
    "     return a+b, a*b\n",
    "\n",
    "sum, mul = sum_and_mul(3,4)\n",
    "result = sum_and_mul(3,4)\n",
    "print(\"[%s, %s]\" % (sum, mul))\n",
    "print(type(sum))\n",
    "print(result)  #result의 타입은 tuple"
   ]
  },
  {
   "cell_type": "code",
   "execution_count": 76,
   "metadata": {},
   "outputs": [
    {
     "name": "stdout",
     "output_type": "stream",
     "text": [
      "나의 이름은 홍길동 입니다.\n",
      "나이는 27살입니다.\n",
      "남자입니다.\n",
      "나의 이름은 김영희 입니다.\n",
      "나이는 25살입니다.\n",
      "여자입니다.\n"
     ]
    }
   ],
   "source": [
    "# 인수의 초깃값(default) 설정\n",
    "def say_myself(name, old, man=True): \n",
    "    print(\"나의 이름은 %s 입니다.\" % name) \n",
    "    print(\"나이는 %d살입니다.\" % old) \n",
    "    if man: \n",
    "        print(\"남자입니다.\")\n",
    "    else: \n",
    "        print(\"여자입니다.\")\n",
    "\n",
    "say_myself(\"홍길동\", 27)\n",
    "say_myself(\"김영희\", 25, False)\n"
   ]
  },
  {
   "cell_type": "code",
   "execution_count": 77,
   "metadata": {},
   "outputs": [
    {
     "name": "stdout",
     "output_type": "stream",
     "text": [
      "당신의 성명을 입력하세요홍길동\n",
      "홍길동,홍길동,홍길동,홍길동,홍길동,홍길동,홍길동,홍길동,홍길동,홍길동,\n"
     ]
    }
   ],
   "source": [
    "# 사용자 입력\n",
    "a = input(\"당신의 성명을 입력하세요\")\n",
    "print((a+',')*10)\n"
   ]
  },
  {
   "cell_type": "code",
   "execution_count": 33,
   "metadata": {},
   "outputs": [
    {
     "name": "stdout",
     "output_type": "stream",
     "text": [
      "숫자를 입력하세요: 3\n",
      "3\n"
     ]
    }
   ],
   "source": [
    "# 프롬프트를 띄워서 사용자 입력 받기\n",
    "number = input(\"숫자를 입력하세요: \")\n",
    "print(number)"
   ]
  },
  {
   "cell_type": "code",
   "execution_count": 82,
   "metadata": {},
   "outputs": [
    {
     "name": "stdout",
     "output_type": "stream",
     "text": [
      "lifeistoo short\n",
      "lifeistoo short\n",
      "life is too short\n",
      "0:1:2:3:4:5:6:7:8:9:"
     ]
    }
   ],
   "source": [
    "# 큰따옴표(\")로 둘러싸인 문자열은 + 연산과 동일하다\n",
    "print(\"life\" \"is\" \"too short\")\n",
    "print(\"life\"+\"is\"+\"too short\") \n",
    "\n",
    "# 문자열 띄어쓰기는 콤마로 한다\n",
    "print(\"life\", \"is\", \"too short\")\n",
    "\n",
    "# 한 줄에 결과값 출력하기\n",
    "for i in range(10):\n",
    "     print(i, end=':')"
   ]
  },
  {
   "cell_type": "markdown",
   "metadata": {},
   "source": [
    "### 파일 입출력"
   ]
  },
  {
   "cell_type": "code",
   "execution_count": 35,
   "metadata": {
    "collapsed": true
   },
   "outputs": [],
   "source": [
    "f = open(\"new.txt\", 'w')\n",
    "for i in range(1, 11):\n",
    "    data = \"%d번째 줄입니다.\\n\" % i\n",
    "    f.write(data)\n",
    "f.close()"
   ]
  },
  {
   "cell_type": "code",
   "execution_count": 37,
   "metadata": {},
   "outputs": [
    {
     "name": "stdout",
     "output_type": "stream",
     "text": [
      "1번째 줄입니다.\n",
      "\n",
      "2번째 줄입니다.\n",
      "\n",
      "3번째 줄입니다.\n",
      "\n",
      "4번째 줄입니다.\n",
      "\n",
      "5번째 줄입니다.\n",
      "\n",
      "6번째 줄입니다.\n",
      "\n",
      "7번째 줄입니다.\n",
      "\n",
      "8번째 줄입니다.\n",
      "\n",
      "9번째 줄입니다.\n",
      "\n",
      "10번째 줄입니다.\n",
      "\n"
     ]
    }
   ],
   "source": [
    "f = open(\"new.txt\", 'r')\n",
    "while True:\n",
    "    line = f.readline()\n",
    "    if not line: break\n",
    "    print(line)\n",
    "f.close()"
   ]
  },
  {
   "cell_type": "code",
   "execution_count": 38,
   "metadata": {
    "scrolled": true
   },
   "outputs": [
    {
     "name": "stdout",
     "output_type": "stream",
     "text": [
      "1번째 줄입니다.\n",
      "\n",
      "2번째 줄입니다.\n",
      "\n",
      "3번째 줄입니다.\n",
      "\n",
      "4번째 줄입니다.\n",
      "\n",
      "5번째 줄입니다.\n",
      "\n",
      "6번째 줄입니다.\n",
      "\n",
      "7번째 줄입니다.\n",
      "\n",
      "8번째 줄입니다.\n",
      "\n",
      "9번째 줄입니다.\n",
      "\n",
      "10번째 줄입니다.\n",
      "\n"
     ]
    }
   ],
   "source": [
    "f = open(\"new.txt\", 'r')\n",
    "lines = f.readlines()\n",
    "for line in lines:\n",
    "    print(line)\n",
    "f.close()"
   ]
  },
  {
   "cell_type": "code",
   "execution_count": 39,
   "metadata": {},
   "outputs": [
    {
     "name": "stdout",
     "output_type": "stream",
     "text": [
      "1번째 줄입니다.\n",
      "2번째 줄입니다.\n",
      "3번째 줄입니다.\n",
      "4번째 줄입니다.\n",
      "5번째 줄입니다.\n",
      "6번째 줄입니다.\n",
      "7번째 줄입니다.\n",
      "8번째 줄입니다.\n",
      "9번째 줄입니다.\n",
      "10번째 줄입니다.\n",
      "\n"
     ]
    }
   ],
   "source": [
    "f = open(\"new.txt\", 'r')\n",
    "data = f.read()\n",
    "print(data)\n",
    "f.close()"
   ]
  },
  {
   "cell_type": "markdown",
   "metadata": {
    "collapsed": true
   },
   "source": [
    "### 클래스"
   ]
  },
  {
   "cell_type": "code",
   "execution_count": 1,
   "metadata": {},
   "outputs": [
    {
     "name": "stdout",
     "output_type": "stream",
     "text": [
      "3\n",
      "7\n",
      "3\n",
      "10\n"
     ]
    }
   ],
   "source": [
    "class Calculator:  #클래스는 메소드와 data를 정의해줘야함!  #클래스명 자체가 객체생성함수임 \n",
    "    def __init__(self):  #메소드1 #특수 함수(꼭 있을 필요는 x)  #객체 생성시 자동 호출되는 함수 \n",
    "        self.result = 0  #result가 data요소가 됨!  #self는 객체 자신을 의미함 \n",
    "\n",
    "    def adder(self, num): #메소드2\n",
    "        self.result += num\n",
    "        return self.result\n",
    "\n",
    "cal1 = Calculator()  #클래스명 자체의 함수가 객체생성함수!\n",
    "cal2 = Calculator()\n",
    "\n",
    "print(cal1.adder(3))  #self는 객체 자신이니까 넘어감 #인자는 num 한 개!\n",
    "print(cal1.adder(4))   #3+4 = 7\n",
    "print(cal2.adder(3))  \n",
    "print(cal2.adder(7))   #3+7 = 10"
   ]
  },
  {
   "cell_type": "code",
   "execution_count": 2,
   "metadata": {},
   "outputs": [
    {
     "name": "stdout",
     "output_type": "stream",
     "text": [
      "1 + 1 = 2입니다.\n"
     ]
    }
   ],
   "source": [
    "class Service:\n",
    "     secret = \"영구는 외계인이다.\"    # 클래스 변수\n",
    "     def sum(self, a, b):       # 더하기 서비스\n",
    "         result = a + b\n",
    "         print(\"%s + %s = %s입니다.\" % (a, b, result))\n",
    "\n",
    "pey = Service()\n",
    "pey.sum(1,1)"
   ]
  },
  {
   "cell_type": "code",
   "execution_count": 5,
   "metadata": {},
   "outputs": [
    {
     "name": "stdout",
     "output_type": "stream",
     "text": [
      "홍길동님 1 + 1 = 2입니다.\n",
      "영구는 외계인이다.\n",
      "김만식님 2 + 2 = 4입니다.\n",
      "영구는 외계인이다.\n"
     ]
    }
   ],
   "source": [
    "class Service:\n",
    "     secret = \"영구는 외계인이다.\"   # 클래스 변수 #self없이 나오는 변수 #객체에 포함되지 않음 #공장에만 존재한다.ex)생산객체수 공장위치\n",
    "     def setname(self, name):\n",
    "         self.name = name         # 객체변수  \n",
    "     def sum(self, a, b):\n",
    "         result = a + b\n",
    "         print(\"%s님 %s + %s = %s입니다.\" % (self.name, a, b, result))\n",
    "        \n",
    "pey = Service()\n",
    "pey.setname(\"홍길동\")\n",
    "pey.sum(1, 1)\n",
    "print(pey.secret)\n",
    "\n",
    "pey2 = Service()\n",
    "pey2.setname(\"김만식\")\n",
    "pey2.sum(2, 2)\n",
    "print(pey2.secret)\n"
   ]
  },
  {
   "cell_type": "code",
   "execution_count": 39,
   "metadata": {
    "scrolled": true
   },
   "outputs": [
    {
     "name": "stdout",
     "output_type": "stream",
     "text": [
      "객체생성\n",
      "[홍길동, 2000년 출생, 18세]\n"
     ]
    }
   ],
   "source": [
    "class Person:\n",
    "     def __init__(self, name, birth_year):\n",
    "         self.name = name\n",
    "         self.birth_year = birth_year\n",
    "         print(\"객체생성\")\n",
    "            \n",
    "    #ef sum(self, a, b):\n",
    "    #   result = a + b\n",
    "    #   print(\"%s님 %s + %s = %s입니다.\" % (self.name, a, b, result))\n",
    "        \n",
    "     def display(self):\n",
    "        age = 2018-self.birth_year\n",
    "        print(\"[%s, %s년 출생, %s세]\" % (self.name, self.birth_year, age))\n",
    " \n",
    "p1 = Person(\"홍길동\", 2000)\n",
    "p1.display()"
   ]
  },
  {
   "cell_type": "markdown",
   "metadata": {},
   "source": [
    "# numpy"
   ]
  },
  {
   "cell_type": "code",
   "execution_count": 10,
   "metadata": {},
   "outputs": [
    {
     "name": "stdout",
     "output_type": "stream",
     "text": [
      "<class 'numpy.ndarray'>\n",
      "(3,)\n",
      "1 2 3\n",
      "[5 2 3]\n",
      "(2, 3)\n",
      "1 2 4\n"
     ]
    }
   ],
   "source": [
    "import numpy as np\n",
    "\n",
    "a = np.array([1, 2, 3])  # rank=1 shape = (3,)\n",
    "print (type(a))            \n",
    "print (a.shape)            \n",
    "print (a[0], a[1], a[2])   \n",
    "a[0] = (5)                 # 요소를 변경\n",
    "print (a)                  \n",
    "\n",
    "b = np.array([[1,2,3],[4,5,6]])   # rank=2 shape = (2, 3)\n",
    "print (b.shape)                     \n",
    "print (b[0, 0], b[0, 1], b[1, 0])   "
   ]
  },
  {
   "cell_type": "code",
   "execution_count": 41,
   "metadata": {},
   "outputs": [
    {
     "name": "stdout",
     "output_type": "stream",
     "text": [
      "[[0. 0.]\n",
      " [0. 0.]]\n",
      "[[1. 1.]]\n",
      "[[7 7 7]\n",
      " [7 7 7]\n",
      " [7 7 7]\n",
      " [7 7 7]\n",
      " [7 7 7]]\n",
      "[[1. 0.]\n",
      " [0. 1.]]\n",
      "[[0.60951695 0.67543757 0.14834341]\n",
      " [0.2571669  0.23821022 0.74448984]\n",
      " [0.17928939 0.77071645 0.67500726]\n",
      " [0.12857983 0.26730316 0.74158417]\n",
      " [0.48481087 0.2781092  0.76038075]]\n"
     ]
    }
   ],
   "source": [
    "import numpy as np\n",
    "\n",
    "a = np.zeros((2,2))  # 모든 값이 0인 배열 생성\n",
    "print (a)              # 출력 \"[[ 0.  0.]\n",
    "                     #       [ 0.  0.]]\"\n",
    "\n",
    "b = np.ones((1,2))   # 모든 값이 1인 배열 생성\n",
    "print (b)              # 출력 \"[[ 1.  1.]]\"\n",
    "\n",
    "c = np.full((5,3), 7) # 모든 값이 특정 상수인 배열 생성\n",
    "print (c)               # 출력 \"[[ 7.  7.]\n",
    "                      #       [ 7.  7.]]\"\n",
    "\n",
    "d = np.eye(2)        # 2x2 단위행렬 생성\n",
    "print (d)              # 출력 \"[[ 1.  0.]\n",
    "                     #       [ 0.  1.]]\"\n",
    "\n",
    "e = np.random.random((5,3)) # (0~1)사이의 임의의 값으로 채워진 5*3 행렬 생성\n",
    "print (e)                   # 임의의 값 출력 \"[[ 0.91940167  0.08143941]\n",
    "                            #                  [ 0.68744134  0.87236687]]\""
   ]
  },
  {
   "cell_type": "code",
   "execution_count": 83,
   "metadata": {},
   "outputs": [
    {
     "name": "stdout",
     "output_type": "stream",
     "text": [
      "[[2 3]\n",
      " [6 7]]\n",
      "2\n",
      "77\n"
     ]
    }
   ],
   "source": [
    "import numpy as np\n",
    "\n",
    "# Create the following rank 2 array with shape (3, 4)\n",
    "# [[ 1  2  3  4]\n",
    "#  [ 5  6  7  8]\n",
    "#  [ 9 10 11 12]]\n",
    "a = np.array([[1,2,3,4], [5,6,7,8], [9,10,11,12]])\n",
    "\n",
    "# 슬라이싱을 이용하여 첫 두 행과 1열, 2열로 이루어진 부분배열\n",
    "# b는 shape가 (2,2)인 배열\n",
    "# [[2 3]\n",
    "#  [6 7]]\n",
    "b = a[:2, 1:3]\n",
    "print(b)\n",
    "\n",
    "# 슬라이싱된 배열은 원본 배열과 같은 데이터를 참조. 즉 슬라이싱된 배열을 수정하면\n",
    "# 원본 배열 역시 수정됨  (reference 연결되어 있음0)\n",
    "print (a[0, 1])   # 출력 \"2\"\n",
    "b[0, 0] = 77    # b[0, 0]은 a[0, 1]과 같은 데이터\n",
    "print (a[0, 1])   # 출력 \"77\""
   ]
  },
  {
   "cell_type": "code",
   "execution_count": 16,
   "metadata": {},
   "outputs": [
    {
     "name": "stdout",
     "output_type": "stream",
     "text": [
      "[5 6 7 8] (4,)\n",
      "[[5 6 7 8]] (1, 4)\n",
      "[ 2  6 10] (3,)\n",
      "[[ 2]\n",
      " [ 6]\n",
      " [10]] (3, 1)\n"
     ]
    }
   ],
   "source": [
    "import numpy as np\n",
    "\n",
    "# 아래와 같은 요소를 가지는 rank가 2이고 shape가 (3, 4)인 배열 생성\n",
    "# [[ 1  2  3  4]\n",
    "#  [ 5  6  7  8]\n",
    "#  [ 9 10 11 12]]\n",
    "a = np.array([[1,2,3,4], [5,6,7,8], [9,10,11,12]])\n",
    "\n",
    "# 배열의 중간 행에 접근하는 두 가지 방법이 있습니다.\n",
    "# 정수 인덱싱과 슬라이싱을 혼합해서 사용하면 낮은 rank의 배열이 생성되지만,\n",
    "# 슬라이싱만 사용하면 원본 배열과 동일한 rank의 배열이 생성.\n",
    "row_r1 = a[1, :]    # 배열a의 두 번째 행을 rank가 1인 배열로\n",
    "row_r2 = a[1:2, :]  # 배열a의 두 번째 행을 rank가 2인 배열로\n",
    "print (row_r1, row_r1.shape)  # 출력 \"[5 6 7 8] (4,)\"\n",
    "print (row_r2, row_r2.shape) # 출력 \"[[5 6 7 8]] (1, 4)\"\n",
    "\n",
    "# 행이 아닌 열의 경우에도 마찬가지\n",
    "col_r1 = a[:, 1]\n",
    "col_r2 = a[:, 1:2]\n",
    "print (col_r1, col_r1.shape)  # 출력 \"[ 2  6 10] (3,)\"\n",
    "print (col_r2, col_r2.shape)  # 출력 \"[[ 2]\n",
    "                            #       [ 6]\n",
    "                            #       [10]] (3, 1)\""
   ]
  },
  {
   "cell_type": "code",
   "execution_count": 17,
   "metadata": {},
   "outputs": [
    {
     "name": "stdout",
     "output_type": "stream",
     "text": [
      "int32\n",
      "float64\n",
      "int64\n"
     ]
    }
   ],
   "source": [
    "import numpy as np\n",
    "\n",
    "x = np.array([1, 2])  # Numpy가 자료형을 추측해서 선택\n",
    "print (x.dtype)         # 출력 \"int64\"\n",
    "\n",
    "x = np.array([1.0, 2.0])  # Numpy가 자료형을 추측해서 선택\n",
    "print (x.dtype)             # 출력 \"float64\"\n",
    "\n",
    "x = np.array([1, 2], dtype=np.int64)  # 특정 자료형을 명시적으로 지정\n",
    "print (x.dtype)                         # 출력 \"int64\""
   ]
  },
  {
   "cell_type": "code",
   "execution_count": 19,
   "metadata": {},
   "outputs": [
    {
     "name": "stdout",
     "output_type": "stream",
     "text": [
      "[[  6.   8.]\n",
      " [ 10.  12.]]\n",
      "[[  6.   8.]\n",
      " [ 10.  12.]]\n",
      "[[-4. -4.]\n",
      " [-4. -4.]]\n",
      "[[-4. -4.]\n",
      " [-4. -4.]]\n",
      "[[  5.  12.]\n",
      " [ 21.  32.]]\n",
      "[[  5.  12.]\n",
      " [ 21.  32.]]\n",
      "[[ 0.2         0.33333333]\n",
      " [ 0.42857143  0.5       ]]\n",
      "[[ 0.2         0.33333333]\n",
      " [ 0.42857143  0.5       ]]\n",
      "[[ 1.          1.41421356]\n",
      " [ 1.73205081  2.        ]]\n"
     ]
    }
   ],
   "source": [
    "import numpy as np\n",
    "\n",
    "x = np.array([[1,2],[3,4]], dtype=np.float64)\n",
    "y = np.array([[5,6],[7,8]], dtype=np.float64)\n",
    "\n",
    "# [[ 6.0  8.0]\n",
    "#  [10.0 12.0]]\n",
    "print (x + y)\n",
    "print (np.add(x, y))\n",
    "\n",
    "# [[-4.0 -4.0]\n",
    "#  [-4.0 -4.0]]\n",
    "print (x - y)\n",
    "print (np.subtract(x, y))\n",
    "\n",
    "# [[ 5.0 12.0]\n",
    "#  [21.0 32.0]]\n",
    "print (x * y)\n",
    "print (np.multiply(x, y))\n",
    "\n",
    "# [[ 0.2         0.33333333]\n",
    "#  [ 0.42857143  0.5       ]]\n",
    "print (x / y)\n",
    "print (np.divide(x, y))\n",
    "\n",
    "# [[ 1.          1.41421356]\n",
    "#  [ 1.73205081  2.        ]]\n",
    "print (np.sqrt(x))"
   ]
  },
  {
   "cell_type": "code",
   "execution_count": 24,
   "metadata": {},
   "outputs": [
    {
     "name": "stdout",
     "output_type": "stream",
     "text": [
      "10\n",
      "[4 6]\n",
      "[3 7]\n"
     ]
    }
   ],
   "source": [
    "import numpy as np\n",
    "\n",
    "x = np.array([[1,2],[3,4]])\n",
    "\n",
    "print (np.sum(x))  # 모든 요소를 합한 값을 연산; 출력 \"10\"\n",
    "print (np.sum(x, axis=0))  # 각 열에 대한 합을 연산; 출력 \"[4 6]\"\n",
    "print (np.sum(x, axis=1))  # 각 행에 대한 합을 연산; 출력 \"[3 7]\""
   ]
  },
  {
   "cell_type": "code",
   "execution_count": 25,
   "metadata": {},
   "outputs": [
    {
     "name": "stdout",
     "output_type": "stream",
     "text": [
      "[[1 2]\n",
      " [3 4]]\n",
      "[[1 3]\n",
      " [2 4]]\n",
      "[1 2 3]\n",
      "[1 2 3]\n",
      "[[1 2 3]]\n",
      "[[1]\n",
      " [2]\n",
      " [3]]\n"
     ]
    }
   ],
   "source": [
    "import numpy as np\n",
    "\n",
    "x = np.array([[1,2], [3,4]])\n",
    "print (x)    # 출력 \"[[1 2]\n",
    "           #          [3 4]]\"\n",
    "print (x.T)  # 출력 \"[[1 3]\n",
    "           #          [2 4]]\"\n",
    "\n",
    "# rank 1인 배열을 전치할 경우 아무 일도 일어나지 않음\n",
    "v = np.array([1,2,3])\n",
    "print (v)    # 출력 \"[1 2 3]\"\n",
    "print (v.T)  # 출력 \"[1 2 3]\"\n",
    "\n",
    "# 2차원 배열\n",
    "v = np.array([[1,2,3]])\n",
    "print (v)    # 출력 \"[1 2 3]\"\n",
    "print (v.T)  # 출력 \"[1 2 3]\"\n"
   ]
  },
  {
   "cell_type": "code",
   "execution_count": 33,
   "metadata": {
    "scrolled": true
   },
   "outputs": [
    {
     "name": "stdout",
     "output_type": "stream",
     "text": [
      "[1 0 1 0]\n",
      "[6 3 6 3]\n"
     ]
    }
   ],
   "source": [
    "x = np.array([1, 2, 3, 4])\n",
    "y = 3\n",
    "\n",
    "print(x[x%2] * 3)  # broadcasting\n",
    "#print(x + 3)\n",
    "#print(x / 3)"
   ]
  },
  {
   "cell_type": "code",
   "execution_count": 14,
   "metadata": {},
   "outputs": [
    {
     "name": "stdout",
     "output_type": "stream",
     "text": [
      "[[1 2]\n",
      " [3 4]\n",
      " [5 6]]\n"
     ]
    }
   ],
   "source": [
    "# 차원 변경 함수 (reshape)\n",
    "import numpy as np\n",
    "x = np.array([[1, 2, 3],[4, 5, 6]])\n",
    "y = x.reshape((3, 2))\n",
    "\n",
    "#print(x)\n",
    "print(y)"
   ]
  },
  {
   "cell_type": "markdown",
   "metadata": {},
   "source": [
    "# Pandas"
   ]
  },
  {
   "cell_type": "code",
   "execution_count": 65,
   "metadata": {},
   "outputs": [
    {
     "name": "stdout",
     "output_type": "stream",
     "text": [
      "0    92600\n",
      "1    92400\n",
      "2    92100\n",
      "3    94300\n",
      "4    92300\n",
      "dtype: int64\n",
      "92600\n",
      "92100\n",
      "92300\n"
     ]
    }
   ],
   "source": [
    "import pandas as pd\n",
    "\n",
    "kakao = pd.Series([92600, 92400, 92100, 94300, 92300])\n",
    "print(kakao)\n",
    "\n",
    "print(kakao[0])\n",
    "print(kakao[2])\n",
    "print(kakao[4])"
   ]
  },
  {
   "cell_type": "code",
   "execution_count": 42,
   "metadata": {},
   "outputs": [
    {
     "name": "stdout",
     "output_type": "stream",
     "text": [
      "10\n",
      "20\n",
      "30\n",
      "10\n",
      "20\n",
      "30\n"
     ]
    }
   ],
   "source": [
    "import pandas as pd\n",
    "\n",
    "mine   = pd.Series([10, 20, 30], index=['naver', 'sk', 'kt'])\n",
    "\n",
    "for idx in mine.index:\n",
    "    print(mine[idx])\n",
    "\n",
    "for price in mine.values:\n",
    "    print(price)\n"
   ]
  },
  {
   "cell_type": "code",
   "execution_count": 2,
   "metadata": {},
   "outputs": [
    {
     "name": "stdout",
     "output_type": "stream",
     "text": [
      "   col0  col1  col2\n",
      "0     1    10   100\n",
      "1     2    20   200\n",
      "2     3    30   300\n",
      "3     4    40   400\n",
      "0    10\n",
      "1    20\n",
      "2    30\n",
      "3    40\n",
      "Name: col1, dtype: int64\n"
     ]
    }
   ],
   "source": [
    "import pandas as pd\n",
    "\n",
    "raw_data = {'col0': [1, 2, 3, 4],\n",
    "                        'col1': [10, 20, 30, 40],\n",
    "                        'col2': [100, 200, 300, 400]}\n",
    "\n",
    "data = pd.DataFrame(raw_data)\n",
    "print(data)\n",
    "print(data['col1'])"
   ]
  },
  {
   "cell_type": "code",
   "execution_count": null,
   "metadata": {},
   "outputs": [],
   "source": [
    "print(type(data['col0']))  # dataframe의 각 column은 series 객체"
   ]
  },
  {
   "cell_type": "code",
   "execution_count": 15,
   "metadata": {},
   "outputs": [
    {
     "name": "stdout",
     "output_type": "stream",
     "text": [
      "몸무게 목록\n",
      "2    65.5\n",
      "3    45.9\n",
      "Name: weight, dtype: float64\n",
      "몸무게와 키 목록\n",
      "   weight  height\n",
      "0    80.0     170\n",
      "1    70.4     180\n",
      "2    65.5     155\n",
      "3    45.9     143\n",
      "4    51.2     154\n"
     ]
    }
   ],
   "source": [
    "import pandas as pd\n",
    "# 키, 몸무게, 유형 데이터프레임 생성하기\n",
    "tbl = pd.DataFrame({\n",
    "    \"weight\": [ 80.0, 70.4, 65.5, 45.9, 51.2 ],\n",
    "    \"height\": [ 170,  180,  155,  143,  154  ],\n",
    "    \"type\":   [ \"f\", \"n\", \"n\", \"t\", \"t\"]\n",
    "})\n",
    "# 몸무게 목록 추출하기\n",
    "print(\"몸무게 목록\")\n",
    "print(tbl[\"weight\"][2:4])\n",
    "# 몸무게와 키 목록 추출하기\n",
    "print(\"몸무게와 키 목록\")\n",
    "print(tbl[[\"weight\",\"height\"]])  # 2개 이상의 column을 추출할 경우 리스트를 이용"
   ]
  },
  {
   "cell_type": "code",
   "execution_count": 3,
   "metadata": {},
   "outputs": [
    {
     "name": "stdout",
     "output_type": "stream",
     "text": [
      "   height type  weight\n",
      "2     155    n    65.5\n",
      "3     143    t    45.9\n",
      "   height type  weight\n",
      "2     155    n    65.5\n",
      "3     143    t    45.9\n",
      "\n",
      "\n",
      "2    65.5\n",
      "3    45.9\n",
      "Name: weight, dtype: float64\n"
     ]
    }
   ],
   "source": [
    "import pandas as pd\n",
    "\n",
    "tbl = pd.DataFrame({\n",
    "    \"weight\": [ 80.0, 70.4, 65.5, 45.9, 51.2 ],\n",
    "    \"height\": [ 170,  180,  155,  143,  154  ],\n",
    "    \"type\":   [ \"f\", \"n\", \"n\", \"t\", \"t\"]\n",
    "})\n",
    "\n",
    "print(tbl[2:4]) # row 조건\n",
    "print(tbl.iloc[2:4, :])  # 위와 동일한 결과(iloc)\n",
    "print(\"\\n\")\n",
    "print(tbl[\"weight\"][2:4])  # column과 row조건이 모두 포함\n",
    "                           # tbl[2:4][\"weight\"]와 같이 기술해도 결과는 동일"
   ]
  },
  {
   "cell_type": "code",
   "execution_count": 4,
   "metadata": {},
   "outputs": [
    {
     "name": "stdout",
     "output_type": "stream",
     "text": [
      "--- height가 160 이상인 것\n",
      "  gender  height  weight\n",
      "0      f     170    80.0\n",
      "1      m     180    70.4\n",
      "5      m     160    72.5\n",
      "--- gender가 m 인 것\n",
      "  gender  height  weight\n",
      "1      m     180    70.4\n",
      "2      m     155    65.5\n",
      "5      m     160    72.5\n",
      "  gender  height  weight\n",
      "2      m     155    65.5\n",
      "3      f     143    45.9\n",
      "4      f     154    51.2\n"
     ]
    }
   ],
   "source": [
    "import pandas as pd\n",
    "# 키, 몸무게, 유형 데이터프레임 생성하기\n",
    "tbl = pd.DataFrame({\n",
    "    \"weight\": [ 80.0, 70.4, 65.5, 45.9, 51.2, 72.5 ],\n",
    "    \"height\": [ 170,  180,  155,  143,  154,  160  ],\n",
    "    \"gender\": [ \"f\",  \"m\",  \"m\",  \"f\",  \"f\",  \"m\"  ]\n",
    "})\n",
    "print(\"--- height가 160 이상인 것\")\n",
    "print(tbl[tbl.height >= 160])\n",
    "print(\"--- gender가 m 인 것\")\n",
    "print(tbl[tbl.gender == \"m\"])\n",
    "print(tbl[tbl.height < 160])"
   ]
  },
  {
   "cell_type": "code",
   "execution_count": 80,
   "metadata": {},
   "outputs": [
    {
     "name": "stdout",
     "output_type": "stream",
     "text": [
      "--- 키로 정렬\n",
      "  gender  height  weight\n",
      "3      f     143    45.9\n",
      "4      f     154    51.2\n",
      "2      m     155    65.5\n",
      "5      m     160    72.5\n",
      "0      f     170    80.0\n",
      "1      m     180    70.4\n",
      "--- 몸무게로 정렬\n",
      "  gender  height  weight\n",
      "0      f     170    80.0\n",
      "5      m     160    72.5\n",
      "1      m     180    70.4\n",
      "2      m     155    65.5\n",
      "4      f     154    51.2\n",
      "3      f     143    45.9\n"
     ]
    }
   ],
   "source": [
    "import pandas as pd\n",
    "\n",
    "tbl = pd.DataFrame({\n",
    "    \"weight\": [ 80.0, 70.4, 65.5, 45.9, 51.2, 72.5 ],\n",
    "    \"height\": [ 170,  180,  155,  143,  154,  160  ],\n",
    "    \"gender\": [ \"f\",  \"m\",  \"m\",  \"f\",  \"f\",  \"m\"  ]\n",
    "})\n",
    "print(\"--- 키로 정렬\")\n",
    "print(tbl.sort_values(by=\"height\"))\n",
    "print(\"--- 몸무게로 정렬\")\n",
    "print(tbl.sort_values(by=\"weight\", ascending=False))"
   ]
  },
  {
   "cell_type": "code",
   "execution_count": 8,
   "metadata": {},
   "outputs": [
    {
     "name": "stdout",
     "output_type": "stream",
     "text": [
      "  gender  height  weight\n",
      "0      f     170    80.0\n",
      "1      m     180    70.4\n",
      "2      m     155    65.5\n",
      "3      f     143    45.9\n",
      "4      f     154    51.2\n",
      "5      m     160    72.5\n",
      "   weight  height gender\n",
      "0    80.0     170      f\n",
      "1    70.4     180      m\n",
      "2    65.5     155      m\n",
      "3    45.9     143      f\n",
      "4    51.2     154      f\n",
      "5    72.5     160      m\n"
     ]
    }
   ],
   "source": [
    "import pandas as pd\n",
    "\n",
    "tbl = pd.DataFrame({\n",
    "    \"weight\": [ 80.0, 70.4, 65.5, 45.9, 51.2, 72.5 ],\n",
    "    \"height\": [ 170,  180,  155,  143,  154,  160  ],\n",
    "    \"gender\": [ \"f\",  \"m\",  \"m\",  \"f\",  \"f\",  \"m\"  ]})\n",
    "print(tbl)\n",
    "\n",
    "tbl = pd.DataFrame({\n",
    "    \"weight\": [ 80.0, 70.4, 65.5, 45.9, 51.2, 72.5 ],\n",
    "    \"height\": [ 170,  180,  155,  143,  154,  160  ],\n",
    "    \"gender\": [ \"f\",  \"m\",  \"m\",  \"f\",  \"f\",  \"m\"  ]}, columns = [\"weight\", \"height\", \"gender\"])\n",
    "\n",
    "\n",
    "print(tbl)"
   ]
  },
  {
   "cell_type": "code",
   "execution_count": 9,
   "metadata": {},
   "outputs": [
    {
     "name": "stdout",
     "output_type": "stream",
     "text": [
      "weight = 45.9 - 80.0\n",
      "height = 143 - 180\n",
      "  gender    height    weight\n",
      "0      f  0.729730  1.000000\n",
      "1      m  1.000000  0.718475\n",
      "2      m  0.324324  0.574780\n",
      "3      f  0.000000  0.000000\n",
      "4      f  0.297297  0.155425\n",
      "5      m  0.459459  0.780059\n"
     ]
    }
   ],
   "source": [
    "import pandas as pd\n",
    "\n",
    "tbl = pd.DataFrame({\n",
    "    \"weight\": [ 80.0, 70.4, 65.5, 45.9, 51.2, 72.5 ],\n",
    "    \"height\": [ 170,  180,  155,  143,  154,  160  ],\n",
    "    \"gender\": [ \"f\",  \"m\",  \"m\",  \"f\",  \"f\",  \"m\"  ]\n",
    "})\n",
    "# 키와 몸무게 정규화하기\n",
    "# 최댓값과 최솟값 구하기\n",
    "def norm(tbl, key):\n",
    "    c = tbl[key]\n",
    "    v_max = c.max()\n",
    "    v_min = c.min()\n",
    "    print(key, \"=\", v_min, \"-\", v_max)\n",
    "    tbl[key] = (c - v_min) / (v_max - v_min)\n",
    "norm(tbl, \"weight\")\n",
    "norm(tbl, \"height\")\n",
    "print(tbl)"
   ]
  },
  {
   "cell_type": "code",
   "execution_count": 48,
   "metadata": {},
   "outputs": [
    {
     "name": "stdout",
     "output_type": "stream",
     "text": [
      "[[1 4]]\n"
     ]
    },
    {
     "name": "stderr",
     "output_type": "stream",
     "text": [
      "c:\\users\\hjkim\\appdata\\local\\programs\\python\\python35\\lib\\site-packages\\ipykernel_launcher.py:9: FutureWarning: Method .as_matrix will be removed in a future version. Use .values instead.\n",
      "  if __name__ == '__main__':\n"
     ]
    }
   ],
   "source": [
    "import pandas as pd\n",
    "\n",
    "tbl = pd.DataFrame({\n",
    "    \"x\": [1, 2, 3],\n",
    "    \"y\": [4, 5, 6],\n",
    "    \"z\": [7, 8, 9]\n",
    "})\n",
    "\n",
    "n = tbl.as_matrix()\n",
    "#print(n)\n",
    "print(n[:1,:2])"
   ]
  },
  {
   "cell_type": "code",
   "execution_count": 20,
   "metadata": {},
   "outputs": [
    {
     "name": "stdout",
     "output_type": "stream",
     "text": [
      "<bound method NDFrame.rank of   gender  height  weight\n",
      "0      f     170    80.0\n",
      "1      m     180    70.4\n",
      "2      m     155    65.5\n",
      "3      f     143    45.9\n",
      "4      f     154    51.2\n",
      "5      m     160    72.5>\n",
      "(6, 3)\n"
     ]
    }
   ],
   "source": [
    "tbl = pd.DataFrame({\n",
    "    \"weight\": [ 80.0, 70.4, 65.5, 45.9, 51.2, 72.5 ],\n",
    "    \"height\": [ 170,  180,  155,  143,  154,  160  ],\n",
    "    \"gender\": [ \"f\",  \"m\",  \"m\",  \"f\",  \"f\",  \"m\"  ]\n",
    "})\n",
    "\n",
    "print(tbl.shape)\n"
   ]
  },
  {
   "cell_type": "code",
   "execution_count": null,
   "metadata": {},
   "outputs": [],
   "source": []
  }
 ],
 "metadata": {
  "kernelspec": {
   "display_name": "Python 3",
   "language": "python",
   "name": "python3"
  },
  "language_info": {
   "codemirror_mode": {
    "name": "ipython",
    "version": 3
   },
   "file_extension": ".py",
   "mimetype": "text/x-python",
   "name": "python",
   "nbconvert_exporter": "python",
   "pygments_lexer": "ipython3",
   "version": "3.7.1"
  }
 },
 "nbformat": 4,
 "nbformat_minor": 2
}

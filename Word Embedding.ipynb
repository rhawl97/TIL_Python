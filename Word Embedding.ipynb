{
 "cells": [
  {
   "cell_type": "markdown",
   "metadata": {},
   "source": [
    "## Word-level one-hot encoding (toy example)"
   ]
  },
  {
   "cell_type": "code",
   "execution_count": 15,
   "metadata": {},
   "outputs": [
    {
     "name": "stdout",
     "output_type": "stream",
     "text": [
      "<class 'dict'>\n",
      "{'ate': 8, 'homework': 10, 'sat': 3, 'the': 5, 'my': 9, 'mat': 6, 'cat': 2, 'dog': 7, 'The': 1, 'on': 4}\n"
     ]
    }
   ],
   "source": [
    "import numpy as np\n",
    "\n",
    "# This is our initial data; one entry per \"sample\"\n",
    "# (in this toy example, a \"sample\" is just a sentence, but\n",
    "# it could be an entire document).\n",
    "samples = ['The cat sat on the mat.', 'The dog ate my homework.'] #데이터 \n",
    "\n",
    "# First, build an index of all tokens in the data.\n",
    "token_index = {}\n",
    "for sample in samples: #samples는 2개의 원소를 가지는 array(2개의 문장)\n",
    "    # We simply tokenize the samples via the `split` method. \n",
    "    # In real life, we would also strip punctuation and special characters from the samples.\n",
    "    sample = \"\".join([c for c in sample if c not in ('!', '?', '.', ',')]) #join:token을 붙힘 #특수문자 제외 \n",
    "    for word in sample.split(): #공백을 구분자로 단어 parsing \n",
    "        if word not in token_index:\n",
    "            # Assign a unique index to each unique word\n",
    "            token_index[word] = len(token_index) + 1 #단어 순서대로 숫자 부여 \n",
    "            # Note that we don't attribute index 0 to anything.\n",
    "          \n",
    "print(type(token_index))\n",
    "print(token_index)"
   ]
  },
  {
   "cell_type": "code",
   "execution_count": 17,
   "metadata": {},
   "outputs": [
    {
     "name": "stdout",
     "output_type": "stream",
     "text": [
      "6\n"
     ]
    }
   ],
   "source": [
    "word = 'mat'\n",
    "print(token_index.get(word))"
   ]
  },
  {
   "cell_type": "code",
   "execution_count": 18,
   "metadata": {},
   "outputs": [
    {
     "name": "stdout",
     "output_type": "stream",
     "text": [
      "0 0 The 1\n",
      "0 1 cat 2\n",
      "0 2 sat 3\n",
      "0 3 on 4\n",
      "0 4 the 5\n",
      "0 5 mat 6\n",
      "1 0 The 1\n",
      "1 1 dog 7\n",
      "1 2 ate 8\n",
      "1 3 my 9\n",
      "1 4 homework 10\n",
      "[[[0. 1. 0. 0. 0. 0. 0. 0. 0. 0. 0.]\n",
      "  [0. 0. 1. 0. 0. 0. 0. 0. 0. 0. 0.]\n",
      "  [0. 0. 0. 1. 0. 0. 0. 0. 0. 0. 0.]\n",
      "  [0. 0. 0. 0. 1. 0. 0. 0. 0. 0. 0.]\n",
      "  [0. 0. 0. 0. 0. 1. 0. 0. 0. 0. 0.]\n",
      "  [0. 0. 0. 0. 0. 0. 1. 0. 0. 0. 0.]\n",
      "  [0. 0. 0. 0. 0. 0. 0. 0. 0. 0. 0.]\n",
      "  [0. 0. 0. 0. 0. 0. 0. 0. 0. 0. 0.]\n",
      "  [0. 0. 0. 0. 0. 0. 0. 0. 0. 0. 0.]\n",
      "  [0. 0. 0. 0. 0. 0. 0. 0. 0. 0. 0.]]\n",
      "\n",
      " [[0. 1. 0. 0. 0. 0. 0. 0. 0. 0. 0.]\n",
      "  [0. 0. 0. 0. 0. 0. 0. 1. 0. 0. 0.]\n",
      "  [0. 0. 0. 0. 0. 0. 0. 0. 1. 0. 0.]\n",
      "  [0. 0. 0. 0. 0. 0. 0. 0. 0. 1. 0.]\n",
      "  [0. 0. 0. 0. 0. 0. 0. 0. 0. 0. 1.]\n",
      "  [0. 0. 0. 0. 0. 0. 0. 0. 0. 0. 0.]\n",
      "  [0. 0. 0. 0. 0. 0. 0. 0. 0. 0. 0.]\n",
      "  [0. 0. 0. 0. 0. 0. 0. 0. 0. 0. 0.]\n",
      "  [0. 0. 0. 0. 0. 0. 0. 0. 0. 0. 0.]\n",
      "  [0. 0. 0. 0. 0. 0. 0. 0. 0. 0. 0.]]]\n"
     ]
    }
   ],
   "source": [
    "# Next, we vectorize our samples.\n",
    "# We will only consider the first `max_length` words in each sample.\n",
    "max_length = 10\n",
    "\n",
    "# This is where we store our results:\n",
    "results = np.zeros((len(samples), max_length, max(token_index.values()) + 1)) ##3가지 의미 중요##\n",
    "#result는 3차원 tensor (2,10,11): column 11, row 10인 tensor가 2개! #top 10개 단어만 임베딩하겠다!\n",
    "for i, sample in enumerate(samples):\n",
    "    sample = \"\".join([c for c in sample if c not in ('!', '?', '.', ',')]) #특수문자 제거\n",
    "    for j, word in list(enumerate(sample.split()))[:max_length]: #parsing -> parsing한 단어에 대해 순번 매김 -> list화(순번+단어=원소1)\n",
    "        index = token_index.get(word) #word가 token_index에서 몇번인지 알 수 ㅇ\n",
    "        print(i, j, word, index)\n",
    "        results[i, j, index] = 1.#0번째 tensor의 0번째 행 index 1에다가 1마킹\n",
    "        \n",
    "print(results) #단어 하나가 1D tensor로 표현됨(one-hot encoded). 문장 하나가 2차원 tensor 하나! "
   ]
  },
  {
   "cell_type": "markdown",
   "metadata": {},
   "source": [
    "## Word-level one-hot encoding (toy example)"
   ]
  },
  {
   "cell_type": "code",
   "execution_count": 19,
   "metadata": {},
   "outputs": [
    {
     "name": "stdout",
     "output_type": "stream",
     "text": [
      "[[[0. 1. 0. 0. 0. 0. 0. 0. 0. 0. 0.]\n",
      "  [0. 0. 1. 0. 0. 0. 0. 0. 0. 0. 0.]\n",
      "  [0. 0. 0. 1. 0. 0. 0. 0. 0. 0. 0.]\n",
      "  [0. 0. 0. 0. 1. 0. 0. 0. 0. 0. 0.]\n",
      "  [0. 0. 0. 0. 0. 1. 0. 0. 0. 0. 0.]\n",
      "  [0. 0. 0. 0. 0. 0. 1. 0. 0. 0. 0.]\n",
      "  [0. 0. 0. 0. 0. 0. 0. 0. 0. 0. 0.]\n",
      "  [0. 0. 0. 0. 0. 0. 0. 0. 0. 0. 0.]\n",
      "  [0. 0. 0. 0. 0. 0. 0. 0. 0. 0. 0.]\n",
      "  [0. 0. 0. 0. 0. 0. 0. 0. 0. 0. 0.]]\n",
      "\n",
      " [[0. 1. 0. 0. 0. 0. 0. 0. 0. 0. 0.]\n",
      "  [0. 0. 0. 0. 0. 0. 0. 1. 0. 0. 0.]\n",
      "  [0. 0. 0. 0. 0. 0. 0. 0. 1. 0. 0.]\n",
      "  [0. 0. 0. 0. 0. 0. 0. 0. 0. 1. 0.]\n",
      "  [0. 0. 0. 0. 0. 0. 0. 0. 0. 0. 1.]\n",
      "  [0. 0. 0. 0. 0. 0. 0. 0. 0. 0. 0.]\n",
      "  [0. 0. 0. 0. 0. 0. 0. 0. 0. 0. 0.]\n",
      "  [0. 0. 0. 0. 0. 0. 0. 0. 0. 0. 0.]\n",
      "  [0. 0. 0. 0. 0. 0. 0. 0. 0. 0. 0.]\n",
      "  [0. 0. 0. 0. 0. 0. 0. 0. 0. 0. 0.]]]\n"
     ]
    }
   ],
   "source": [
    "# Next, we vectorize our samples.\n",
    "# We will only consider the first `max_length` words in each sample.\n",
    "max_length = 10\n",
    "\n",
    "# This is where we store our results:\n",
    "results = np.zeros((len(samples), max_length, max(token_index.values()) + 1))\n",
    "for i, sample in enumerate(samples):\n",
    "    sample = \"\".join([c for c in sample if c not in ('!', '?', '.', ',')])\n",
    "    for j, word in enumerate(sample.split()):\n",
    "        index = token_index.get(word)\n",
    "        results[i, j, index] = 1.\n",
    "        \n",
    "print(results)"
   ]
  },
  {
   "cell_type": "markdown",
   "metadata": {},
   "source": [
    "## Character-level one-hot encoding (toy example)"
   ]
  },
  {
   "cell_type": "code",
   "execution_count": 37,
   "metadata": {},
   "outputs": [
    {
     "name": "stdout",
     "output_type": "stream",
     "text": [
      "0123456789abcdefghijklmnopqrstuvwxyzABCDEFGHIJKLMNOPQRSTUVWXYZ!\"#$%&'()*+,-./:;<=>?@[\\]^_`{|}~ \t\n",
      "\r",
      "\u000b",
      "\f",
      "\n",
      "100\n"
     ]
    }
   ],
   "source": [
    "import string\n",
    "samples = ['The cat sat on the mat.', 'The dog ate my homework.']\n",
    "characters = string.printable\n",
    "print(characters)\n",
    "print(len(characters))"
   ]
  },
  {
   "cell_type": "code",
   "execution_count": 47,
   "metadata": {},
   "outputs": [
    {
     "name": "stdout",
     "output_type": "stream",
     "text": [
      "{'L': 48, 'n': 24, 'w': 33, 'S': 55, '\\n': 97, 'q': 27, 'B': 38, '-': 75, '=': 81, 'Q': 53, '\\x0c': 100, 'a': 11, 'D': 40, '!': 63, '}': 93, ' ': 95, 'U': 57, '{': 91, 'e': 15, '&': 68, 'W': 59, 'X': 60, '4': 5, '5': 6, 'Y': 61, 'K': 47, '^': 88, '(': 70, '%': 67, 'i': 19, 'f': 16, '?': 83, '*': 72, 'E': 41, '/': 77, 'v': 32, '1': 2, '.': 76, ')': 71, ';': 79, '@': 84, '#': 65, '\"': 64, 'h': 18, '\\x0b': 99, 'm': 23, ':': 78, '0': 1, 'N': 50, '6': 7, '\\r': 98, '9': 10, '[': 85, '~': 94, 'p': 26, 'k': 21, 'J': 46, 'g': 17, 's': 29, 'j': 20, ',': 74, '`': 90, 'F': 42, 'o': 25, 'c': 13, 'O': 51, '>': 82, 'C': 39, 'l': 22, '7': 8, '+': 73, 'I': 45, 'z': 36, 'd': 14, \"'\": 69, 'P': 52, '\\t': 96, 'T': 56, 'G': 43, 'A': 37, '_': 89, '$': 66, 'u': 31, '2': 3, 'M': 49, '<': 80, 't': 30, ']': 87, '3': 4, 'b': 12, '\\\\': 86, '8': 9, '|': 92, 'Z': 62, 'R': 54, 'x': 34, 'y': 35, 'r': 28, 'H': 44, 'V': 58}\n",
      "[[[0. 0. 0. ... 0. 0. 0.]\n",
      "  [0. 0. 0. ... 0. 0. 0.]\n",
      "  [0. 0. 0. ... 0. 0. 0.]\n",
      "  ...\n",
      "  [0. 0. 0. ... 0. 0. 0.]\n",
      "  [0. 0. 0. ... 0. 0. 0.]\n",
      "  [0. 0. 0. ... 0. 0. 0.]]\n",
      "\n",
      " [[0. 0. 0. ... 0. 0. 0.]\n",
      "  [0. 0. 0. ... 0. 0. 0.]\n",
      "  [0. 0. 0. ... 0. 0. 0.]\n",
      "  ...\n",
      "  [0. 0. 0. ... 0. 0. 0.]\n",
      "  [0. 0. 0. ... 0. 0. 0.]\n",
      "  [0. 0. 0. ... 0. 0. 0.]]]\n",
      "[0. 0. 0. 0. 0. 0. 0. 0. 0. 0. 0. 0. 0. 0. 0. 0. 0. 0. 0. 0. 0. 0. 0. 0.\n",
      " 0. 0. 0. 0. 0. 0. 0. 0. 0. 0. 0. 0. 0. 0. 0. 0. 0. 0. 0. 0. 0. 0. 0. 0.\n",
      " 0. 0. 0. 0. 0. 0. 0. 0. 1. 0. 0. 0. 0. 0. 0. 0. 0. 0. 0. 0. 0. 0. 0. 0.\n",
      " 0. 0. 0. 0. 0. 0. 0. 0. 0. 0. 0. 0. 0. 0. 0. 0. 0. 0. 0. 0. 0. 0. 0. 0.\n",
      " 0. 0. 0. 0. 0.]\n"
     ]
    }
   ],
   "source": [
    "token_index = dict(zip(characters, range(1, len(characters) + 1)))\n",
    "print(token_index)\n",
    "max_length = 50\n",
    "results = np.zeros((len(samples), max_length, max(token_index.values()) + 1))\n",
    "for i, sample in enumerate(samples):\n",
    "    for j, character in enumerate(sample):\n",
    "        index = token_index.get(character)\n",
    "        #print(i, j, character, index)\n",
    "        results[i, j, index] = 1.\n",
    "        \n",
    "print(results)\n",
    "print(results[0][0])"
   ]
  },
  {
   "cell_type": "markdown",
   "metadata": {},
   "source": [
    "## Using Keras for word-level one-hot encoding"
   ]
  },
  {
   "cell_type": "code",
   "execution_count": 49,
   "metadata": {},
   "outputs": [
    {
     "name": "stdout",
     "output_type": "stream",
     "text": [
      "[[1, 2, 3, 4, 1, 5], [1, 6, 7, 8, 9]]\n"
     ]
    }
   ],
   "source": [
    "from keras.preprocessing.text import Tokenizer\n",
    "\n",
    "samples = ['The cat sat on the mat.', 'The dog ate my homework.']\n",
    "\n",
    "# We create a tokenizer, configured to only take into account the top-1000 most common words\n",
    "tokenizer = Tokenizer(num_words=100) #token화 준비: 100개까지 등록 단어로 하겠다 \n",
    "# This builds the word index\n",
    "tokenizer.fit_on_texts(samples) #실제 samples data의 token을 뽑아냄 \n",
    "\n",
    "# This turns strings into lists of integer indices.\n",
    "sequences = tokenizer.texts_to_sequences(samples) #텍스트 숫자로 변환됨 (순서 번호 부여)\n",
    "print(sequences)"
   ]
  },
  {
   "cell_type": "code",
   "execution_count": 54,
   "metadata": {},
   "outputs": [
    {
     "name": "stdout",
     "output_type": "stream",
     "text": [
      "[[0. 2. 1. 1. 1. 1. 0. 0. 0. 0. 0. 0. 0. 0. 0. 0. 0. 0. 0. 0. 0. 0. 0. 0.\n",
      "  0. 0. 0. 0. 0. 0. 0. 0. 0. 0. 0. 0. 0. 0. 0. 0. 0. 0. 0. 0. 0. 0. 0. 0.\n",
      "  0. 0. 0. 0. 0. 0. 0. 0. 0. 0. 0. 0. 0. 0. 0. 0. 0. 0. 0. 0. 0. 0. 0. 0.\n",
      "  0. 0. 0. 0. 0. 0. 0. 0. 0. 0. 0. 0. 0. 0. 0. 0. 0. 0. 0. 0. 0. 0. 0. 0.\n",
      "  0. 0. 0. 0.]\n",
      " [0. 1. 0. 0. 0. 0. 1. 1. 1. 1. 0. 0. 0. 0. 0. 0. 0. 0. 0. 0. 0. 0. 0. 0.\n",
      "  0. 0. 0. 0. 0. 0. 0. 0. 0. 0. 0. 0. 0. 0. 0. 0. 0. 0. 0. 0. 0. 0. 0. 0.\n",
      "  0. 0. 0. 0. 0. 0. 0. 0. 0. 0. 0. 0. 0. 0. 0. 0. 0. 0. 0. 0. 0. 0. 0. 0.\n",
      "  0. 0. 0. 0. 0. 0. 0. 0. 0. 0. 0. 0. 0. 0. 0. 0. 0. 0. 0. 0. 0. 0. 0. 0.\n",
      "  0. 0. 0. 0.]]\n",
      "Found 9 unique tokens.\n",
      "{'ate': 7, 'homework': 9, 'sat': 3, 'the': 1, 'my': 8, 'cat': 2, 'dog': 6, 'mat': 5, 'on': 4}\n"
     ]
    }
   ],
   "source": [
    "# You could also directly get the one-hot binary representations.\n",
    "# Note that other vectorization modes than one-hot encoding are supported!\n",
    "one_hot_results = tokenizer.texts_to_matrix(samples, mode='count') #count: 단어의 frequeny넣음 #binary면 0or1\n",
    "print(one_hot_results) #0번째 다어는 0번, 1번째 단어는 1번 등장하는 것을 보여줌 \n",
    "\n",
    "# This is how you can recover the word index that was computed\n",
    "word_index = tokenizer.word_index\n",
    "print('Found %s unique tokens.' % len(word_index))\n",
    "print(word_index)"
   ]
  },
  {
   "cell_type": "code",
   "execution_count": 69,
   "metadata": {},
   "outputs": [],
   "source": [
    "samples = ['The cat sat on the mat.', 'The dog ate my homework.']\n",
    "dimensionality = 1000 #1000개 단어에 대한 onehot\n",
    "max_length = 10\n",
    "results = np.zeros((len(samples), max_length, dimensionality)) #column 1000 row 10인 2d tensor가 2개 \n",
    "for i, sample in enumerate(samples):\n",
    "    for j, word in list(enumerate(sample.split()))[:max_length]:\n",
    "        index = abs(hash(word)) % dimensionality #hash uniform분포를 가지는 정수 리턴 -> index가 중복 안되도록 만들어줌 \n",
    "        results[i, j, index] = 1."
   ]
  },
  {
   "cell_type": "code",
   "execution_count": 70,
   "metadata": {},
   "outputs": [
    {
     "name": "stdout",
     "output_type": "stream",
     "text": [
      "(2, 10, 1000)\n",
      "[0. 0. 0. 0. 0. 0. 0. 0. 0. 0. 0. 0. 0. 0. 0. 0. 0. 0. 0. 0. 0. 0. 0. 0.\n",
      " 0. 0. 0. 0. 0. 0. 0. 0. 0. 0. 0. 0. 0. 0. 0. 0. 0. 0. 0. 0. 0. 0. 0. 0.\n",
      " 0. 0. 0. 0. 0. 0. 0. 0. 0. 0. 0. 0. 0. 0. 0. 0. 0. 0. 0. 0. 0. 0. 0. 0.\n",
      " 0. 0. 0. 0. 0. 0. 0. 0. 0. 0. 0. 0. 0. 0. 0. 0. 0. 0. 0. 0. 0. 0. 0. 0.\n",
      " 0. 0. 0. 0. 0. 0. 0. 0. 0. 0. 0. 0. 0. 0. 0. 0. 0. 0. 0. 0. 0. 0. 0. 0.\n",
      " 0. 0. 0. 0. 0. 0. 0. 0. 0. 0. 0. 0. 0. 0. 0. 0. 0. 0. 0. 0. 0. 0. 0. 0.\n",
      " 0. 0. 0. 0. 0. 0. 0. 0. 0. 0. 0. 0. 0. 0. 0. 0. 0. 0. 0. 0. 0. 0. 0. 0.\n",
      " 0. 0. 0. 0. 0. 0. 0. 0. 0. 0. 0. 0. 0. 0. 0. 0. 0. 0. 0. 0. 0. 0. 0. 0.\n",
      " 0. 0. 0. 0. 0. 0. 0. 0. 0. 0. 0. 0. 0. 0. 0. 0. 0. 0. 0. 0. 0. 0. 0. 0.\n",
      " 0. 0. 0. 0. 0. 0. 0. 0. 0. 0. 0. 0. 0. 0. 0. 0. 0. 0. 0. 0. 0. 0. 0. 0.\n",
      " 0. 0. 0. 0. 0. 0. 0. 0. 0. 0. 0. 0. 0. 0. 0. 0. 0. 0. 0. 0. 0. 0. 0. 0.\n",
      " 0. 0. 0. 0. 0. 0. 0. 0. 0. 0. 0. 0. 0. 0. 0. 0. 0. 0. 0. 0. 0. 0. 0. 0.\n",
      " 0. 0. 0. 0. 0. 0. 0. 0. 0. 0. 0. 0. 0. 0. 0. 0. 0. 0. 0. 0. 0. 0. 0. 0.\n",
      " 0. 0. 0. 0. 0. 0. 0. 0. 0. 0. 0. 0. 0. 0. 0. 0. 0. 0. 0. 0. 0. 0. 0. 0.\n",
      " 0. 0. 0. 0. 0. 0. 0. 0. 0. 0. 0. 0. 0. 0. 0. 0. 0. 0. 0. 0. 0. 0. 0. 0.\n",
      " 0. 0. 0. 0. 0. 0. 0. 0. 0. 0. 0. 0. 0. 0. 0. 0. 0. 0. 0. 0. 0. 0. 0. 0.\n",
      " 0. 0. 0. 0. 0. 0. 0. 0. 0. 0. 0. 0. 0. 0. 0. 0. 0. 0. 0. 0. 0. 0. 0. 0.\n",
      " 0. 0. 0. 0. 0. 0. 0. 0. 0. 0. 0. 0. 0. 0. 0. 0. 0. 0. 0. 0. 0. 0. 0. 0.\n",
      " 0. 0. 0. 0. 0. 0. 0. 0. 0. 0. 0. 0. 0. 0. 0. 0. 0. 0. 0. 0. 0. 0. 0. 0.\n",
      " 0. 0. 0. 0. 0. 0. 0. 0. 0. 0. 0. 0. 0. 0. 0. 0. 0. 0. 0. 0. 0. 0. 0. 0.\n",
      " 0. 0. 0. 0. 0. 0. 0. 0. 0. 0. 0. 0. 0. 0. 0. 0. 0. 0. 0. 0. 0. 0. 0. 0.\n",
      " 0. 0. 0. 0. 0. 0. 0. 0. 0. 0. 0. 0. 0. 0. 0. 0. 0. 0. 0. 0. 0. 0. 0. 0.\n",
      " 0. 0. 0. 0. 0. 0. 0. 0. 0. 0. 0. 0. 0. 0. 0. 0. 0. 0. 0. 0. 0. 0. 0. 0.\n",
      " 0. 0. 0. 0. 0. 0. 0. 0. 0. 0. 0. 0. 0. 0. 0. 0. 0. 0. 0. 0. 0. 0. 0. 0.\n",
      " 0. 0. 0. 0. 0. 0. 0. 0. 0. 0. 0. 0. 0. 0. 0. 0. 0. 0. 0. 0. 0. 0. 0. 0.\n",
      " 0. 0. 0. 0. 0. 0. 0. 0. 0. 0. 0. 0. 0. 0. 0. 0. 0. 0. 0. 0. 0. 0. 0. 0.\n",
      " 0. 0. 0. 0. 0. 0. 0. 0. 0. 0. 1. 0. 0. 0. 0. 0. 0. 0. 0. 0. 0. 0. 0. 0.\n",
      " 0. 0. 0. 0. 0. 0. 0. 0. 0. 0. 0. 0. 0. 0. 0. 0. 0. 0. 0. 0. 0. 0. 0. 0.\n",
      " 0. 0. 0. 0. 0. 0. 0. 0. 0. 0. 0. 0. 0. 0. 0. 0. 0. 0. 0. 0. 0. 0. 0. 0.\n",
      " 0. 0. 0. 0. 0. 0. 0. 0. 0. 0. 0. 0. 0. 0. 0. 0. 0. 0. 0. 0. 0. 0. 0. 0.\n",
      " 0. 0. 0. 0. 0. 0. 0. 0. 0. 0. 0. 0. 0. 0. 0. 0. 0. 0. 0. 0. 0. 0. 0. 0.\n",
      " 0. 0. 0. 0. 0. 0. 0. 0. 0. 0. 0. 0. 0. 0. 0. 0. 0. 0. 0. 0. 0. 0. 0. 0.\n",
      " 0. 0. 0. 0. 0. 0. 0. 0. 0. 0. 0. 0. 0. 0. 0. 0. 0. 0. 0. 0. 0. 0. 0. 0.\n",
      " 0. 0. 0. 0. 0. 0. 0. 0. 0. 0. 0. 0. 0. 0. 0. 0. 0. 0. 0. 0. 0. 0. 0. 0.\n",
      " 0. 0. 0. 0. 0. 0. 0. 0. 0. 0. 0. 0. 0. 0. 0. 0. 0. 0. 0. 0. 0. 0. 0. 0.\n",
      " 0. 0. 0. 0. 0. 0. 0. 0. 0. 0. 0. 0. 0. 0. 0. 0. 0. 0. 0. 0. 0. 0. 0. 0.\n",
      " 0. 0. 0. 0. 0. 0. 0. 0. 0. 0. 0. 0. 0. 0. 0. 0. 0. 0. 0. 0. 0. 0. 0. 0.\n",
      " 0. 0. 0. 0. 0. 0. 0. 0. 0. 0. 0. 0. 0. 0. 0. 0. 0. 0. 0. 0. 0. 0. 0. 0.\n",
      " 0. 0. 0. 0. 0. 0. 0. 0. 0. 0. 0. 0. 0. 0. 0. 0. 0. 0. 0. 0. 0. 0. 0. 0.\n",
      " 0. 0. 0. 0. 0. 0. 0. 0. 0. 0. 0. 0. 0. 0. 0. 0. 0. 0. 0. 0. 0. 0. 0. 0.\n",
      " 0. 0. 0. 0. 0. 0. 0. 0. 0. 0. 0. 0. 0. 0. 0. 0. 0. 0. 0. 0. 0. 0. 0. 0.\n",
      " 0. 0. 0. 0. 0. 0. 0. 0. 0. 0. 0. 0. 0. 0. 0. 0.]\n"
     ]
    }
   ],
   "source": [
    "print(results.shape)\n",
    "print(results[0][0])"
   ]
  },
  {
   "cell_type": "markdown",
   "metadata": {},
   "source": [
    "## Word Embedding"
   ]
  },
  {
   "cell_type": "code",
   "execution_count": 71,
   "metadata": {},
   "outputs": [],
   "source": [
    "import keras\n",
    "from keras.layers import Embedding\n",
    "\n",
    "# The Embedding layer takes at least two arguments:\n",
    "# the number of possible tokens, here 1000 (1 + maximum word index),\n",
    "# and the dimensionality of the embeddings, here 64.\n",
    "embedding_layer = Embedding(1000, 64) #1000:등록된 단어의 개수 64:embedding vector의 차원 수(프린트에서는 2)=hidden layer의 노드가 64개 "
   ]
  },
  {
   "cell_type": "code",
   "execution_count": 72,
   "metadata": {},
   "outputs": [],
   "source": [
    "from keras.datasets import imdb\n",
    "from keras import preprocessing\n",
    "\n",
    "# Number of words to consider as features\n",
    "max_features = 10000 #상위 1000개 단어를 feature로 설정 \n",
    "# Cut texts after this number of words \n",
    "# (among top max_features most common words)\n",
    "maxlen = 20 #각 문서의 앞 20개 단어만을 조회 \n",
    "\n",
    "# Load the data as lists of integers.\n",
    "(x_train, y_train), (x_test, y_test) = imdb.load_data(num_words=max_features)\n",
    "\n",
    "# This turns our lists of integers into a 2D integer tensor of shape `(samples, maxlen)`\n",
    "x_train = preprocessing.sequence.pad_sequences(x_train, maxlen=maxlen)\n",
    "x_test = preprocessing.sequence.pad_sequences(x_test, maxlen=maxlen)"
   ]
  },
  {
   "cell_type": "code",
   "execution_count": 76,
   "metadata": {},
   "outputs": [
    {
     "name": "stdout",
     "output_type": "stream",
     "text": [
      "(25000, 20)\n",
      "[  65   16   38 1334   88   12   16  283    5   16 4472  113  103   32\n",
      "   15   16 5345   19  178   32]\n",
      "[  23    4 1690   15   16    4 1355    5   28    6   52  154  462   33\n",
      "   89   78  285   16  145   95]\n"
     ]
    }
   ],
   "source": [
    "print(x_train.shape)\n",
    "print(x_train[0]) #20개 단어에 대한 등록 번호 \n",
    "print(x_train[1])"
   ]
  },
  {
   "cell_type": "code",
   "execution_count": 77,
   "metadata": {},
   "outputs": [
    {
     "name": "stdout",
     "output_type": "stream",
     "text": [
      "_________________________________________________________________\n",
      "Layer (type)                 Output Shape              Param #   \n",
      "=================================================================\n",
      "embedding_2 (Embedding)      (None, 20, 8)             80000     \n",
      "_________________________________________________________________\n",
      "flatten_1 (Flatten)          (None, 160)               0         \n",
      "_________________________________________________________________\n",
      "dense_1 (Dense)              (None, 1)                 161       \n",
      "=================================================================\n",
      "Total params: 80,161\n",
      "Trainable params: 80,161\n",
      "Non-trainable params: 0\n",
      "_________________________________________________________________\n",
      "Train on 20000 samples, validate on 5000 samples\n",
      "Epoch 1/10\n",
      "20000/20000 [==============================] - 1s 53us/step - loss: 0.6759 - acc: 0.6050 - val_loss: 0.6398 - val_acc: 0.6814\n",
      "Epoch 2/10\n",
      "20000/20000 [==============================] - 1s 50us/step - loss: 0.5658 - acc: 0.7425 - val_loss: 0.5467 - val_acc: 0.7206\n",
      "Epoch 3/10\n",
      "20000/20000 [==============================] - 1s 42us/step - loss: 0.4752 - acc: 0.7808 - val_loss: 0.5113 - val_acc: 0.7384\n",
      "Epoch 4/10\n",
      "20000/20000 [==============================] - 1s 41us/step - loss: 0.4263 - acc: 0.8077 - val_loss: 0.5008 - val_acc: 0.7452\n",
      "Epoch 5/10\n",
      "20000/20000 [==============================] - 1s 43us/step - loss: 0.3930 - acc: 0.8258 - val_loss: 0.4981 - val_acc: 0.7536\n",
      "Epoch 6/10\n",
      "20000/20000 [==============================] - 1s 43us/step - loss: 0.3668 - acc: 0.8395 - val_loss: 0.5014 - val_acc: 0.7530\n",
      "Epoch 7/10\n",
      "20000/20000 [==============================] - 1s 40us/step - loss: 0.3435 - acc: 0.8533 - val_loss: 0.5052 - val_acc: 0.7520\n",
      "Epoch 8/10\n",
      "20000/20000 [==============================] - 1s 40us/step - loss: 0.3223 - acc: 0.8657 - val_loss: 0.5132 - val_acc: 0.7486\n",
      "Epoch 9/10\n",
      "20000/20000 [==============================] - 1s 40us/step - loss: 0.3022 - acc: 0.8767 - val_loss: 0.5213 - val_acc: 0.7492\n",
      "Epoch 10/10\n",
      "20000/20000 [==============================] - 1s 44us/step - loss: 0.2839 - acc: 0.8860 - val_loss: 0.5303 - val_acc: 0.7466\n"
     ]
    }
   ],
   "source": [
    "from keras.models import Sequential\n",
    "from keras.layers import Flatten, Dense\n",
    "\n",
    "model = Sequential()\n",
    "# We specify the maximum input length to our Embedding layer so we can later flatten the embedded inputs\n",
    "model.add(Embedding(10000, 8, input_length=maxlen)) #10000차원을 가지는 one-hot encoding vector가 들어옴 8차원의 word embedding vector가 만들어짐\n",
    "#input_length=maxlen각 문서에서 20개 단어만 보겠다  maxlen: 추출단어수  #10000 8 20이 무엇을 의미하는지 구별할 것!\n",
    "# After the Embedding layer, our activations have shape `(samples, maxlen, 8)`.\n",
    "#하나의 단어에 대해서 8차원 벡터가 만들어짐x20개 단어를 만듬 -> 2D tensor --> 이것을 NN에 넣을 것임!(20X8=160개 노드를 가지는!)\n",
    "# We flatten the 3D tensor of embeddings  into a 2D tensor of shape `(samples, maxlen * 8)`\n",
    "model.add(Flatten())\n",
    "\n",
    "# We add the classifier on top\n",
    "model.add(Dense(1, activation='sigmoid')) #IMDB는 긍정 OR 부정을 판단하는 데이터이므로 1!\n",
    "model.compile(optimizer='rmsprop', loss='binary_crossentropy', metrics=['acc'])\n",
    "model.summary()\n",
    "\n",
    "history = model.fit(x_train, y_train,\n",
    "                    epochs=10,\n",
    "                    batch_size=32,\n",
    "                    validation_split=0.2)\n",
    "##160개의 노드를 가지는 input layer - 1개의 노드를 가지는 output layer -> 각 노드의 확률값이 0.5이상이면 긍, 이하면 부 "
   ]
  },
  {
   "cell_type": "code",
   "execution_count": 80,
   "metadata": {},
   "outputs": [
    {
     "data": {
      "image/png": "[encoded data removed]",
      "text/plain": [
       "<Figure size 432x288 with 1 Axes>"
      ]
     },
     "metadata": {
      "needs_background": "light"
     },
     "output_type": "display_data"
    },
    {
     "data": {
      "image/png": "[encoded data removed]",
      "text/plain": [
       "<Figure size 432x288 with 1 Axes>"
      ]
     },
     "metadata": {
      "needs_background": "light"
     },
     "output_type": "display_data"
    }
   ],
   "source": [
    "import matplotlib.pyplot as plt\n",
    "\n",
    "acc = history.history['acc']\n",
    "val_acc = history.history['val_acc']\n",
    "loss = history.history['loss']\n",
    "val_loss = history.history['val_loss']\n",
    "\n",
    "epochs = range(1, len(acc) + 1)\n",
    "\n",
    "plt.plot(epochs, acc, 'bo', label='Training acc')\n",
    "plt.plot(epochs, val_acc, 'b', label='Validation acc')\n",
    "plt.title('Training and validation accuracy')\n",
    "plt.legend()\n",
    "\n",
    "plt.figure()\n",
    "\n",
    "plt.plot(epochs, loss, 'bo', label='Training loss')\n",
    "plt.plot(epochs, val_loss, 'b', label='Validation loss')\n",
    "plt.title('Training and validation loss')\n",
    "plt.legend()\n",
    "\n",
    "plt.show()"
   ]
  },
  {
   "cell_type": "markdown",
   "metadata": {},
   "source": [
    "## Putting it all together: from raw text to word embeddings¶"
   ]
  },
  {
   "cell_type": "code",
   "execution_count": 41,
   "metadata": {
    "collapsed": true
   },
   "outputs": [],
   "source": [
    "# head to http://ai.stanford.edu/~amaas/data/sentiment/ and \n",
    "# download the raw IMDB dataset (if the URL isn't working anymore, just Google \"IMDB dataset\"). Uncompress it.\n",
    "import os\n",
    "\n",
    "#imdb_dir = '/home/ubuntu/data/aclImdb'\n",
    "imdb_dir = 'C:/Temp/aclImdb_v1/aclImdb' #train과 test folder -> train folder안에 pos, neg folder존재 \n",
    "\n",
    "train_dir = os.path.join(imdb_dir, 'train') #train folder 지정 \n",
    "\n",
    "labels = []\n",
    "texts = []\n",
    "\n",
    "for label_type in ['neg', 'pos']:\n",
    "    dir_name = os.path.join(train_dir, label_type) #label type: pos/neg\n",
    "    for fname in os.listdir(dir_name):\n",
    "        if fname[-4:] == '.txt':\n",
    "            f = open(os.path.join(dir_name, fname), 'rt', encoding='UTF8')\n",
    "            texts.append(f.read())\n",
    "            f.close()\n",
    "            if label_type == 'neg':\n",
    "                labels.append(0) #negative면 0 문서가 100개라고 한다면 문서 각각의 단어에 0 or1!\n",
    "            else:\n",
    "                labels.append(1)"
   ]
  },
  {
   "cell_type": "markdown",
   "metadata": {},
   "source": [
    "## Tokenize the data"
   ]
  },
  {
   "cell_type": "code",
   "execution_count": 68,
   "metadata": {},
   "outputs": [
    {
     "name": "stdout",
     "output_type": "stream",
     "text": [
      "Found 88582 unique tokens.\n",
      "Shape of data tensor: (25000, 100)\n",
      "Shape of label tensor: (25000,)\n"
     ]
    }
   ],
   "source": [
    "from keras.preprocessing.text import Tokenizer\n",
    "from keras.preprocessing.sequence import pad_sequences\n",
    "import numpy as np\n",
    "\n",
    "maxlen = 100  # We will cut reviews after 100 words\n",
    "training_samples = 2000  # We will be training on 200 samples\n",
    "validation_samples = 10000  # We will be validating on 10000 samples\n",
    "max_words = 10000  # We will only consider the top 10,000 words in the dataset\n",
    "\n",
    "tokenizer = Tokenizer(num_words=max_words)\n",
    "tokenizer.fit_on_texts(texts)\n",
    "sequences = tokenizer.texts_to_sequences(texts)  ##이게 뭐라고? 각 단어에 해당하는 정수 코드를 부여 #이 변수는 해당문서가 정수화된 값을 포함하고 있음 \n",
    "\n",
    "word_index = tokenizer.word_index #dict type임 #tokenize객체 안에 word_index #getting은 394번 처럼 각 단어마다 unique code 가짐\n",
    "print('Found %s unique tokens.' % len(word_index))\n",
    "\n",
    "data = pad_sequences(sequences, maxlen=maxlen) #100개 단어에 대해서만  #한 줄이 하나의 문서(25000개의 문서에 대해서 각 문서마다 100개의 단어에 대해 정수값!)\n",
    "\n",
    "labels = np.asarray(labels)\n",
    "print('Shape of data tensor:', data.shape)  ##결과 뭔지 알기!!!!\n",
    "print('Shape of label tensor:', labels.shape)\n",
    "\n",
    "# Split the data into a training set and a validation set\n",
    "# But first, shuffle the data, since we started from data\n",
    "# where sample are ordered (all negative first, then all positive).\n",
    "indices = np.arange(data.shape[0]) #25000 #0~24999까지 정수를 가지는 array가 생김 \n",
    "np.random.shuffle(indices)  #학습의 효과를 얻기 위해 랜덤성 필요 \n",
    "data = data[indices]\n",
    "labels = labels[indices]\n",
    "\n",
    "x_train = data[:training_samples]  #array를 train과 validate으로 구분 \n",
    "y_train = labels[:training_samples]\n",
    "x_val = data[training_samples: training_samples + validation_samples]\n",
    "y_val = labels[training_samples: training_samples + validation_samples]"
   ]
  },
  {
   "cell_type": "markdown",
   "metadata": {},
   "source": [
    "## Download the GloVe word embeddings"
   ]
  },
  {
   "cell_type": "markdown",
   "metadata": {},
   "source": [
    "### Head to https://nlp.stanford.edu/projects/glove/ (where you can learn more about the GloVe algorithm), and\n",
    "### download the pre-computed embeddings from 2014 English Wikipedia. \n",
    "### It's a 822MB zip file named glove.6B.zip, containing 100-dimensional embedding vectors for 400,000 words (or non-word tokens). Un-zip it."
   ]
  },
  {
   "cell_type": "code",
   "execution_count": 51,
   "metadata": {},
   "outputs": [
    {
     "name": "stdout",
     "output_type": "stream",
     "text": [
      "Found 400000 word vectors.\n"
     ]
    }
   ],
   "source": [
    "import os\n",
    "import numpy as np\n",
    "\n",
    "# glove_dir = 'C:/Temp/home/ubuntu/data/'\n",
    "glove_dir = 'C:/Temp/glove.6B' #아주 많은 단어에 대한 임베딩 벡터를 포함하고 있는 파일 \n",
    "\n",
    "#open('파일경로.txt', 'rt', encoding='UTF8')\n",
    "\n",
    "#각 단어가 100차원으로 각각 임베딩 된 것이 텍스트로 있는 상태. -> 한 줄씩 가져와 메모리에 쌓는다!\n",
    "embeddings_index = {}\n",
    "f = open(os.path.join(glove_dir, 'glove.6B.100d.txt'), 'rt', encoding='UTF8') #encoding! #text를 한 단어씩 잘라서 넣음 \n",
    "for line in f:\n",
    "    values = line.split()\n",
    "    word = values[0]\n",
    "    coefs = np.asarray(values[1:], dtype='float32')\n",
    "    embeddings_index[word] = coefs #단어에 대한 벡터가 key value로 들어감! #각 단어에 대한 벡터가 포함되어있음 \n",
    "f.close()\n",
    "\n",
    "print('Found %s word vectors.' % len(embeddings_index))\n",
    "##이미 학습되어진 glove embedding으로 갈아끼워서 imdb를 분류하고자 한다!"
   ]
  },
  {
   "cell_type": "code",
   "execution_count": 62,
   "metadata": {},
   "outputs": [
    {
     "name": "stdout",
     "output_type": "stream",
     "text": [
      "(100,)\n"
     ]
    },
    {
     "data": {
      "text/plain": [
       "array([ 0.6958   , -0.19334  , -0.78134  , -0.45589  ,  0.29245  ,\n",
       "        0.36482  ,  0.42036  ,  0.39444  , -0.82601  ,  0.95148  ,\n",
       "       -0.57458  , -0.60882  ,  0.17639  ,  1.2112   , -0.40965  ,\n",
       "       -0.30992  ,  1.036    ,  0.14459  , -0.66125  , -0.15301  ,\n",
       "       -0.60274  ,  0.43769  ,  0.09964  ,  0.084613 , -0.13351  ,\n",
       "       -0.66612  ,  0.30282  , -1.2281   ,  0.20226  , -0.025091 ,\n",
       "       -1.0822   ,  1.2366   ,  0.027486 ,  0.49969  , -1.3037   ,\n",
       "       -0.52735  , -0.72448  ,  0.64823  , -1.0533   , -0.051606 ,\n",
       "       -1.1125   , -0.21037  , -0.86862  , -0.55893  , -0.12559  ,\n",
       "       -0.16766  ,  1.2164   ,  0.68335  ,  0.0060452,  0.28108  ,\n",
       "        0.42866  , -1.0092   ,  0.40758  , -0.19904  , -0.5442   ,\n",
       "       -2.7965   , -0.11892  , -0.98139  ,  1.0011   ,  0.13492  ,\n",
       "       -0.16678  ,  0.4366   , -0.022247 , -0.30683  ,  0.26983  ,\n",
       "        0.18009  , -0.12419  ,  1.1771   ,  0.90273  ,  1.6263   ,\n",
       "       -0.20432  ,  0.33125  ,  0.2568   , -0.23611  , -0.81554  ,\n",
       "        0.043468 ,  0.73481  , -0.013573 , -0.61923  , -0.12357  ,\n",
       "        0.62513  ,  0.056706 , -0.97017  , -0.78679  , -1.1703   ,\n",
       "        0.71415  ,  0.36938  , -0.75784  ,  0.51497  , -0.62676  ,\n",
       "        0.67614  , -0.79938  ,  0.079331 ,  0.66952  , -0.92109  ,\n",
       "        0.81398  , -0.27845  , -0.31299  ,  0.91102  ,  0.11231  ],\n",
       "      dtype=float32)"
      ]
     },
     "execution_count": 62,
     "metadata": {},
     "output_type": "execute_result"
    }
   ],
   "source": [
    "print(embeddings_index['university'].shape)\n",
    "embeddings_index['university'] #100차원으로 임베딩된 단어가 엄청 많은데, 그 중 university에 대해서 본 것 "
   ]
  },
  {
   "cell_type": "code",
   "execution_count": 69,
   "metadata": {},
   "outputs": [],
   "source": [
    "# Number of words to consider as features  \n",
    "max_words = 10000\n",
    "max_features = 10000\n",
    "\n",
    "embedding_dim = 100\n",
    "\n",
    "embedding_matrix = np.zeros((max_words, embedding_dim))  # imdb에 존재하는 각 단어에 대한 임베딩 벡터를 glove에서 가져와서 모아놓은 결과!\n",
    "for word, i in word_index.items():\n",
    "    embedding_vector = embeddings_index.get(word)  #그 word에 해당하는 임베딩 벡터를 가져온 내용이 embedding_vector에 들어감 \n",
    "    if i < max_words:\n",
    "        if embedding_vector is not None:\n",
    "            # Words not found in embedding index will be all-zeros.\n",
    "            embedding_matrix[i] = embedding_vector #i번째 행에 가져온 임베딩 벡터를 넣겠다. \n",
    "            #imdb에 존재하는 각단어에 대해서 i번째 code를 가지면 i번째 행에다가 glove에서 가져온 벡터를 배치시킴\n",
    "            #i번째 행을 가지고 imdb를 긍/부 로 분류! "
   ]
  },
  {
   "cell_type": "markdown",
   "metadata": {},
   "source": [
    "## Model Definition"
   ]
  },
  {
   "cell_type": "code",
   "execution_count": 70,
   "metadata": {},
   "outputs": [
    {
     "name": "stdout",
     "output_type": "stream",
     "text": [
      "_________________________________________________________________\n",
      "Layer (type)                 Output Shape              Param #   \n",
      "=================================================================\n",
      "embedding_5 (Embedding)      (None, 100, 100)          1000000   \n",
      "_________________________________________________________________\n",
      "flatten_5 (Flatten)          (None, 10000)             0         \n",
      "_________________________________________________________________\n",
      "dense_9 (Dense)              (None, 32)                320032    \n",
      "_________________________________________________________________\n",
      "dense_10 (Dense)             (None, 1)                 33        \n",
      "=================================================================\n",
      "Total params: 1,320,065\n",
      "Trainable params: 1,320,065\n",
      "Non-trainable params: 0\n",
      "_________________________________________________________________\n"
     ]
    }
   ],
   "source": [
    "from keras.models import Sequential\n",
    "from keras.layers import Embedding, Flatten, Dense\n",
    "\n",
    "model = Sequential()\n",
    "model.add(Embedding(max_words, embedding_dim, input_length=maxlen)) #embedding layer를 통해 나온 2d layer #glove라고 하는 embedding vector를 넣은 것!\n",
    "model.add(Flatten()) #2d tensor를 flatten \n",
    "model.add(Dense(32, activation='relu'))\n",
    "model.add(Dense(1, activation='sigmoid')) #긍or부이므로 sigmoid\n",
    "model.summary()  #embedding matrix 값 param 100*10000 = 1000000"
   ]
  },
  {
   "cell_type": "markdown",
   "metadata": {},
   "source": [
    "### Load the GloVe embeddings in the model"
   ]
  },
  {
   "cell_type": "code",
   "execution_count": 71,
   "metadata": {},
   "outputs": [],
   "source": [
    "model.layers[0].set_weights([embedding_matrix]) #embedding_matrix: glove에서 학습되어진 데이터 #0번째 layer에 넣어서 weight setting \n",
    "#단어를 2차원벡터로 임베딩하는 부분을 glove에서 해가지고 가져온대!-> 이 부분 바꿔줘야함 \n",
    "#첫번째 layer에 embedding_matrix를 넣어 !\n",
    "model.layers[0].trainable = False #0번째 weight는 바뀌지 못하도록 억제 glove에서 받은 그대로 쓰기 위함! "
   ]
  },
  {
   "cell_type": "markdown",
   "metadata": {},
   "source": [
    "### Train and Evaluate"
   ]
  },
  {
   "cell_type": "code",
   "execution_count": 72,
   "metadata": {},
   "outputs": [
    {
     "name": "stdout",
     "output_type": "stream",
     "text": [
      "Train on 2000 samples, validate on 10000 samples\n",
      "Epoch 1/20\n",
      "2000/2000 [==============================] - 2s 895us/step - loss: 0.8305 - acc: 0.4990 - val_loss: 0.6932 - val_acc: 0.4969\n",
      "Epoch 2/20\n",
      "2000/2000 [==============================] - 1s 569us/step - loss: 0.7016 - acc: 0.5075 - val_loss: 0.6936 - val_acc: 0.4955\n",
      "Epoch 3/20\n",
      "2000/2000 [==============================] - 1s 658us/step - loss: 0.6929 - acc: 0.5500 - val_loss: 0.7303 - val_acc: 0.5029\n",
      "Epoch 4/20\n",
      "2000/2000 [==============================] - 1s 575us/step - loss: 0.6471 - acc: 0.6155 - val_loss: 0.7046 - val_acc: 0.4960\n",
      "Epoch 5/20\n",
      "2000/2000 [==============================] - 1s 685us/step - loss: 0.5698 - acc: 0.6965 - val_loss: 0.8742 - val_acc: 0.4964\n",
      "Epoch 6/20\n",
      "2000/2000 [==============================] - 1s 635us/step - loss: 0.4826 - acc: 0.7750 - val_loss: 1.1408 - val_acc: 0.5026\n",
      "Epoch 7/20\n",
      "2000/2000 [==============================] - 1s 563us/step - loss: 0.4067 - acc: 0.8190 - val_loss: 0.9051 - val_acc: 0.4964\n",
      "Epoch 8/20\n",
      "2000/2000 [==============================] - 1s 534us/step - loss: 0.3432 - acc: 0.8655 - val_loss: 0.8562 - val_acc: 0.4975\n",
      "Epoch 9/20\n",
      "2000/2000 [==============================] - 1s 632us/step - loss: 0.2313 - acc: 0.9230 - val_loss: 1.4256 - val_acc: 0.4951\n",
      "Epoch 10/20\n",
      "2000/2000 [==============================] - 1s 552us/step - loss: 0.2037 - acc: 0.9265 - val_loss: 1.0544 - val_acc: 0.4910\n",
      "Epoch 11/20\n",
      "2000/2000 [==============================] - 1s 527us/step - loss: 0.1387 - acc: 0.9570 - val_loss: 1.7405 - val_acc: 0.4969\n",
      "Epoch 12/20\n",
      "2000/2000 [==============================] - 1s 650us/step - loss: 0.1237 - acc: 0.9610 - val_loss: 1.1180 - val_acc: 0.4972\n",
      "Epoch 13/20\n",
      "2000/2000 [==============================] - 1s 585us/step - loss: 0.0664 - acc: 0.9840 - val_loss: 1.3335 - val_acc: 0.4923\n",
      "Epoch 14/20\n",
      "2000/2000 [==============================] - 1s 557us/step - loss: 0.0723 - acc: 0.9770 - val_loss: 1.3618 - val_acc: 0.4959\n",
      "Epoch 15/20\n",
      "2000/2000 [==============================] - 1s 593us/step - loss: 0.0677 - acc: 0.9735 - val_loss: 1.3851 - val_acc: 0.4983\n",
      "Epoch 16/20\n",
      "2000/2000 [==============================] - 1s 545us/step - loss: 0.0355 - acc: 0.9895 - val_loss: 1.5178 - val_acc: 0.4952\n",
      "Epoch 17/20\n",
      "2000/2000 [==============================] - 1s 562us/step - loss: 0.0375 - acc: 0.9875 - val_loss: 1.6150 - val_acc: 0.4962\n",
      "Epoch 18/20\n",
      "2000/2000 [==============================] - 1s 560us/step - loss: 0.0600 - acc: 0.9775 - val_loss: 1.5558 - val_acc: 0.4986\n",
      "Epoch 19/20\n",
      "2000/2000 [==============================] - 1s 564us/step - loss: 0.0437 - acc: 0.9860 - val_loss: 1.6642 - val_acc: 0.4978\n",
      "Epoch 20/20\n",
      "2000/2000 [==============================] - 1s 592us/step - loss: 0.0270 - acc: 0.9960 - val_loss: 2.5544 - val_acc: 0.4969\n"
     ]
    }
   ],
   "source": [
    "model.compile(optimizer='rmsprop',\n",
    "              loss='binary_crossentropy',\n",
    "              metrics=['acc'])\n",
    "history = model.fit(x_train, y_train,\n",
    "                    epochs=20,\n",
    "                    batch_size=32,\n",
    "                    validation_data=(x_val, y_val))\n",
    "# model.save_weights('pre_trained_glove_model.h5')"
   ]
  },
  {
   "cell_type": "code",
   "execution_count": 57,
   "metadata": {},
   "outputs": [
    {
     "name": "stdout",
     "output_type": "stream",
     "text": [
      "{'acc': [0.57, 0.71, 0.755, 0.795, 0.835, 0.915, 0.99, 1.0, 0.995, 0.88, 1.0, 1.0, 1.0, 1.0, 1.0, 1.0, 1.0, 1.0, 1.0, 0.905], 'loss': [2.0046400928497317, 0.6040195894241333, 0.5003915774822235, 0.44238714456558226, 0.3296855878829956, 0.29824037075042725, 0.15049240946769715, 0.06886369556188583, 0.06963018238544465, 0.33215880058705805, 0.025890664607286454, 0.01709282398223877, 0.013666155263781548, 0.007546776123344898, 0.005522845275700092, 0.003708655945956707, 0.0028366991132497787, 0.001907289195805788, 0.0016568055748939514, 0.5747667940054089], 'val_acc': [0.4977, 0.4967, 0.494, 0.5061, 0.5059, 0.5068, 0.5112, 0.4997, 0.494, 0.5162, 0.5172, 0.5162, 0.5108, 0.5125, 0.5137, 0.5127, 0.5155, 0.5109, 0.5172, 0.5147], 'val_loss': [0.7151624618530273, 0.7589613424301147, 1.5832448808670043, 1.1000429830551148, 1.3884089136123656, 0.9310759801864624, 0.7967673076629639, 1.3659975982666015, 4.088796829986572, 0.8383270780563354, 0.87339387216568, 0.8993906516075134, 0.9695606649398804, 1.030411709690094, 0.9839331318855286, 1.0979000940322876, 1.0068946544647217, 1.183239429473877, 1.0891096364974975, 1.099858357524872]}\n",
      "(10000, 100)\n"
     ]
    }
   ],
   "source": [
    "print(history.history)\n",
    "print(x_val.shape)"
   ]
  },
  {
   "cell_type": "code",
   "execution_count": 59,
   "metadata": {},
   "outputs": [
    {
     "data": {
      "image/png": "[encoded data removed]",
      "text/plain": [
       "<Figure size 432x288 with 1 Axes>"
      ]
     },
     "metadata": {
      "needs_background": "light"
     },
     "output_type": "display_data"
    },
    {
     "data": {
      "image/png": "[encoded data removed]",
      "text/plain": [
       "<Figure size 432x288 with 1 Axes>"
      ]
     },
     "metadata": {
      "needs_background": "light"
     },
     "output_type": "display_data"
    }
   ],
   "source": [
    "import matplotlib.pyplot as plt\n",
    "\n",
    "acc = history.history['acc']\n",
    "val_acc = history.history['val_acc']\n",
    "loss = history.history['loss']\n",
    "val_loss = history.history['val_loss']\n",
    "\n",
    "epochs = range(1, len(acc) + 1)\n",
    "\n",
    "plt.plot(epochs, acc, 'bo', label='Training acc')\n",
    "plt.plot(epochs, val_acc, 'b', label='Validation acc')\n",
    "plt.title('Training and validation accuracy')\n",
    "plt.legend()\n",
    "\n",
    "plt.figure()\n",
    "\n",
    "plt.plot(epochs, loss, 'bo', label='Training loss')\n",
    "plt.plot(epochs, val_loss, 'b', label='Validation loss')\n",
    "plt.title('Training and validation loss')\n",
    "plt.legend()\n",
    "\n",
    "plt.show()"
   ]
  },
  {
   "cell_type": "markdown",
   "metadata": {},
   "source": [
    "### Without the pre-trained model"
   ]
  },
  {
   "cell_type": "code",
   "execution_count": null,
   "metadata": {},
   "outputs": [],
   "source": [
    "from keras.models import Sequential\n",
    "from keras.layers import Embedding, Flatten, Dense\n",
    "\n",
    "model = Sequential()\n",
    "model.add(Embedding(max_words, embedding_dim, input_length=maxlen))\n",
    "model.add(Flatten())\n",
    "model.add(Dense(32, activation='relu'))\n",
    "model.add(Dense(1, activation='sigmoid'))\n",
    "model.summary()\n",
    "\n",
    "model.compile(optimizer='rmsprop',\n",
    "              loss='binary_crossentropy',\n",
    "              metrics=['acc'])\n",
    "history = model.fit(x_train, y_train,\n",
    "                    epochs=10,\n",
    "                    batch_size=32,\n",
    "                    validation_data=(x_val, y_val))"
   ]
  },
  {
   "cell_type": "code",
   "execution_count": null,
   "metadata": {},
   "outputs": [],
   "source": [
    "acc = history.history['acc']\n",
    "val_acc = history.history['val_acc']\n",
    "loss = history.history['loss']\n",
    "val_loss = history.history['val_loss']\n",
    "\n",
    "epochs = range(1, len(acc) + 1)\n",
    "\n",
    "plt.plot(epochs, acc, 'bo', label='Training acc')\n",
    "plt.plot(epochs, val_acc, 'b', label='Validation acc')\n",
    "plt.title('Training and validation accuracy')\n",
    "plt.legend()\n",
    "\n",
    "plt.figure()\n",
    "\n",
    "plt.plot(epochs, loss, 'bo', label='Training loss')\n",
    "plt.plot(epochs, val_loss, 'b', label='Validation loss')\n",
    "plt.title('Training and validation loss')\n",
    "plt.legend()\n",
    "\n",
    "plt.show()"
   ]
  },
  {
   "cell_type": "markdown",
   "metadata": {},
   "source": [
    "## for Test Data"
   ]
  },
  {
   "cell_type": "code",
   "execution_count": null,
   "metadata": {},
   "outputs": [],
   "source": [
    "test_dir = os.path.join(imdb_dir, 'test')\n",
    "\n",
    "labels = []\n",
    "texts = []\n",
    "\n",
    "for label_type in ['neg', 'pos']:\n",
    "    dir_name = os.path.join(test_dir, label_type)\n",
    "    for fname in sorted(os.listdir(dir_name)):\n",
    "        if fname[-4:] == '.txt':\n",
    "            f = open(os.path.join(dir_name, fname))\n",
    "            texts.append(f.read())\n",
    "            f.close()\n",
    "            if label_type == 'neg':\n",
    "                labels.append(0)\n",
    "            else:\n",
    "                labels.append(1)\n",
    "\n",
    "sequences = tokenizer.texts_to_sequences(texts)\n",
    "x_test = pad_sequences(sequences, maxlen=maxlen)\n",
    "y_test = np.asarray(labels)"
   ]
  }
 ],
 "metadata": {
  "kernelspec": {
   "display_name": "Python 3",
   "language": "python",
   "name": "python3"
  },
  "language_info": {
   "codemirror_mode": {
    "name": "ipython",
    "version": 3
   },
   "file_extension": ".py",
   "mimetype": "text/x-python",
   "name": "python",
   "nbconvert_exporter": "python",
   "pygments_lexer": "ipython3",
   "version": "3.7.1"
  }
 },
 "nbformat": 4,
 "nbformat_minor": 2
}
